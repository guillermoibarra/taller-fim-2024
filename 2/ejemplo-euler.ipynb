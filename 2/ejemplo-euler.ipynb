{
 "cells": [
  {
   "cell_type": "code",
   "execution_count": null,
   "id": "77f2dfaa-e10c-4a6f-a17a-6ce5e787ed38",
   "metadata": {},
   "outputs": [],
   "source": [
    "def euler(f, x0, y0, xf, h):\n",
    "    x = [x0]\n",
    "    y = [y0]\n",
    "    "
   ]
  },
  {
   "cell_type": "markdown",
   "id": "7544bf79-9711-4d2c-abdd-058db0bb1ae0",
   "metadata": {},
   "source": [
    "# Euler\n",
    "\n",
    "$$\n",
    "\\begin{align}\n",
    "\\frac{dx}{dy} &=  f(x, y) \\\\\n",
    "  &= \\frac{\\Delta x}{\\Delta y} \\\\\n",
    "  h &= \\frac{x_{i+1} - x_{i}}{y_{i+1} - y_{i}}\n",
    "\\end{align}\n",
    "$$"
   ]
  },
  {
   "cell_type": "markdown",
   "id": "f4bbc443-1664-4052-8d14-ad2ce0dc6692",
   "metadata": {},
   "source": [
    "$$(y_{i+1} - y_i) h = x_{i+1} - x_i$$"
   ]
  },
  {
   "cell_type": "code",
   "execution_count": null,
   "id": "a18cb6fb-0bd7-4c1e-8587-a3fc7ae30893",
   "metadata": {},
   "outputs": [],
   "source": []
  }
 ],
 "metadata": {
  "kernelspec": {
   "display_name": "Python 3 (ipykernel)",
   "language": "python",
   "name": "python3"
  },
  "language_info": {
   "codemirror_mode": {
    "name": "ipython",
    "version": 3
   },
   "file_extension": ".py",
   "mimetype": "text/x-python",
   "name": "python",
   "nbconvert_exporter": "python",
   "pygments_lexer": "ipython3",
   "version": "3.12.5"
  }
 },
 "nbformat": 4,
 "nbformat_minor": 5
}
