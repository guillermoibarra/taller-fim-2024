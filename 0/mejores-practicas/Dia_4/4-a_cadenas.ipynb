{
 "cells": [
  {
   "cell_type": "markdown",
   "id": "d43113e8-08d3-4f25-9f97-1c5f28303e1f",
   "metadata": {},
   "source": [
    "# Introducción a la Manipulación de Datos en Python\n",
    "\n",
    "A lo largo de esta sesión, se abordarán métodos fundamentales para el manejo eficaz de datos, incluyendo la manipulación de cadenas, operaciones de entrada/salida de archivos y conversiones de tipos de datos. Estas competencias son cruciales en el ámbito de la investigación y el análisis de datos, facilitando el procesamiento avanzado y la manipulación de conjuntos de datos complejos.\n",
    "\n",
    "## Temas:\n",
    "\n",
    "1. **Lectura y Escritura de Archivos**: Profundizaremos en las operaciones de archivos en Python, una habilidad esencial para la fundamentación en la manipulación de datos.\n",
    "2. **Manipulación de Cadenas**: Se explorarán las capacidades de Python para la manipulación de cadenas, incluyendo operaciones como la división, el recorte y el formateo de las mismas.\n",
    "3. **Conversión de Tipos**: Se estudiará cómo convertir entre diferentes tipos de datos en Python, una habilidad crucial para la limpieza y transformación de datos.\n",
    "4. **Expresiones Regulares**: Se introducirán técnicas avanzadas de procesamiento de cadenas mediante expresiones regulares, ideales para la coincidencia de patrones y la extracción de datos complejos.\n",
    "\n",
    "Cada tema incluirá una base teórica sólida, aplicaciones prácticas, ejemplos ilustrativos y una serie de ejercicios diseñados para reforzar el aprendizaje adquirido.\n",
    "\n",
    "---\n",
    "\n",
    "## 1. Lectura y Escritura de Archivos\n",
    "\n",
    "La capacidad de leer y escribir archivos es fundamental en la programación y es especialmente relevante en el ámbito académico y de investigación, donde la manipulación de datos juega un papel crucial. Python ofrece una interfaz potente y flexible para el manejo de archivos, permitiendo a los usuarios leer, procesar y almacenar datos de manera eficiente.\n",
    "\n",
    "### El Patrón `with open`\n",
    "\n",
    "En el manejo de archivos con Python, el patrón `with open` se presenta como la metodología preferida debido a su eficiencia en la gestión de recursos y su elegancia sintáctica:\n",
    "\n",
    "- **Gestión de Contexto**: La instrucción `with` garantiza una gestión automática de los recursos, encapsulando la ejecución de un bloque de código con métodos definidos por un gestor de contexto, lo que simplifica el manejo de archivos.\n",
    "- **Gestión Automática de Recursos**: Al emplear `with open`, Python asegura el cierre automático del archivo al finalizar el bloque de código, incluso en casos de excepciones, previniendo así posibles corrupciones de archivos o fugas de recursos.\n",
    "- **Simplificación del Código**: Este patrón abstrae la necesidad de invocar explícitamente a `file.close()`, contribuyendo a un código más limpio y legible.\n",
    "- **Robustez en el Manejo de Errores**: Facilita un manejo de errores más robusto al garantizar que las acciones de limpieza se completen adecuadamente antes de propagar cualquier excepción.\n",
    "\n",
    "### Leyendo Archivos\n",
    "\n",
    "- **`.read()`**: Extrae el contenido completo del archivo en una cadena de texto.\n",
    "- **`.readline()`**: Lee la siguiente línea del archivo, incluyendo el carácter de fin de línea, lo cual es idóneo para la lectura secuencial sin necesidad de cargar el archivo completo en memoria.\n",
    "- **`.readlines()`**: Recupera todas las líneas del archivo y las devuelve como una lista de cadenas, adecuado para el procesamiento individualizado de cada línea.\n",
    "\n",
    "### Escribiendo Archivos\n",
    "\n",
    "- **`.write(cadena)`**: Inserta la cadena especificada en el archivo.\n",
    "- **`.writelines(lista_de_cadenas)`**: Introduce una secuencia de cadenas en el archivo.\n",
    "\n",
    "### Ejemplos Prácticos\n",
    "\n",
    "#### Lectura de un Archivo\n",
    "\n",
    "```python\n",
    "# Lectura del contenido completo\n",
    "with open('ejemplo.txt', 'r') as archivo:\n",
    "    contenido = archivo.read()\n",
    "    print(contenido)\n",
    "\n",
    "# Lectura secuencial línea por línea\n",
    "with open('ejemplo.txt', 'r') as archivo:\n",
    "    for línea in\n",
    "\n",
    " archivo:\n",
    "        print(línea, end='')  # Utilizando end='' para evitar la adición de nuevas líneas\n",
    "```\n",
    "\n",
    "#### Escritura en un Archivo\n",
    "\n",
    "```python\n",
    "# Inserción de una única cadena\n",
    "with open('salida.txt', 'w') as archivo:\n",
    "    archivo.write('Saludos desde Python.')\n",
    "\n",
    "# Inserción de múltiples líneas\n",
    "with open('salida.txt', 'w') as archivo:\n",
    "    líneas = ['Primera línea\\n', 'Segunda línea\\n']\n",
    "    archivo.writelines(líneas)\n",
    "```\n",
    "\n",
    "### Ejercicios Propuestos\n",
    "\n",
    "- Lea un archivo y determine el número total de líneas que contiene.\n",
    "- Desarrolle un programa que lea un archivo e imprima las líneas que contengan un término específico, como \"Python\".\n",
    "- Lea un archivo y genere un nuevo archivo en el que cada línea esté precedida por su número de línea correspondiente, por ejemplo, \"1: Primera línea\".\n",
    "\n",
    "El empleo del patrón `with open` en las operaciones de manejo de archivos no solo optimiza la claridad del código sino que también asegura una gestión de recursos más fiable y segura, constituyendo una práctica recomendada en la programación en Python, especialmente para operaciones de entrada/salida de archivos.\n",
    "\n",
    "---"
   ]
  },
  {
   "cell_type": "code",
   "execution_count": 3,
   "id": "f2644723-f191-4bf6-98ef-ea7bda4a6b8e",
   "metadata": {},
   "outputs": [],
   "source": [
    "# Incluir soluciones aqui"
   ]
  },
  {
   "cell_type": "markdown",
   "id": "5911a3e0-6218-4142-b522-5300aa3fdef4",
   "metadata": {},
   "source": [
    "## 2. Manipulación de Cadenas en Python\n",
    "\n",
    "### Introducción a la Manipulación de Cadenas\n",
    "\n",
    "La manipulación de cadenas es esencial en la programación de Python, especialmente en el manejo de datos, donde los datos textuales necesitan ser limpiados, analizados o transformados. Las cadenas en Python son inmutables, lo que significa que cualquier operación que modifique una cadena resulta en un nuevo objeto de cadena.\n",
    "\n",
    "### Resumen de Métodos de Cadenas\n",
    "\n",
    "A continuación, se presenta una tabla que resume algunos de los métodos de cadenas más utilizados, su uso y una breve descripción:\n",
    "\n",
    "| Método          | Ejemplo de Uso                  | Descripción                                                   |\n",
    "|-----------------|---------------------------------|---------------------------------------------------------------|\n",
    "| `split()`       | `\"a,b,c\".split(\",\")`            | Divide una cadena en una lista de subcadenas basado en un delimitador. |\n",
    "| `strip()`       | `\"  hola  \".strip()`            | Elimina los espacios en blanco iniciales y finales de una cadena.    |\n",
    "| `replace()`     | `\"perros\".replace(\"p\", \"g\")`    | Reemplaza las ocurrencias de una subcadena dentro de la cadena.    |\n",
    "| `upper()`       | `\"abc\".upper()`                 | Convierte todos los caracteres de una cadena a mayúsculas.         |\n",
    "| `lower()`       | `\"ABC\".lower()`                 | Convierte todos los caracteres de una cadena a minúsculas.         |\n",
    "| `title()`       | `\"hola mundo\".title()`          | Convierte el primer carácter de cada palabra a mayúscula.   |\n",
    "| `join()`        | `\", \".join([\"a\", \"b\", \"c\"])`    | Une los elementos de un iterable a una cadena usando una cadena como separador. |\n",
    "| `find()`        | `\"hola\".find(\"e\")`              | Devuelve el índice más bajo de una subcadena (si se encuentra) en la cadena. |\n",
    "| `capitalize()`  | `\"hola\".capitalize()`           | Pone en mayúscula la primera letra de la cadena.               |\n",
    "\n",
    "#### Transición de Cadenas a Listas y Viceversa\n",
    "\n",
    "##### Dividiendo Cadenas\n",
    "\n",
    "Dividir una cadena usando `.split(delimitador)` la convierte en una lista de subcadenas. Esto permite la aplicación de operaciones de lista, como el slicing:"
   ]
  },
  {
   "cell_type": "code",
   "execution_count": 4,
   "id": "f89136b8-0b33-4deb-941d-49c221870fb0",
   "metadata": {},
   "outputs": [
    {
     "name": "stdout",
     "output_type": "stream",
     "text": [
      "['Python', 'es', 'divertido']\n",
      "['Python', 'es']\n"
     ]
    }
   ],
   "source": [
    "texto = \"Python es divertido\"\n",
    "palabras = texto.split(\" \")  # Dividir por espacio\n",
    "print(palabras)  # ['Python', 'es', 'divertido']\n",
    "print(palabras[:2])  # ['Python', 'es'] - Slicing de lista"
   ]
  },
  {
   "cell_type": "markdown",
   "id": "1da34451-303d-4f83-852a-9491a7eb7cfe",
   "metadata": {},
   "source": [
    "##### Uniendo Listas\n",
    "\n",
    "Para convertir una lista de cadenas de nuevo en una única cadena, se utiliza el método `.join()`:"
   ]
  },
  {
   "cell_type": "code",
   "execution_count": 5,
   "id": "fc222950-2dc6-467f-b1b3-35e16da0f82c",
   "metadata": {},
   "outputs": [
    {
     "name": "stdout",
     "output_type": "stream",
     "text": [
      "Python es divertido\n"
     ]
    }
   ],
   "source": [
    "palabras = ['Python', 'es', 'divertido']\n",
    "oracion = \" \".join(palabras)  # Uniendo con un espacio como separador\n",
    "print(oracion)  # 'Python es divertido'"
   ]
  },
  {
   "cell_type": "markdown",
   "id": "8b5c2f4c-dd65-492d-97d7-66472ca8a6e2",
   "metadata": {},
   "source": [
    "### Ejemplos de Métodos Comunes\n",
    "\n",
    "#### Dividiendo y Uniendo"
   ]
  },
  {
   "cell_type": "code",
   "execution_count": 7,
   "id": "a28ca6a1-1c0e-445f-ad9f-445545ca8ccb",
   "metadata": {},
   "outputs": [
    {
     "name": "stdout",
     "output_type": "stream",
     "text": [
      "['manzana', 'plátano', 'cereza']\n",
      "manzana, plátano, cereza\n"
     ]
    }
   ],
   "source": [
    "# Dividiendo\n",
    "datos = \"manzana,plátano,cereza\"\n",
    "frutas = datos.split(\",\")\n",
    "print(frutas)  # ['manzana', 'plátano', 'cereza']\n",
    "\n",
    "# Uniendo\n",
    "frutas_cadena = \", \".join(frutas)\n",
    "print(frutas_cadena)  # 'manzana, plátano, cereza'"
   ]
  },
  {
   "cell_type": "markdown",
   "id": "2553548c-373c-42eb-bf73-018f6713f166",
   "metadata": {},
   "source": [
    "#### Recortando"
   ]
  },
  {
   "cell_type": "code",
   "execution_count": 8,
   "id": "4e77db18-cb91-4c17-a604-536afce595de",
   "metadata": {},
   "outputs": [
    {
     "name": "stdout",
     "output_type": "stream",
     "text": [
      "Python\n"
     ]
    }
   ],
   "source": [
    "# Eliminando espacios iniciales y finales\n",
    "entrada_usuario = \"   Python   \"\n",
    "entrada_limpia = entrada_usuario.strip()\n",
    "print(entrada_limpia)  # 'Python'"
   ]
  },
  {
   "cell_type": "markdown",
   "id": "690e93b9-5cbf-4707-8d09-9c1432641497",
   "metadata": {},
   "source": [
    "#### Reemplazando y Conversión de Mayúsculas y Minúsculas"
   ]
  },
  {
   "cell_type": "code",
   "execution_count": 9,
   "id": "945d89e5-ab9e-4664-987a-4fc488db987e",
   "metadata": {},
   "outputs": [
    {
     "name": "stdout",
     "output_type": "stream",
     "text": [
      "HOLA, PYTHON!\n"
     ]
    }
   ],
   "source": [
    "texto = \"Hola, Mundo!\"\n",
    "nuevo_texto = texto.replace(\"Mundo\", \"Python\").upper()\n",
    "print(nuevo_texto)  # 'HOLA, PYTHON!'"
   ]
  },
  {
   "cell_type": "markdown",
   "id": "b474e63a-ce71-441e-b836-fbaf8114bde6",
   "metadata": {},
   "source": [
    "### Problemas\n",
    "\n",
    "1. **De Cadena a Lista y Viceversa**: Dada la cadena `\"Juan, Doe, 30, Desarrollador de Software\"`, divídela por comas, recorta cada elemento y luego únelos de nuevo con un punto y coma como separador.\n",
    "2. **Formateando una Fecha**: Convierte la cadena `\"2023-12-01\"` a una forma más legible, `\"1 de diciembre de 2023\"`, usando la división de cadenas, indexación de listas y formateo de cadenas.\n",
    "3. **Manipulación de Listas**: Dada una lista de nombres de archivos, `[\"reporte.docx\", \"datos.csv\", \"presentación.pptx\"]`, crea una cadena separada por comas de las extensiones de archivo (por ejemplo, `\"docx, csv, pptx\"`). Sugerencia: Utiliza la división de cadenas y la comprensión de listas.\n",
    "4. **Reemplazo Avanzado**: Dado un párrafo, reemplaza cada instancia de `\"Python\"` por `\"Python (un poderoso lenguaje de programación)\"` sin cambiar la \"P\" inicial de Python, ya sea que esté en mayúscula o minúscula."
   ]
  },
  {
   "cell_type": "code",
   "execution_count": null,
   "id": "9c6f2d43-e552-423f-b236-9cc23f1bb644",
   "metadata": {},
   "outputs": [],
   "source": []
  },
  {
   "cell_type": "markdown",
   "id": "f719e659-ceef-4c27-8e35-edf258b45f15",
   "metadata": {},
   "source": [
    "## 3.Conversión de Tipos en Python\n",
    "\n",
    "### Antecedentes\n",
    "\n",
    "La conversión de tipos, o casting de tipos, es un aspecto fundamental de la manipulación de datos en Python, especialmente cuando se trabaja con datos provenientes de diversas fuentes como archivos de texto, entradas de usuario o APIs. Implica convertir datos de un tipo a otro para asegurar compatibilidad y prevenir errores en tiempo de ejecución.\n",
    "\n",
    "### Importancia\n",
    "\n",
    "La conversión de tipos adecuada es esencial para el análisis y la manipulación de datos, ya que permite el manejo correcto y el procesamiento de datos, asegurando la precisión en los cálculos y operaciones.\n",
    "\n",
    "### Tipos Comunes y Funciones de Conversión\n",
    "\n",
    "- **int()**: Para convertir a un entero.\n",
    "- **float()**: Para convertir a un número con punto flotante.\n",
    "- **str()**: Para convertir a una cadena de texto.\n",
    "- **list()**: Para convertir a una lista, especialmente útil para cadenas de texto u otros objetos iterables.\n",
    "\n",
    "### Incluyendo Listas en la Conversión\n",
    "\n",
    "Después de leer datos de un archivo, a menudo terminas con una lista de cadenas de texto. Antes del análisis, es crucial convertir estas cadenas a los tipos de datos correctos.\n",
    "\n",
    "#### Ejemplo:"
   ]
  },
  {
   "cell_type": "code",
   "execution_count": 14,
   "id": "50e32bda-6616-44df-9c7b-bdff87179afe",
   "metadata": {},
   "outputs": [
    {
     "name": "stdout",
     "output_type": "stream",
     "text": [
      "[1, 2, 3]\n"
     ]
    }
   ],
   "source": [
    "# Lista de cadenas representando números\n",
    "str_numeros = [\"1\", \"2\", \"3\"]\n",
    "\n",
    "# Convertir cada cadena en la lista a un entero\n",
    "int_numeros = [int(num) for num in str_numeros]\n",
    "print(int_numeros)"
   ]
  },
  {
   "cell_type": "markdown",
   "id": "3e61d460-2384-44ad-a890-0359e4ed23c7",
   "metadata": {},
   "source": [
    "### Manejo de Excepciones en la Conversión de Tipos\n",
    "\n",
    "Usar manejo de excepciones con la conversión de tipos es crucial para manejar errores de forma elegante que surgen de conversiones inapropiadas.\n",
    "\n",
    "#### Ejemplo:"
   ]
  },
  {
   "cell_type": "code",
   "execution_count": 13,
   "id": "5bcc8f0b-f2d2-4ae0-b4a8-7abbf8a1c632",
   "metadata": {},
   "outputs": [
    {
     "name": "stdout",
     "output_type": "stream",
     "text": [
      "Error de conversión: Cadena no numérica a int\n"
     ]
    }
   ],
   "source": [
    "# Intento de convertir una cadena no numérica a un entero\n",
    "try:\n",
    "    num = int(\"abc\")\n",
    "except ValueError:\n",
    "    print(\"Error de conversión: Cadena no numérica a int\")"
   ]
  },
  {
   "cell_type": "markdown",
   "id": "1f4e5d87-80bc-401d-b26f-ce6db9705241",
   "metadata": {},
   "source": [
    "#### Ejemplos Básicos de Conversión"
   ]
  },
  {
   "cell_type": "code",
   "execution_count": 11,
   "id": "4102a665-9b17-49be-8e84-ef3684125af6",
   "metadata": {},
   "outputs": [],
   "source": [
    "# Cadena a Entero\n",
    "try:\n",
    "    num_int = int(\"10\")\n",
    "except ValueError:\n",
    "    print(\"Error convirtiendo cadena a entero\")\n",
    "\n",
    "# Flotante a Entero (truncamiento)\n",
    "try:\n",
    "    num_int = int(10.75)\n",
    "except ValueError:\n",
    "    print(\"Error convirtiendo flotante a entero\")\n",
    "\n",
    "# Entero a Cadena\n",
    "num_str = str(25)"
   ]
  },
  {
   "cell_type": "markdown",
   "id": "d2eae4b7-a62b-41a0-9008-f70e1c0491c7",
   "metadata": {},
   "source": [
    "#### Ejemplos de Conversión de Listas"
   ]
  },
  {
   "cell_type": "code",
   "execution_count": 10,
   "id": "e7e0c1a3-03c4-4219-8555-e7dee7a3f5b1",
   "metadata": {},
   "outputs": [
    {
     "name": "stdout",
     "output_type": "stream",
     "text": [
      "4\n",
      "5\n",
      "6\n"
     ]
    }
   ],
   "source": [
    "# Cadena de números a lista de enteros\n",
    "lista_str_num = [\"4\", \"5\", \"6\"]\n",
    "lista_int_num = [int(num) for num in lista_str_num]\n",
    "\n",
    "# Manejo de conversión con excepción\n",
    "for num in lista_str_num:\n",
    "    try:\n",
    "        print(int(num))\n",
    "    except ValueError:\n",
    "        print(f\"Error convirtiendo {num} a entero\")"
   ]
  },
  {
   "cell_type": "markdown",
   "id": "f76d2574-3fdc-4a15-a1a9-d3d652813130",
   "metadata": {},
   "source": [
    "### Conjunto de Problemas\n",
    "\n",
    "1. Convierte la lista de cadenas `[\"10\", \"20\", \"30\"]` a una lista de enteros.\n",
    "2. Dada la lista `[\"100\", \"sin datos\", \"200\", \"300\"]`, convierte todos los elementos posibles a enteros, y maneja cualquier excepción reemplazando los elementos no convertibles con `None`.\n",
    "3. Convierte la lista `[\"1.1\", \"2.2\", \"3.3\"]` a una lista de flotantes, y luego a una lista de enteros. Observa cómo cambian los datos en cada paso.\n",
    "4. Crea una lista de tipos de datos mixtos `[1, \"2\", 3.0, \"cuatro\"]`, y escribe una función para convertir esta lista a una lista de cadenas, manejando las excepciones de forma elegante.\n",
    "5. Dada una lista de cadenas que representan valores booleanos `[\"True\", \"False\", \"true\", \"false\"]`, escribe una función para convertirlas a una lista de valores Booleanos. Considera la sensibilidad a mayúsculas y minúsculas en la conversión.\n",
    "6. Escribe una función para convertir una cadena separada por comas `\"1,2,3,4,5\"` en una lista de enteros. Maneja el caso donde la cadena pueda contener valores no numéricos, y usa el manejo de excepciones para omitirlos."
   ]
  },
  {
   "cell_type": "code",
   "execution_count": null,
   "id": "c0d8435f-2581-470e-a5a6-8b366e171011",
   "metadata": {},
   "outputs": [],
   "source": []
  },
  {
   "cell_type": "markdown",
   "id": "446dc621-e380-4897-8277-22c233ff8f87",
   "metadata": {},
   "source": [
    "---\n",
    "### 4. Expresiones Regulares\n",
    "\n",
    "#### Introducción a las Expresiones Regulares:\n",
    "Las expresiones regulares (regex) son patrones utilizados para buscar, coincidir y manipular texto. Ofrecen capacidades poderosas para el análisis y la manipulación de cadenas de texto.\n",
    "\n",
    "#### Conceptos Básicos de Expresiones Regulares:\n",
    "- **Metacaracteres**: Caracteres con significados especiales en regex, como `.` (coincide con cualquier carácter) y `*` (coincide con cero o más ocurrencias).\n",
    "- **Clases de Caracteres**: Representan grupos de caracteres, como `\\d` (dígito), `\\w` (carácter de palabra) y `\\s` (espacio en blanco).\n",
    "- **Anclas**: Indican posiciones dentro de la cadena, como `^` (inicio de la cadena) y `$` (fin de la cadena).\n",
    "- **Cuantificadores**: Determinan el número de ocurrencias, como `+` (una o más) y `{}` (número exacto).\n",
    "\n",
    "#### Formación de Patrones y Estrategias de Expresiones Regulares:\n",
    "- **Identificar el Patrón**: Determinar el patrón específico que se desea buscar o extraer del texto.\n",
    "- **Descomponerlo**: Dividir el patrón en componentes más pequeños según la estructura del texto.\n",
    "- **Usar Clases de Caracteres**: Utilizar clases de caracteres (`\\d`, `\\w`, `\\s`, etc.) para coincidir con tipos específicos de caracteres.\n",
    "- **Cuantificadores para Repetición**: Usar cuantificadores (`+`, `*`, `{}`, etc.) para especificar el número de ocurrencias de un patrón.\n",
    "- **Anclas para Posicionamiento**: Emplear anclas (`^`, `$`, `\\b`, etc.) para especificar la posición de un patrón dentro de la cadena.\n",
    "- **Agrupación con Paréntesis**: Utilizar paréntesis para agrupar partes del patrón y aplicar cuantificadores o modificadores a todo el grupo.\n",
    "- **Pruebas y Depuración**: Probar el patrón de regex en texto de muestra usando herramientas en línea de regex o el módulo `re` de Python para asegurarse de que coincida con el texto deseado.\n",
    "\n",
    "#### Uso de Expresiones Regulares para Análisis de Cadenas de Texto:\n",
    "1. **Verificar si una Cadena Comienza con un Texto Específico**:\n",
    "   - Usar el ancla `^` para coincidir con el inicio de la cadena.\n",
    "   - Ejemplo: `re.match(r'^Hola', texto)` para verificar si `texto` comienza con \"Hola\".\n",
    "\n",
    "2. **Verificar si una Palabra está en la Cadena**:\n",
    "   - Utilizar límites de palabra (`\\b`) para coincidir con palabras completas.\n",
    "   - Ejemplo: `re.search(r'\\bejemplo\\b', texto)` para verificar si \"ejemplo\" está en `texto`.\n",
    "\n",
    "#### Ejemplos Adicionales en Ciencia e Ingeniería:\n",
    "\n",
    "3. **Extracción de Números en Notación Científica**:\n",
    "   - **Caso de Uso**: Extraer números representados en notación científica (por ejemplo, 1.23e-04) de datos de texto.\n",
    "   - **Patrón de Regex**: `r'[-+]?\\b\\d+\\.\\d+(?:[eE][-+]?\\d+)?\\b'`\n",
    "   - **Explicación**: Coincide con números con signo opcional, parte decimal y parte exponencial opcional.\n",
    "   - **Código en Python**:"
   ]
  },
  {
   "cell_type": "code",
   "execution_count": 15,
   "id": "8a606797-46d7-4cbe-8a7e-fdf90c56afa1",
   "metadata": {},
   "outputs": [
    {
     "name": "stdout",
     "output_type": "stream",
     "text": [
      "Números científicos extraídos: ['1.23e-04', '-5.67e+08', '9.876E+02']\n"
     ]
    }
   ],
   "source": [
    "import re\n",
    "\n",
    "def extraer_numeros_cientificos(texto):\n",
    "    return re.findall(r'[-+]?\\b\\d+\\.\\d+(?:[eE][-+]?\\d+)?\\b', texto)\n",
    "\n",
    "# Uso del ejemplo\n",
    "texto = \"Números científicos: 1.23e-04, -5.67e+08, 9.876E+02\"\n",
    "numeros_cientificos = extraer_numeros_cientificos(texto)\n",
    "print(\"Números científicos extraídos:\", numeros_cientificos)"
   ]
  },
  {
   "cell_type": "markdown",
   "id": "ae929acc-96ec-4c4a-af9d-bd9d3bdb4047",
   "metadata": {},
   "source": [
    "4. **Análisis de Datos de Texto con Formato CSV**:\n",
    "   - **Caso de Uso**: Extraer campos de datos de texto con formato similar a un archivo CSV.\n",
    "   - **Patrón de Regex**: `r'([^,\\n]+)(?:,|$)'`\n",
    "   - **Explicación**: Coincide con caracteres que no son coma seguidos de una coma o fin de línea.\n",
    "   - **Código en Python**:"
   ]
  },
  {
   "cell_type": "code",
   "execution_count": 16,
   "id": "6ef97103-2f14-4e93-bf22-9ecbd8c9c330",
   "metadata": {},
   "outputs": [
    {
     "name": "stdout",
     "output_type": "stream",
     "text": [
      "Datos CSV analizados: ['Nombre', 'Edad', 'Alice', '30', 'Bob', '25', 'Los Ángeles']\n"
     ]
    }
   ],
   "source": [
    "import re\n",
    "\n",
    "def analizar_csv(texto):\n",
    "    return [coincidencia.group(1) for coincidencia in re.finditer(r'([^,\\n]+)(?:,|$)', texto)]\n",
    "\n",
    "# Uso del ejemplo\n",
    "texto = \"Nombre,Edad,Ubicación\\nAlice,30,Nueva York\\nBob,25,Los Ángeles\"\n",
    "datos_csv = analizar_csv(texto)\n",
    "print(\"Datos CSV analizados:\", datos_csv)\n"
   ]
  },
  {
   "cell_type": "markdown",
   "id": "c2248116-d261-4cef-b6fa-0ac203b4c10f",
   "metadata": {},
   "source": [
    "5. **Identificación de Fórmulas Químicas**:\n",
    "   - **Caso de Uso**: Extraer fórmulas químicas (por ejemplo, H2O, CO2) de datos de texto.\n",
    "   - **Patrón de Regex**: `r'\\b[A-Z][a-z]?\\d*(?:[+-]\\d+)?\\b'`\n",
    "   - **Explicación**: Coincide con una letra mayúscula seguida opcionalmente de una letra minúscula, dígitos opcionales y carga opcional.\n",
    "   - **Código en Python**:"
   ]
  },
  {
   "cell_type": "code",
   "execution_count": 17,
   "id": "b9ab5353-547a-4f34-8ae7-6db4e65756ec",
   "metadata": {},
   "outputs": [
    {
     "name": "stdout",
     "output_type": "stream",
     "text": [
      "Fórmulas químicas extraídas: []\n"
     ]
    }
   ],
   "source": [
    "import re\n",
    "\n",
    "def extraer_formulas_quimicas(texto):\n",
    "    return re.findall(r'\\b[A-Z][a-z]?\\d*(?:[+-]\\d+)?\\b', texto)\n",
    "\n",
    "# Uso del ejemplo\n",
    "texto = \"Fórmulas químicas: H2O, CO2, NaCl, FeSO4\"\n",
    "formulas = extraer_formulas_quimicas(texto)\n",
    "print(\"Fórmulas químicas extraídas:\", formulas)"
   ]
  },
  {
   "cell_type": "markdown",
   "id": "729b61c7-e2eb-4864-804d-58d5595229e7",
   "metadata": {},
   "source": [
    "6. **Análisis de Fechas en Formato ISO 8601**:\n",
    "   - **Caso de Uso**: Extraer fechas en formato ISO 8601 (AAAA-MM-DD) de datos de texto.\n",
    "   - **Patrón de Regex**: `r'\\b\\d{4}-\\d{2}-\\d{2}\\b'`\n",
    "   - **Explicación**: Coincide con cadenas en formato AAAA-MM-DD.\n",
    "   - **Código en Python**:"
   ]
  },
  {
   "cell_type": "code",
   "execution_count": 18,
   "id": "081a35c2-bf4b-4c00-9dc2-4821176e9127",
   "metadata": {},
   "outputs": [
    {
     "name": "stdout",
     "output_type": "stream",
     "text": [
      "Fechas ISO 8601 extraídas: ['2022-01-31', '2023-12-15']\n"
     ]
    }
   ],
   "source": [
    "import re\n",
    "\n",
    "def extraer_fechas_iso(texto):\n",
    "    return re.findall(r'\\b\\d{4}-\\d{2}-\\d{2}\\b', texto)\n",
    "\n",
    "# Uso del ejemplo\n",
    "texto = \"Fechas ISO 8601: 2022-01-31, 2023-12-15\"\n",
    "fechas_iso = extraer_fechas_iso(texto)\n",
    "print(\"Fechas ISO 8601 extraídas:\", fechas_iso)"
   ]
  },
  {
   "cell_type": "markdown",
   "id": "c7197b2d-cda7-4eae-8581-6c8c51675ab7",
   "metadata": {},
   "source": [
    "7. **Extracción de Mediciones Numéricas con Unidades**:\n",
    "   - **Caso de Uso**: Extraer mediciones numéricas con unidades (por ejemplo, 10 cm, 5.6 kg) de datos de texto.\n",
    "   - **Patrón de Regex**: `r'\\b\\d+(?:\\.\\d+)?\\s*[a-zA-Z]+\\b'`\n",
    "   - **Explicación**: Coincide con números (con parte decimal opcional) seguidos de espacios en blanco opcionales y caracteres alfabéticos.\n",
    "   - **Código en Python**:"
   ]
  },
  {
   "cell_type": "code",
   "execution_count": 19,
   "id": "df3de973-f1dd-440e-b8a7-22d4ef895c05",
   "metadata": {},
   "outputs": [
    {
     "name": "stdout",
     "output_type": "stream",
     "text": [
      "Mediciones extraídas: ['10 cm', '5.6 kg', '3.2 m']\n"
     ]
    }
   ],
   "source": [
    "import re\n",
    "\n",
    "def extraer_mediciones(texto):\n",
    "    return re.findall(r'\\b\\d+(?:\\.\\d+)?\\s*[a-zA-Z]+\\b', texto)\n",
    "\n",
    "# Uso del ejemplo\n",
    "texto = \"Mediciones: 10 cm, 5.6 kg, 3.2 m\"\n",
    "mediciones = extraer_mediciones(texto)\n",
    "print(\"Mediciones extraídas:\", mediciones)"
   ]
  },
  {
   "cell_type": "code",
   "execution_count": null,
   "id": "a9b4a93f-2751-4894-8584-c43ec4ef584c",
   "metadata": {},
   "outputs": [],
   "source": []
  }
 ],
 "metadata": {
  "kernelspec": {
   "display_name": "Python 3 (ipykernel)",
   "language": "python",
   "name": "python3"
  },
  "language_info": {
   "codemirror_mode": {
    "name": "ipython",
    "version": 3
   },
   "file_extension": ".py",
   "mimetype": "text/x-python",
   "name": "python",
   "nbconvert_exporter": "python",
   "pygments_lexer": "ipython3",
   "version": "3.12.5"
  }
 },
 "nbformat": 4,
 "nbformat_minor": 5
}
