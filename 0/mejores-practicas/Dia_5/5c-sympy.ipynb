{
 "cells": [
  {
   "cell_type": "markdown",
   "id": "a6de1ada-d4b5-4977-baf1-0a06856062cb",
   "metadata": {},
   "source": [
    "# VI. Matemáticas Simbólicas con SymPy\n",
    "\n",
    "## Introducción a SymPy\n",
    "\n",
    "SymPy es una biblioteca de Python para matemáticas simbólicas. Permite la computación simbólica, incluyendo manipulación algebraica, operaciones de cálculo y resolución de ecuaciones.\n",
    "\n",
    "Para comenzar a usar SymPy, impórtalo de la siguiente manera:"
   ]
  },
  {
   "cell_type": "code",
   "execution_count": 1,
   "id": "3d61dc13-8eef-4907-a378-be84456f6554",
   "metadata": {},
   "outputs": [],
   "source": [
    "import sympy as sp"
   ]
  },
  {
   "cell_type": "markdown",
   "id": "279c30f9-0f34-4cba-9782-51f41dbfe0f3",
   "metadata": {},
   "source": [
    "## Variables y Expresiones Simbólicas\n",
    "\n",
    "En SymPy, las variables se declaran como símbolos. Se pueden usar para crear expresiones simbólicas."
   ]
  },
  {
   "cell_type": "code",
   "execution_count": 11,
   "id": "5587836f-ce9c-47e5-b095-5c4e390a9df0",
   "metadata": {},
   "outputs": [],
   "source": [
    "# Declarar variables simbólicas\n",
    "x, y = sp.symbols('x y')\n",
    "\n",
    "# Crear una expresión simbólica\n",
    "expr = (x**3 + 2*x**2 - 4*x + 8)/(x**2 - 4)"
   ]
  },
  {
   "cell_type": "markdown",
   "id": "af0b3e54-b3da-43c6-b361-a9adb3dec5c3",
   "metadata": {},
   "source": [
    "## Manipulación Algebraica\n",
    "\n",
    "SymPy proporciona funciones para varias manipulaciones algebraicas como simplificación, expansión y factorización.\n",
    "\n",
    "### Simplificación"
   ]
  },
  {
   "cell_type": "code",
   "execution_count": 8,
   "id": "2bdb757a-e905-4dd6-b242-cda3fb9db4bd",
   "metadata": {},
   "outputs": [
    {
     "data": {
      "text/latex": [
       "$\\displaystyle \\frac{x^{3} + 2 x^{2} - 4 x + 8}{x^{2} - 4}$"
      ],
      "text/plain": [
       "(x**3 + 2*x**2 - 4*x + 8)/(x**2 - 4)"
      ]
     },
     "execution_count": 8,
     "metadata": {},
     "output_type": "execute_result"
    }
   ],
   "source": [
    "# Simplificar una expresión\n",
    "expr_simplificada = sp.simplify(expr)\n",
    "expr_simplificada"
   ]
  },
  {
   "cell_type": "markdown",
   "id": "3e0718b9-654c-4214-b6be-7477e7651663",
   "metadata": {},
   "source": [
    "### Expansión"
   ]
  },
  {
   "cell_type": "code",
   "execution_count": 10,
   "id": "560c75b4-d229-4aaa-9240-78952bb39681",
   "metadata": {},
   "outputs": [
    {
     "data": {
      "text/latex": [
       "$\\displaystyle \\frac{x^{3}}{x^{2} - 4} + \\frac{2 x^{2}}{x^{2} - 4} - \\frac{4 x}{x^{2} - 4} + \\frac{8}{x^{2} - 4}$"
      ],
      "text/plain": [
       "x**3/(x**2 - 4) + 2*x**2/(x**2 - 4) - 4*x/(x**2 - 4) + 8/(x**2 - 4)"
      ]
     },
     "execution_count": 10,
     "metadata": {},
     "output_type": "execute_result"
    }
   ],
   "source": [
    "# Expandir una expresión\n",
    "expr_expandida = sp.expand(expr)\n",
    "expr_expandida"
   ]
  },
  {
   "cell_type": "markdown",
   "id": "34e53a8e-d26b-4aa1-81bb-e109ea8fd17c",
   "metadata": {},
   "source": [
    "### Factorización"
   ]
  },
  {
   "cell_type": "code",
   "execution_count": 13,
   "id": "f2917a17-afb9-4106-8ded-302db295f900",
   "metadata": {},
   "outputs": [
    {
     "data": {
      "text/latex": [
       "$\\displaystyle \\frac{x^{3} + 2 x^{2} - 4 x + 8}{\\left(x - 2\\right) \\left(x + 2\\right)}$"
      ],
      "text/plain": [
       "(x**3 + 2*x**2 - 4*x + 8)/((x - 2)*(x + 2))"
      ]
     },
     "execution_count": 13,
     "metadata": {},
     "output_type": "execute_result"
    }
   ],
   "source": [
    "# Factorizar una expresión\n",
    "expr_factorizada = sp.factor(expr)\n",
    "expr_factorizada"
   ]
  },
  {
   "cell_type": "markdown",
   "id": "76a25a22-f925-49ee-bca1-b3af2e59ac2b",
   "metadata": {},
   "source": [
    "## Operaciones de Cálculo\n",
    "\n",
    "SymPy permite la diferenciación e integración simbólica de expresiones.\n",
    "\n",
    "### Diferenciación"
   ]
  },
  {
   "cell_type": "code",
   "execution_count": 14,
   "id": "2e4abd4c-b599-4211-a6e4-24573c548b27",
   "metadata": {},
   "outputs": [
    {
     "data": {
      "text/latex": [
       "$\\displaystyle - \\frac{2 x \\left(x^{3} + 2 x^{2} - 4 x + 8\\right)}{\\left(x^{2} - 4\\right)^{2}} + \\frac{3 x^{2} + 4 x - 4}{x^{2} - 4}$"
      ],
      "text/plain": [
       "-2*x*(x**3 + 2*x**2 - 4*x + 8)/(x**2 - 4)**2 + (3*x**2 + 4*x - 4)/(x**2 - 4)"
      ]
     },
     "execution_count": 14,
     "metadata": {},
     "output_type": "execute_result"
    }
   ],
   "source": [
    "# Diferenciar una expresión con respecto a una variable\n",
    "derivada = sp.diff(expr, x)\n",
    "derivada"
   ]
  },
  {
   "cell_type": "markdown",
   "id": "58fe245e-360a-44d2-b451-bc85bd24cf30",
   "metadata": {},
   "source": [
    "### Integración"
   ]
  },
  {
   "cell_type": "code",
   "execution_count": 16,
   "id": "d3b352be-9135-49c7-a4b4-c38e2eef4c77",
   "metadata": {},
   "outputs": [
    {
     "data": {
      "text/latex": [
       "$\\displaystyle \\frac{x^{2}}{2} + 2 x + 4 \\log{\\left(x - 2 \\right)} - 4 \\log{\\left(x + 2 \\right)}$"
      ],
      "text/plain": [
       "x**2/2 + 2*x + 4*log(x - 2) - 4*log(x + 2)"
      ]
     },
     "execution_count": 16,
     "metadata": {},
     "output_type": "execute_result"
    }
   ],
   "source": [
    "# Integrar una expresión con respecto a una variable\n",
    "integral = sp.integrate(expr, x)\n",
    "integral"
   ]
  },
  {
   "cell_type": "markdown",
   "id": "9789da46-d81c-4f62-97a1-10739a889b9b",
   "metadata": {},
   "source": [
    "## Temas Adicionales en SymPy\n",
    "\n",
    "### Álgebra de Matrices\n",
    "\n",
    "SymPy admite la manipulación simbólica de matrices, incluyendo cálculos de valores propios y resolución de sistemas de ecuaciones lineales de forma simbólica."
   ]
  },
  {
   "cell_type": "code",
   "execution_count": 17,
   "id": "0744780f-4d56-4adc-a073-002595d73291",
   "metadata": {},
   "outputs": [
    {
     "data": {
      "text/plain": [
       "{x - y: 1, x + y: 1}"
      ]
     },
     "execution_count": 17,
     "metadata": {},
     "output_type": "execute_result"
    }
   ],
   "source": [
    "# Manipulación simbólica de matrices\n",
    "A = sp.Matrix([[x, y], [y, x]])\n",
    "valores_propios = A.eigenvals()\n",
    "valores_propios"
   ]
  },
  {
   "cell_type": "markdown",
   "id": "671a6d91-ba3f-4505-9164-2117a7efb46c",
   "metadata": {},
   "source": [
    "### Cálculo de Variaciones\n",
    "\n",
    "SymPy proporciona herramientas para manejar problemas de cálculo de variaciones de manera simbólica, útil para optimizar funcionales."
   ]
  },
  {
   "cell_type": "code",
   "execution_count": 23,
   "id": "d32d75b7-5865-488d-bacd-dc0b1dded93a",
   "metadata": {},
   "outputs": [
    {
     "data": {
      "text/plain": [
       "[Derivative(f(x), (x, 2))]"
      ]
     },
     "execution_count": 23,
     "metadata": {},
     "output_type": "execute_result"
    }
   ],
   "source": [
    "# Importar el módulo necesario\n",
    "from sympy import solve\n",
    "\n",
    "# Definir la función y el Lagrangiano\n",
    "f = Function('f')(x)\n",
    "L = f.diff(x)**2 + f**2\n",
    "\n",
    "# Calcular la derivada del Lagrangiano respecto a f\n",
    "dL_df = L.diff(f)\n",
    "\n",
    "# Resolver la ecuación de Euler-Lagrange dL/df - d/dx(dL/df') = 0 para f(x)\n",
    "euler_lagrange_eq = diff(dL_df, x) - diff(L.diff(f.diff(x)), x)\n",
    "solucion = solve(euler_lagrange_eq, f.diff(x))\n",
    "solucion"
   ]
  },
  {
   "cell_type": "markdown",
   "id": "4d5d4a21-d435-4bfd-a965-24976333ddfd",
   "metadata": {},
   "source": [
    "### Geometría Diferencial\n",
    "\n",
    "SymPy puede manejar expresiones simbólicas relacionadas con geometría diferencial, incluyendo operaciones en tensores y formas diferenciales."
   ]
  },
  {
   "cell_type": "code",
   "execution_count": 25,
   "id": "97637d46-a0d7-45c7-9369-a0ab4e5c491d",
   "metadata": {},
   "outputs": [
    {
     "data": {
      "text/latex": [
       "$\\displaystyle \\text{rect}^{\\text{P}}_{\\text{M}}$"
      ],
      "text/plain": [
       "rect"
      ]
     },
     "execution_count": 25,
     "metadata": {},
     "output_type": "execute_result"
    }
   ],
   "source": [
    "# Geometría diferencial\n",
    "from sympy.diffgeom import Manifold, Patch, CoordSystem\n",
    "manifold = Manifold('M', 3)\n",
    "patch = Patch('P', manifold)\n",
    "rect_coords = CoordSystem('rect', patch)\n",
    "rect_coords"
   ]
  },
  {
   "cell_type": "markdown",
   "id": "e819076f-dbb9-480b-8e09-cd2da753c44e",
   "metadata": {},
   "source": [
    "### Sistemas de Control\n",
    "\n",
    "SymPy proporciona herramientas para la representación simbólica y el análisis de sistemas de control, incluyendo funciones de transferencia y análisis de estabilidad.\n"
   ]
  },
  {
   "cell_type": "code",
   "execution_count": 27,
   "id": "a693d82e-694d-4b0c-b7dc-572b004997cc",
   "metadata": {},
   "outputs": [
    {
     "data": {
      "text/latex": [
       "$\\displaystyle \\frac{x^{2} + 1}{x^{3} + x + 1}$"
      ],
      "text/plain": [
       "TransferFunction(x**2 + 1, x**3 + x + 1, s)"
      ]
     },
     "execution_count": 27,
     "metadata": {},
     "output_type": "execute_result"
    }
   ],
   "source": [
    "# Sistemas de control\n",
    "from sympy.physics.control.lti import TransferFunction\n",
    "\n",
    "# Especificar la variable para las funciones de transferencia\n",
    "s = sp.Symbol('s')\n",
    "\n",
    "# Definir las funciones de transferencia\n",
    "num = x**2 + 1\n",
    "den = x**3 + x + 1\n",
    "tf = TransferFunction(num, den, s)\n",
    "tf\n"
   ]
  },
  {
   "cell_type": "markdown",
   "id": "bccfb599-d3c8-43d6-8094-462fcbcc42dc",
   "metadata": {},
   "source": [
    "### Mecánica Cuántica\n",
    "\n",
    "SymPy se puede utilizar para cálculos simbólicos en mecánica cuántica, incluyendo la representación de estados y operadores cuánticos.\n"
   ]
  },
  {
   "cell_type": "code",
   "execution_count": 30,
   "id": "dee4c3f8-8c1a-4cdc-ba5a-29ce916d3b45",
   "metadata": {},
   "outputs": [
    {
     "data": {
      "text/latex": [
       "$\\displaystyle A {\\left|\\psi\\right\\rangle }$"
      ],
      "text/plain": [
       "A*|psi>"
      ]
     },
     "execution_count": 30,
     "metadata": {},
     "output_type": "execute_result"
    }
   ],
   "source": [
    "# Mecánica cuántica\n",
    "from sympy.physics.quantum.qapply import qapply\n",
    "\n",
    "# Definir el ket y el operador\n",
    "psi = Ket('psi')\n",
    "op = Operator('A')\n",
    "\n",
    "# Realizar la medición\n",
    "medicion = qapply(op * psi)\n",
    "medicion"
   ]
  },
  {
   "cell_type": "markdown",
   "id": "57b3e597-d672-4a00-b0e9-36b5588a987b",
   "metadata": {},
   "source": [
    "### Unidades y Constantes Físicas\n",
    "\n",
    "SymPy tiene facilidades para manejar unidades físicas y constantes de forma simbólica."
   ]
  },
  {
   "cell_type": "code",
   "execution_count": 36,
   "id": "c2f92b14-cf76-4227-9d12-81558f718d64",
   "metadata": {},
   "outputs": [
    {
     "data": {
      "text/latex": [
       "$\\displaystyle \\frac{299792458 \\text{m}}{\\text{s}}$"
      ],
      "text/plain": [
       "299792458*meter/second"
      ]
     },
     "execution_count": 36,
     "metadata": {},
     "output_type": "execute_result"
    }
   ],
   "source": [
    "from sympy.physics.units import speed_of_light, meter, second\n",
    "from sympy.physics.units import convert_to\n",
    "convert_to(speed_of_light, [meter, second])"
   ]
  },
  {
   "cell_type": "code",
   "execution_count": 37,
   "id": "6bdc93d7-22fb-463c-ac82-3bda440f3943",
   "metadata": {},
   "outputs": [
    {
     "data": {
      "text/latex": [
       "$\\displaystyle \\text{c}$"
      ],
      "text/plain": [
       "speed_of_light"
      ]
     },
     "execution_count": 37,
     "metadata": {},
     "output_type": "execute_result"
    }
   ],
   "source": [
    "convert_to(speed_of_light, [meter])"
   ]
  },
  {
   "cell_type": "code",
   "execution_count": 38,
   "id": "309f6b01-4321-4d9a-873b-67ae334de05d",
   "metadata": {},
   "outputs": [
    {
     "data": {
      "text/latex": [
       "$\\displaystyle \\frac{149896229 \\sqrt{\\text{g}} \\text{m}^{\\frac{3}{2}}}{50 \\text{s}^{2}}$"
      ],
      "text/plain": [
       "149896229*sqrt(gram)*meter**(3/2)/(50*second**2)"
      ]
     },
     "execution_count": 38,
     "metadata": {},
     "output_type": "execute_result"
    }
   ],
   "source": [
    "from sympy.physics.units.systems.si import SI\n",
    "from sympy.physics.units.systems.cgs import cgs_gauss\n",
    "from sympy.physics.units import ampere, gram, second\n",
    "convert_to(ampere, [meter, gram, second], SI)\n",
    "convert_to(ampere, [meter, gram, second], cgs_gauss)"
   ]
  },
  {
   "cell_type": "markdown",
   "id": "aec85b76-1e73-4c0b-bc00-e9e2f70b40bc",
   "metadata": {},
   "source": [
    "### Ecuaciones Diferenciales Simbólicas\n",
    "\n",
    "SymPy puede resolver ecuaciones diferenciales ordinarias y parciales simbólicamente.\n"
   ]
  },
  {
   "cell_type": "code",
   "execution_count": 40,
   "id": "3eeeeb77-670f-4bce-89a4-28e36633360b",
   "metadata": {},
   "outputs": [
    {
     "data": {
      "text/latex": [
       "$\\displaystyle f{\\left(x \\right)} = C_{1} e^{- x}$"
      ],
      "text/plain": [
       "Eq(f(x), C1*exp(-x))"
      ]
     },
     "execution_count": 40,
     "metadata": {},
     "output_type": "execute_result"
    }
   ],
   "source": [
    "# Ecuaciones diferenciales simbólicas\n",
    "from sympy import Function, Eq\n",
    "\n",
    "# Definir la función simbólica\n",
    "f = Function('f')(x)\n",
    "\n",
    "# Definir la ecuación diferencial\n",
    "eq_diferencial = Eq(f.diff(x) + f, 0)\n",
    "\n",
    "# Resolver la ecuación diferencial\n",
    "solucion = sp.dsolve(eq_diferencial)\n",
    "solucion\n"
   ]
  },
  {
   "cell_type": "markdown",
   "id": "8885c868-de9e-4af2-9479-88280233da1f",
   "metadata": {},
   "source": [
    "\n",
    "### Estadística y Probabilidad\n",
    "\n",
    "SymPy proporciona funcionalidades para la representación simbólica y manipulación de distribuciones de probabilidad y variables aleatorias.\n"
   ]
  },
  {
   "cell_type": "code",
   "execution_count": 42,
   "id": "5b1d9c44-34b7-4060-ac23-aac1486ebc07",
   "metadata": {},
   "outputs": [
    {
     "data": {
      "text/latex": [
       "$\\displaystyle \\frac{\\operatorname{erf}{\\left(\\frac{\\sqrt{2}}{2} \\right)}}{2} + \\frac{1}{2}$"
      ],
      "text/plain": [
       "erf(sqrt(2)/2)/2 + 1/2"
      ]
     },
     "execution_count": 42,
     "metadata": {},
     "output_type": "execute_result"
    }
   ],
   "source": [
    "# Estadística y probabilidad\n",
    "from sympy.stats import Normal, cdf\n",
    "\n",
    "# Crear una variable aleatoria normal\n",
    "X = Normal('X', 0, 1)\n",
    "\n",
    "# Calcular la función de distribución acumulada (CDF) para x = 1\n",
    "prob = cdf(X)(1)\n",
    "prob\n"
   ]
  },
  {
   "cell_type": "code",
   "execution_count": null,
   "id": "c21283bf-38b1-43e6-ae11-022f464e5ec1",
   "metadata": {},
   "outputs": [],
   "source": []
  }
 ],
 "metadata": {
  "kernelspec": {
   "display_name": "Python 3 (ipykernel)",
   "language": "python",
   "name": "python3"
  },
  "language_info": {
   "codemirror_mode": {
    "name": "ipython",
    "version": 3
   },
   "file_extension": ".py",
   "mimetype": "text/x-python",
   "name": "python",
   "nbconvert_exporter": "python",
   "pygments_lexer": "ipython3",
   "version": "3.11.7"
  }
 },
 "nbformat": 4,
 "nbformat_minor": 5
}
