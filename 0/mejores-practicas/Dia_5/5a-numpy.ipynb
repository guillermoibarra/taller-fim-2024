{
 "cells": [
  {
   "cell_type": "markdown",
   "id": "aaaaa951-1586-4144-a46d-2d577fa81806",
   "metadata": {},
   "source": [
    "# Introducción a la Computación Científica y Numérica en Python\n",
    "\n",
    "Este curso está diseñado para estudiantes de posgrado e investigadores que buscan aprovechar el poder de Python para cálculos científicos complejos. Python, con su rico ecosistema de bibliotecas, sirve como una plataforma ideal para tales tareas, ofreciendo tanto facilidad de uso como alto rendimiento.\n",
    "\n",
    "## ¿Por qué Python para la Computación Científica?\n",
    "\n",
    "La simplicidad de Python, combinada con su extenso ecosistema de bibliotecas, lo convierte en la opción preferida para la computación científica. Bibliotecas como NumPy, SciPy y SymPy amplían las capacidades de Python, permitiendo cálculos numéricos eficientes, análisis científicos y matemáticas simbólicas, respectivamente.\n",
    "\n",
    "## Comparación con Otras Plataformas\n",
    "\n",
    "Mientras que plataformas como MATLAB y R también son poderosas para cálculos científicos, la naturaleza de código abierto de Python, las extensas bibliotecas y la comunidad de apoyo proporcionan una ventaja única, especialmente para la investigación colaborativa y reproducible.\n",
    "\n",
    "---\n",
    "\n",
    "# Parte 1: Computación Numérica con NumPy\n",
    "\n",
    "NumPy es la biblioteca fundamental para cálculos numéricos en Python, proporcionando soporte para operaciones eficientes en grandes arreglos y matrices.\n",
    "\n",
    "## Introducción a NumPy\n",
    "\n",
    "NumPy, abreviatura de Python Numérico, es esencial para la computación científica en Python. Ofrece un objeto de arreglo multidimensional de alto rendimiento y herramientas para trabajar con estos arreglos.\n",
    "\n",
    "## Creación de Arreglos y Tipos de Datos\n",
    "\n",
    "El objeto de arreglo de NumPy es el núcleo de la biblioteca. Entender cómo crear y manipular arreglos es crucial.\n",
    "\n",
    "### Creación de Arreglos\n",
    "\n",
    "Aquí hay algunos ejemplos detallados de creación de arreglos:"
   ]
  },
  {
   "cell_type": "code",
   "execution_count": 1,
   "id": "9304e4d8-0604-46a1-8357-d5575c453154",
   "metadata": {},
   "outputs": [],
   "source": [
    "import numpy as np\n",
    "\n",
    "# Arreglo a partir de una lista\n",
    "arr1 = np.array([1, 2, 3])\n",
    "\n",
    "# Arreglo 2D (Matriz)\n",
    "arr2 = np.array([[1, 2, 3], [4, 5, 6]])\n",
    "\n",
    "# Arreglo de ceros\n",
    "zeros = np.zeros((2, 2))\n",
    "\n",
    "# Arreglo de unos\n",
    "ones = np.ones((3, 3))\n",
    "\n",
    "# Matriz identidad\n",
    "identity = np.eye(3)\n",
    "\n",
    "# Rango de elementos\n",
    "range_arr = np.arange(10)\n",
    "\n",
    "# Valores espaciados uniformemente\n",
    "linspace_arr = np.linspace(0, 1, 5)"
   ]
  },
  {
   "cell_type": "markdown",
   "id": "fced04e4-8798-4d56-9641-a3572f28e2a0",
   "metadata": {},
   "source": [
    "### Tipos de Datos\n",
    "\n",
    "Elegir el tipo de dato correcto es crucial para optimizar la eficiencia computacional y el uso de memoria. Aquí hay una tabla que resume algunos tipos de datos comunes de NumPy:\n",
    "\n",
    "| Tipo de Dato | Descripción                           |\n",
    "|--------------|---------------------------------------|\n",
    "| `int8`       | Byte (-128 a 127)                     |\n",
    "| `int16`      | Entero (-32768 a 32767)               |\n",
    "| `int32`      | Entero (-2147483648 a 2147483647)     |\n",
    "| `int64`      | Entero (-9223372036854775808 a 9223372036854775807) |\n",
    "| `float16`    | Flotante de precisión media: bit de signo, 5 bits de exponente, 10 bits de mantisa |\n",
    "| `float32`    | Flotante de precisión simple: bit de signo, 8 bits de exponente, 23 bits de mantisa |\n",
    "| `float64`    | Flotante de doble precisión: bit de signo, 11 bits de exponente, 52 bits de mantisa |\n",
    "| `complex64`  | Número complejo, representado por dos flotantes de 32 bits (componentes real e imaginario) |\n",
    "| `bool`       | Booleano (Verdadero o Falso) almacenado como un byte |\n",
    "\n",
    "Ejemplo de especificación de tipos de datos:"
   ]
  },
  {
   "cell_type": "code",
   "execution_count": 2,
   "id": "39afbc23-b0ea-4619-a508-7a04e27d1360",
   "metadata": {},
   "outputs": [],
   "source": [
    "int_array = np.array([1, 2, 3], dtype=np.int16)\n",
    "float_array = np.array([1.0, 2.0, 3.0], dtype=np.float32)"
   ]
  },
  {
   "cell_type": "markdown",
   "id": "ae6b2052-f0d2-45f5-a29b-081bf547ac71",
   "metadata": {},
   "source": [
    "## Operaciones de Matrices y Álgebra Lineal\n",
    "\n",
    "NumPy sobresale en operaciones de matrices y álgebra lineal, que son fundamentales en muchas aplicaciones de computación científica."
   ]
  },
  {
   "cell_type": "code",
   "execution_count": 4,
   "id": "f9cea1a1-a13e-4fbe-9ee0-db8e0d9920fc",
   "metadata": {},
   "outputs": [],
   "source": [
    "# Multiplicación de matrices\n",
    "A = np.array([[1, 2], [3, 4]])\n",
    "B = np.array([[5, 6], [7, 8]])\n",
    "C = np.dot(A, B)\n",
    "\n",
    "# Transpuesta de matriz\n",
    "D = A.T\n",
    "\n",
    "# Inversa\n",
    "E = np.linalg.inv(A)\n",
    "\n",
    "# Valores y vectores propios\n",
    "eigenvalues, eigenvectors = np.linalg.eig(A)\n",
    "\n",
    "# Resolviendo sistemas lineales\n",
    "coefficients = np.array([[3, 4], [2, -1]])\n",
    "constants = np.array([5, 0])\n",
    "solution = np.linalg.solve(coefficients, constants)"
   ]
  },
  {
   "cell_type": "markdown",
   "id": "6976682f-6769-40bf-bdbb-dc135c640c71",
   "metadata": {},
   "source": [
    "## Funciones Universales (ufuncs)\n",
    "\n",
    "Las funciones universales (ufuncs) son operaciones de alto rendimiento y elemento por elemento en NumPy."
   ]
  },
  {
   "cell_type": "code",
   "execution_count": 5,
   "id": "f199722d-5993-458b-a9da-dc98d2ac73c5",
   "metadata": {},
   "outputs": [],
   "source": [
    "# Función seno\n",
    "sin_arr = np.sin(np.linspace(0, np.pi, 5))\n",
    "\n",
    "# Función exponencial\n",
    "exp_arr = np.exp(np.arange(5))\n",
    "\n",
    "# Raíz cuadrada\n",
    "sqrt_arr = np.sqrt(np.arange(1, 6))"
   ]
  },
  {
   "cell_type": "markdown",
   "id": "0c8306b6-5112-4465-9202-ae60309f6e91",
   "metadata": {},
   "source": [
    "## Rendimiento y Perfilación\n",
    "\n",
    "La ventaja de rendimiento de NumPy sobre Python puro puede ser significativa, especialmente para arreglos grandes y cálculos complejos.\n",
    "\n",
    "### Comparación de Rendimiento\n"
   ]
  },
  {
   "cell_type": "code",
   "execution_count": 6,
   "id": "603a75cc-c904-4e16-98d5-b3f339853620",
   "metadata": {},
   "outputs": [
    {
     "name": "stdout",
     "output_type": "stream",
     "text": [
      "Tiempo Lista de Python: 0.051114975998643786\n",
      "Tiempo Arreglo NumPy: 0.003494298001896823\n"
     ]
    }
   ],
   "source": [
    "import timeit\n",
    "\n",
    "# Rendimiento de la lista de Python\n",
    "python_list = [i for i in range(10000)]\n",
    "tiempo_lista = timeit.timeit('sum(python_list)', globals=globals(), number=1000)\n",
    "\n",
    "# Rendimiento del arreglo de NumPy\n",
    "numpy_array = np.arange(10000)\n",
    "tiempo_numpy = timeit.timeit('np.sum(numpy_array)', globals=globals(), number=1000)\n",
    "\n",
    "print(f\"Tiempo Lista de Python: {tiempo_lista}\")\n",
    "print(f\"Tiempo Arreglo NumPy: {tiempo_numpy}\")"
   ]
  },
  {
   "cell_type": "markdown",
   "id": "47615c19-b9a9-4314-95cf-15b5151a3178",
   "metadata": {},
   "source": [
    "---\n",
    "\n",
    "# Conjunto de Problemas\n",
    "\n",
    "## Problema 1: Multiplicación de Matrices\n",
    "Dadas las matrices \\( A = \\begin{bmatrix} 2 & 4 \\\\ 5 & -6 \\end{bmatrix} \\) y \\( B = \\begin{bmatrix} 9 & -3 \\\\ 3 & 6 \\end{bmatrix} \\), calcula \\( AB \\).\n",
    "\n",
    "## Problema 2: Valores y Vectores Propios\n",
    "Encuentra los valores y vectores propios de \\( C = \\begin{bmatrix} 4 & 2 \\\\ 1 & 3 \\end{bmatrix} \\).\n",
    "\n",
    "## Problema 3: Resolución de Sistemas Lineales\n",
    "Resuelve el sistema de ecuaciones lineales: \\( 3x + 4y = 5 \\) y \\( 2x - y = 0 \\).\n",
    "\n",
    "## Problema 4: Filtrado de Arreglos\n",
    "Dado \\( D = [4, -2, 6, -3, 9, 1, -5, 4] \\), crea un arreglo filtrado que contenga solo los elementos positivos.\n",
    "\n",
    "## Problema 5: Transformada de Fourier\n",
    "Calcula la Transformada de Fourier Discreta (DFT) de \\( E = [0, 1, 2, 3, 4, 5, 6, 7] \\) usando la función FFT (Transformada Rápida de Fourier) de NumPy.\n",
    "\n",
    "## Problema 6: Rotación de Imagen\n",
    "Rota el arreglo 2D (imagen) \\( F = \\begin{bmatrix} 255 & 0 & 0 \\\\ 0 & 255 & 0 \\\\ 0 & 0 & 255 \\end{bmatrix} \\) 90 grados en el sentido de las agujas del reloj."
   ]
  },
  {
   "cell_type": "code",
   "execution_count": null,
   "id": "fa1d6886-a5d5-4dbb-ab4f-c9778a59a006",
   "metadata": {},
   "outputs": [],
   "source": []
  }
 ],
 "metadata": {
  "kernelspec": {
   "display_name": "Python 3 (ipykernel)",
   "language": "python",
   "name": "python3"
  },
  "language_info": {
   "codemirror_mode": {
    "name": "ipython",
    "version": 3
   },
   "file_extension": ".py",
   "mimetype": "text/x-python",
   "name": "python",
   "nbconvert_exporter": "python",
   "pygments_lexer": "ipython3",
   "version": "3.12.5"
  }
 },
 "nbformat": 4,
 "nbformat_minor": 5
}
