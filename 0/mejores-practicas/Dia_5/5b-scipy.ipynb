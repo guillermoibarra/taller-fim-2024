{
 "cells": [
  {
   "cell_type": "markdown",
   "id": "3f66ffea-fc00-4aed-a602-3087357d61ce",
   "metadata": {},
   "source": [
    "# Parte 2: Computación Científica con SciPy\n",
    "\n",
    "SciPy es una biblioteca esencial en el ecosistema de computación científica de Python, ofreciendo herramientas y técnicas para optimización, álgebra lineal, funciones especiales, estadísticas y más, construidas sobre las operaciones de arreglo de NumPy.\n",
    "\n",
    "## Optimización\n",
    "\n",
    "Encontrar los mínimos o máximos de funciones es una piedra angular en muchas disciplinas científicas e ingenieriles. El módulo `optimize` de SciPy proporciona un conjunto completo de algoritmos para la optimización de funciones.\n",
    "\n",
    "### Minimización sin Restricciones: Función de Rosenbrock\n",
    "\n",
    "La función de Rosenbrock, a menudo utilizada como un problema de prueba de rendimiento para algoritmos de optimización, es una función no convexa utilizada para evaluar el rendimiento de los algoritmos de optimización.\n"
   ]
  },
  {
   "cell_type": "code",
   "execution_count": 24,
   "id": "b81b9947-9aa5-4cdb-bcb6-c66c03e77d00",
   "metadata": {},
   "outputs": [
    {
     "data": {
      "text/plain": [
       "  message: Optimization terminated successfully.\n",
       "  success: True\n",
       "   status: 0\n",
       "      fun: 2.8439915001532524e-11\n",
       "        x: [ 1.000e+00  1.000e+00]\n",
       "      nit: 19\n",
       "      jac: [ 3.987e-06 -2.844e-06]\n",
       " hess_inv: [[ 4.948e-01  9.896e-01]\n",
       "            [ 9.896e-01  1.984e+00]]\n",
       "     nfev: 72\n",
       "     njev: 24"
      ]
     },
     "execution_count": 24,
     "metadata": {},
     "output_type": "execute_result"
    }
   ],
   "source": [
    "from scipy.optimize import minimize\n",
    "\n",
    "def rosenbrock(x):\n",
    "    \"\"\"La función de Rosenbrock\"\"\"\n",
    "    return (1 - x[0])**2 + 100 * (x[1] - x[0]**2)**2\n",
    "\n",
    "x0 = [0, 0]  # Adivinanza inicial\n",
    "res = minimize(rosenbrock, x0)\n",
    "res"
   ]
  },
  {
   "cell_type": "markdown",
   "id": "9b1faf82-6f20-476d-ac17-b833fa46e9db",
   "metadata": {},
   "source": [
    "### Optimización con Restricciones: Restricciones Lineales\n",
    "\n",
    "En muchos problemas del mundo real, el espacio de soluciones está restringido. SciPy maneja tales problemas de manera eficiente, permitiendo límites y restricciones en la solución."
   ]
  },
  {
   "cell_type": "code",
   "execution_count": 4,
   "id": "22bb823f-f8ae-4eac-9cbf-ca31513f24e6",
   "metadata": {},
   "outputs": [
    {
     "data": {
      "text/plain": [
       " message: Positive directional derivative for linesearch\n",
       " success: False\n",
       "  status: 8\n",
       "     fun: 0.499999999999979\n",
       "       x: [ 5.000e-01  5.000e-01]\n",
       "     nit: 10\n",
       "     jac: [ 1.000e+00  1.000e+00]\n",
       "    nfev: 62\n",
       "    njev: 6"
      ]
     },
     "execution_count": 4,
     "metadata": {},
     "output_type": "execute_result"
    }
   ],
   "source": [
    "def objetivo(x):\n",
    "    \"\"\"Función objetivo a minimizar\"\"\"\n",
    "    return x[0]**2 + x[1]**2\n",
    "\n",
    "# Restricciones definidas como desigualdades\n",
    "constraints = [{'type': 'ineq', 'fun': lambda x:  x[0] - 2},\n",
    "               {'type': 'ineq', 'fun': lambda x: -x[0] - 2},\n",
    "               {'type': 'ineq', 'fun': lambda x:  x[1] - 2},\n",
    "               {'type': 'ineq', 'fun': lambda x: -x[1] - 2}]\n",
    "\n",
    "x0 = [0.5, 0.5]  # Adivinanza inicial\n",
    "res = minimize(objetivo, x0, constraints=constraints)\n",
    "res"
   ]
  },
  {
   "cell_type": "markdown",
   "id": "0872745f-5992-41b3-a4dc-f6069658781b",
   "metadata": {},
   "source": [
    "## Álgebra Lineal\n",
    "\n",
    "SciPy mejora las capacidades de álgebra lineal de NumPy con funciones más avanzadas, cruciales para resolver sistemas de ecuaciones, problemas de valores propios y más.\n",
    "\n",
    "### Valores y Vectores Propios\n",
    "\n",
    "Los valores y vectores propios juegan un papel crucial en el análisis de estabilidad de sistemas, en mecánica cuántica y en muchas otras áreas."
   ]
  },
  {
   "cell_type": "code",
   "execution_count": 6,
   "id": "8170f85a-058d-42e2-99ab-1ead2a255169",
   "metadata": {},
   "outputs": [],
   "source": [
    "import numpy as np\n",
    "from scipy.linalg import eig\n",
    "\n",
    "A = np.array([[1, 2], [3, 4]])  # Definir una matriz\n",
    "valores_propios, vectores_propios = eig(A)"
   ]
  },
  {
   "cell_type": "markdown",
   "id": "ebf648df-cfaf-4e1f-8e1f-aecb8e99020e",
   "metadata": {},
   "source": [
    "### Descomposición en Valores Singulares (SVD)\n",
    "\n",
    "SVD es ampliamente utilizado en procesamiento de señales y estadísticas para la reducción de datos y la reducción de ruido."
   ]
  },
  {
   "cell_type": "code",
   "execution_count": 8,
   "id": "b4126dcb-f40e-4876-88b2-051a4ca2ce32",
   "metadata": {},
   "outputs": [
    {
     "data": {
      "text/plain": [
       "(array([[-0.21483724,  0.88723069,  0.40824829],\n",
       "        [-0.52058739,  0.24964395, -0.81649658],\n",
       "        [-0.82633754, -0.38794278,  0.40824829]]),\n",
       " array([1.68481034e+01, 1.06836951e+00, 4.41842475e-16]),\n",
       " array([[-0.47967118, -0.57236779, -0.66506441],\n",
       "        [-0.77669099, -0.07568647,  0.62531805],\n",
       "        [-0.40824829,  0.81649658, -0.40824829]]))"
      ]
     },
     "execution_count": 8,
     "metadata": {},
     "output_type": "execute_result"
    }
   ],
   "source": [
    "from scipy.linalg import svd\n",
    "\n",
    "A = np.array([[1, 2, 3], [4, 5, 6], [7, 8, 9]])  # Definir una matriz\n",
    "U, s, VT = svd(A)\n",
    "U, s, VT"
   ]
  },
  {
   "cell_type": "markdown",
   "id": "5e548730-4ab0-4154-814b-130394cfceb2",
   "metadata": {},
   "source": [
    "## Funciones Especiales\n",
    "\n",
    "Las funciones especiales son ubicuas en física, ingeniería y matemáticas. El módulo `special` de SciPy proporciona implementaciones eficientes de estas funciones.\n",
    "\n",
    "### Función Gamma\n",
    "\n",
    "La función Gamma extiende la función factorial a argumentos de números complejos y reales, desempeñando un papel clave en varias áreas de las matemáticas."
   ]
  },
  {
   "cell_type": "code",
   "execution_count": 9,
   "id": "b053014a-665f-4f70-b349-540cbedfad05",
   "metadata": {},
   "outputs": [],
   "source": [
    "from scipy.special import gamma\n",
    "\n",
    "x = 0.5  # Valor\n",
    "resultado = gamma(x)"
   ]
  },
  {
   "cell_type": "markdown",
   "id": "136de8e0-9f64-43c8-bf72-5d3dfec86aef",
   "metadata": {},
   "source": [
    "### Función de Error\n",
    "\n",
    "La función de error es integral para los cálculos en estadísticas, especialmente en las funciones de distribución acumulativa de variables normales.\n"
   ]
  },
  {
   "cell_type": "code",
   "execution_count": 10,
   "id": "dd4e6a5b-b394-4121-90b4-aefe5c19cef5",
   "metadata": {},
   "outputs": [],
   "source": [
    "from scipy.special import erf\n",
    "\n",
    "x = 1.0  # Valor\n",
    "resultado = erf(x)"
   ]
  },
  {
   "cell_type": "markdown",
   "id": "6c8e50f0-f40b-426b-9c72-8838762389f8",
   "metadata": {},
   "source": [
    "## Estadísticas\n",
    "\n",
    "El módulo `stats` de SciPy está equipado\n",
    "\n",
    " con una amplia gama de distribuciones de probabilidad y una creciente biblioteca de funciones estadísticas.\n",
    "\n",
    "### Estadísticas Descriptivas\n",
    "\n",
    "Las estadísticas descriptivas proporcionan medidas resumidas que describen las características principales de un conjunto de datos, ofreciendo información sobre la forma y la dispersión de la distribución de datos.\n"
   ]
  },
  {
   "cell_type": "code",
   "execution_count": 11,
   "id": "7ccbdf2c-7dc5-44e7-8094-f8744ac41241",
   "metadata": {},
   "outputs": [],
   "source": [
    "from scipy import stats\n",
    "\n",
    "datos = np.random.normal(loc=0, scale=1, size=100)  # Generar datos aleatorios\n",
    "media, std = stats.norm.fit(datos)"
   ]
  },
  {
   "cell_type": "markdown",
   "id": "079c9466-ce65-4fc2-aa45-c3c2bfb9d8ad",
   "metadata": {},
   "source": [
    "### Pruebas de Hipótesis: Prueba T\n",
    "\n",
    "Las pruebas de hipótesis se utilizan para inferir las propiedades de una población a partir de una muestra. La prueba t evalúa si las medias de dos grupos son estadísticamente diferentes.\n"
   ]
  },
  {
   "cell_type": "code",
   "execution_count": 12,
   "id": "6c913f29-9628-4cc7-b3eb-be53212f1ed5",
   "metadata": {},
   "outputs": [
    {
     "data": {
      "text/plain": [
       "(-1.9727045057127812, 0.0499210077231055)"
      ]
     },
     "execution_count": 12,
     "metadata": {},
     "output_type": "execute_result"
    }
   ],
   "source": [
    "datos1 = np.random.normal(loc=0, scale=1, size=100)\n",
    "datos2 = np.random.normal(loc=0.5, scale=1.5, size=100)\n",
    "\n",
    "t_stat, p_val = stats.ttest_ind(datos1, datos2)\n",
    "t_stat, p_val"
   ]
  },
  {
   "cell_type": "markdown",
   "id": "8371db50-d7f3-4f9d-976c-336d4fe141ee",
   "metadata": {},
   "source": [
    "## Arreglos Dispersos\n",
    "\n",
    "Los arreglos dispersos son una forma eficiente de almacenar y procesar datos que contienen un número significativo de ceros.\n",
    "\n",
    "### Creación de Matrices Dispersas\n",
    "\n",
    "Las matrices dispersas son cruciales para el almacenamiento eficiente y el cálculo en grandes conjuntos de datos o matrices donde la mayoría de los elementos son cero."
   ]
  },
  {
   "cell_type": "code",
   "execution_count": 13,
   "id": "d4acbf88-b064-4475-983e-94fb00458f5c",
   "metadata": {},
   "outputs": [
    {
     "data": {
      "text/plain": [
       "<3x3 sparse matrix of type '<class 'numpy.int64'>'\n",
       "\twith 4 stored elements in COOrdinate format>"
      ]
     },
     "execution_count": 13,
     "metadata": {},
     "output_type": "execute_result"
    }
   ],
   "source": [
    "from scipy.sparse import coo_matrix\n",
    "\n",
    "A = np.array([[1, 0, 0], [0, 0, 3], [4, 0, 5]])  # Definir una matriz\n",
    "S = coo_matrix(A)"
   ]
  },
  {
   "cell_type": "markdown",
   "id": "40c7f257-f001-4c7e-ae05-1076c67247a8",
   "metadata": {},
   "source": [
    "## Comparación de Rendimiento: SciPy vs. Python Puro\n",
    "\n",
    "Una ventaja crítica de usar SciPy en la computación científica es su rendimiento, particularmente para operaciones que son computacionalmente intensivas. Para ilustrar esto, vamos a comparar la eficiencia de resolver un gran sistema de ecuaciones lineales usando las funciones optimizadas de SciPy versus una implementación en Python puro.\n",
    "\n",
    "### Resolviendo un Gran Sistema de Ecuaciones Lineales\n",
    "\n",
    "Resolver ecuaciones lineales es una tarea común en la computación científica. Las ganancias de eficiencia al usar SciPy se hacen evidentes con grandes sistemas.\n",
    "\n",
    "#### Solucionador de Ecuaciones Lineales de SciPy\n",
    "\n",
    "`linalg.solve` de SciPy está altamente optimizado para resolver sistemas de ecuaciones lineales y puede manejar matrices grandes de manera eficiente.\n"
   ]
  },
  {
   "cell_type": "code",
   "execution_count": 23,
   "id": "b6b89348-28e5-4603-95a1-4993211abb6e",
   "metadata": {},
   "outputs": [
    {
     "data": {
      "text/plain": [
       "0.0859978199005127"
      ]
     },
     "execution_count": 23,
     "metadata": {},
     "output_type": "execute_result"
    }
   ],
   "source": [
    "from scipy.linalg import solve\n",
    "import numpy as np\n",
    "import time\n",
    "\n",
    "# Generar una matriz y vector aleatorios grandes (por ejemplo, 1000x1000)\n",
    "A = np.random.rand(1000, 1000)\n",
    "b = np.random.rand(1000)\n",
    "\n",
    "# Iniciar el cronómetro para SciPy solve\n",
    "start_time = time.time()\n",
    "\n",
    "# Resolver el sistema\n",
    "x_scipy = solve(A, b)\n",
    "\n",
    "# Detener el cronómetro\n",
    "scipy_duration = time.time() - start_time\n",
    "scipy_duration"
   ]
  },
  {
   "cell_type": "markdown",
   "id": "e1c5a27a-5119-43af-9e14-a5ea461ace9e",
   "metadata": {},
   "source": [
    "#### Solucionador de Ecuaciones Lineales en Python Puro (Eliminación Gaussiana)\n",
    "\n",
    "Una implementación ingenua en Python usando la Eliminación Gaussiana es mucho menos eficiente, especialmente para matrices grandes."
   ]
  },
  {
   "cell_type": "code",
   "execution_count": 22,
   "id": "19ae6ea5-d85e-4f4a-9239-dcfdeeb67a1b",
   "metadata": {},
   "outputs": [
    {
     "name": "stdout",
     "output_type": "stream",
     "text": [
      "18.513363122940063\n"
     ]
    }
   ],
   "source": [
    "def gaussian_elimination(A, b):\n",
    "    n = len(A)\n",
    "    # Eliminación hacia adelante\n",
    "    for i in range(n):\n",
    "        max_elem = abs(A[i][i])\n",
    "        max_row = i\n",
    "        for k in range(i+1, n):\n",
    "            if abs(A[k][i]) > max_elem:\n",
    "                max_elem = abs(A[k][i])\n",
    "                max_row = k\n",
    "        A[max_row], A[i] = A[i], A[max_row]\n",
    "        b[max_row], b[i] = b[i], b[max_row]\n",
    "        for k in range(i+1, n):\n",
    "            c = -A[k][i]/A[i][i]\n",
    "            for j in range(i, n):\n",
    "                A[k][j] += c * A[i][j]\n",
    "            b[k] += c * b[i]\n",
    "    # Sustitución hacia atrás\n",
    "    x = [0 for _ in range(n)]\n",
    "    for i in range(n-1, -1, -1):\n",
    "        x[i] = b[i] / A[i][i]\n",
    "        for k in range(i-1, -1, -1):\n",
    "            b[k] -= A[k][i] * x[i]\n",
    "    return x\n",
    "\n",
    "# Convertir arreglos de numpy a listas para Python puro\n",
    "A_list = A.tolist()\n",
    "b_list = b.tolist()\n",
    "\n",
    "# Iniciar el cronómetro para la solución en Python\n",
    "start_python_time = time.time()\n",
    "\n",
    "# Resolver usando Python puro\n",
    "x_python = gaussian_elimination(A_list, b_list)\n",
    "\n",
    "# Detener el cronómetro\n",
    "python_duration = time.time() - start_python_time\n",
    "print(python_duration)"
   ]
  },
  {
   "cell_type": "markdown",
   "id": "1049e018-f8e3-47f5-af11-c45ad27c0758",
   "metadata": {},
   "source": [
    "---\n",
    "\n",
    "### Problemas:\n",
    "\n",
    "1. **Optimizaciób**:\n",
    "   Considera el siguiente problema de optimización:\n",
    "   Maximiza \\( f(x) = x^2 - 4x + 4 \\) sujeto a la restricción \\( x \\geq 2 \\).\n",
    "\n",
    "2. **Álgebra Lineal**:\n",
    "   Resuelve el sistema de ecuaciones lineales:\n",
    "   \\[\n",
    "   \\begin{align*}\n",
    "   2x + 3y &= 5 \\\\\n",
    "   4x - 2y &= -6\n",
    "   \\end{align*}\n",
    "   \\]\n",
    "\n",
    "3. **Funciones Especiales**:\n",
    "   Calcula el valor de la función de Bessel de primer tipo de orden 2 en \\( x = 1.5 \\).\n",
    "\n",
    "4. **Estadísticas**:\n",
    "   Realiza una prueba de hipótesis para determinar si dos conjuntos de datos son significativamente diferentes, dados los siguientes datos:\n",
    "   - Conjunto 1: \\( [4, 5, 7, 8, 9] \\)\n",
    "   - Conjunto 2: \\( [7, 6, 8, 9, 10] \\)\n",
    "\n",
    "5. **Arreglos Dispersos**:\n",
    "   Crea una matriz dispersa grande (por ejemplo, 1000x1000) con un patrón específico de elementos diferentes de cero y calcula su determinante.\n",
    "\n",
    "6. **Optimización**:\n",
    "   Considera el siguiente problema de optimización restringida:\n",
    "   Minimiza \\( f(x, y) = x^2 + y^2 \\) sujeto a las restricciones \\( x^2 + y^2 <= 1 \\) y \\( x + y >= 1 \\).\n"
   ]
  },
  {
   "cell_type": "code",
   "execution_count": null,
   "id": "bc5781a6-9389-4f83-84f4-0fa73cc99966",
   "metadata": {},
   "outputs": [],
   "source": []
  }
 ],
 "metadata": {
  "kernelspec": {
   "display_name": "Python 3 (ipykernel)",
   "language": "python",
   "name": "python3"
  },
  "language_info": {
   "codemirror_mode": {
    "name": "ipython",
    "version": 3
   },
   "file_extension": ".py",
   "mimetype": "text/x-python",
   "name": "python",
   "nbconvert_exporter": "python",
   "pygments_lexer": "ipython3",
   "version": "3.12.5"
  }
 },
 "nbformat": 4,
 "nbformat_minor": 5
}
