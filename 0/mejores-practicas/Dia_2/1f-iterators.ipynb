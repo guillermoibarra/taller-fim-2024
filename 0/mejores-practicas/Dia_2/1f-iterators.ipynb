{
 "cells": [
  {
   "cell_type": "markdown",
   "id": "72a103b0-8de0-4569-be93-b28f5dfce798",
   "metadata": {},
   "source": [
    "Cuaderno 3: Iteradores y Generadores\n",
    "Introducción a Iteradores y Generadores\n",
    "\n",
    "En Python, los iteradores y generadores son herramientas poderosas para iterar de manera eficiente sobre secuencias de datos.\n",
    "Iteradores\n",
    "\n",
    "Un iterador es un objeto que representa un flujo de datos. Implementa los métodos `__iter__()` y `__next__()`."
   ]
  },
  {
   "cell_type": "code",
   "execution_count": 1,
   "id": "caa94521-f637-4119-9b4c-e14121fd2967",
   "metadata": {},
   "outputs": [],
   "source": [
    "class MiIterador:\n",
    "    def __init__(self, limite_max):\n",
    "        self.limite_max = limite_max\n",
    "        self.actual = 0\n",
    "\n",
    "    def __iter__(self):\n",
    "        return self\n",
    "\n",
    "    def __next__(self):\n",
    "        if self.actual < self.limite_max:\n",
    "            self.actual += 1\n",
    "            return self.actual\n",
    "        else:\n",
    "            raise StopIteration\n"
   ]
  },
  {
   "cell_type": "markdown",
   "id": "ab7b679f-1838-4301-9783-0877255d6686",
   "metadata": {},
   "source": [
    "Uso:"
   ]
  },
  {
   "cell_type": "code",
   "execution_count": 2,
   "id": "5a547da0-5541-493a-9285-49c101793c1d",
   "metadata": {},
   "outputs": [
    {
     "name": "stdout",
     "output_type": "stream",
     "text": [
      "1\n",
      "2\n",
      "3\n",
      "4\n",
      "5\n"
     ]
    }
   ],
   "source": [
    "iterador = MiIterador(5)\n",
    "for num in iterador:\n",
    "    print(num)\n"
   ]
  },
  {
   "cell_type": "markdown",
   "id": "0b3f4bc7-443d-492b-91f2-e2952fc98212",
   "metadata": {},
   "source": [
    "### Generadores\n",
    "\n",
    "Los generadores son una forma más simple de crear iteradores. Utilizan la palabra clave yield para producir una serie de valores."
   ]
  },
  {
   "cell_type": "code",
   "execution_count": 3,
   "id": "f89e8a0a-4bf5-428b-99c3-a0d9164fc71b",
   "metadata": {},
   "outputs": [],
   "source": [
    "def mi_generador(limite_max):\n",
    "    actual = 0\n",
    "    while actual < limite_max:\n",
    "        yield actual\n",
    "        actual += 1"
   ]
  },
  {
   "cell_type": "markdown",
   "id": "3f054bcf-a29a-4640-99b7-b8d09c35fd73",
   "metadata": {},
   "source": [
    "Uso:"
   ]
  },
  {
   "cell_type": "code",
   "execution_count": 4,
   "id": "5180f5ef-e54d-4984-8625-fe52a8920e7d",
   "metadata": {},
   "outputs": [
    {
     "name": "stdout",
     "output_type": "stream",
     "text": [
      "0\n",
      "1\n",
      "2\n",
      "3\n",
      "4\n"
     ]
    }
   ],
   "source": [
    "generador = mi_generador(5)\n",
    "for num in generador:\n",
    "    print(num)"
   ]
  },
  {
   "cell_type": "markdown",
   "id": "27ac2a3d-59a8-4e05-b088-ab0fe1d4d7f5",
   "metadata": {},
   "source": [
    "## Conjunto de Problemas\n",
    "\n",
    "1. Escribe una función generadora que genere números Fibonacci hasta un límite dado.\n",
    "2. Crea un generador que genere números primos infinitamente.\n",
    "3. Implementa un iterador personalizado que itere sobre los caracteres de una cadena en orden inverso.\n",
    "4. Escribe una función generadora que genere todos los subconjuntos de una lista dada.\n",
    "5. Implementa un iterador personalizado que itere sobre una serie de números, pero omita los múltiplos de 3.\n",
    "6. Crea una función generadora que genere el siguiente número en la secuencia Fibonacci solo cuando se solicite.\n",
    "7. Escribe un generador que genere todas las permutaciones de una lista dada.\n",
    "8. Implementa un iterador personalizado que itere sobre los nodos de un árbol binario en un recorrido en orden."
   ]
  },
  {
   "cell_type": "code",
   "execution_count": null,
   "id": "59890166-fa19-48db-bad1-263f44d0d9d7",
   "metadata": {},
   "outputs": [],
   "source": []
  }
 ],
 "metadata": {
  "kernelspec": {
   "display_name": "Python 3 (ipykernel)",
   "language": "python",
   "name": "python3"
  },
  "language_info": {
   "codemirror_mode": {
    "name": "ipython",
    "version": 3
   },
   "file_extension": ".py",
   "mimetype": "text/x-python",
   "name": "python",
   "nbconvert_exporter": "python",
   "pygments_lexer": "ipython3",
   "version": "3.11.7"
  }
 },
 "nbformat": 4,
 "nbformat_minor": 5
}
