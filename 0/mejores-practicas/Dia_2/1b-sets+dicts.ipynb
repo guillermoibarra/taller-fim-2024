{
 "cells": [
  {
   "cell_type": "markdown",
   "id": "064c96af-4693-4041-b188-e208771c44c3",
   "metadata": {},
   "source": [
    "# Conjuntos y Diccionarios en Python\n",
    "\n",
    "## Introducción\n",
    "\n",
    "Este Cuaderno Jupyter está diseñado para enseñarte los fundamentos de los conjuntos y diccionarios en Python. Aprenderás cómo crear, acceder y manipular estas estructuras de datos a través de ejemplos interactivos y ejercicios.\n",
    "\n",
    "---"
   ]
  },
  {
   "cell_type": "markdown",
   "id": "1036522a-c5cf-4221-b12e-1e655dc4c9e1",
   "metadata": {},
   "source": [
    "## Parte 1: Introducción a los Conjuntos\n",
    "\n",
    "### ¿Qué son los Conjuntos?\n",
    "\n",
    "Los conjuntos son colecciones de elementos únicos. Son desordenados y no permiten valores duplicados. Vamos a crear un conjunto simple."
   ]
  },
  {
   "cell_type": "code",
   "execution_count": 1,
   "id": "107c9b61-9f04-4861-8fa6-e8c2da469bf2",
   "metadata": {},
   "outputs": [
    {
     "name": "stdout",
     "output_type": "stream",
     "text": [
      "{1, 2, 3}\n"
     ]
    }
   ],
   "source": [
    "my_set = {1, 2, 3}\n",
    "print(my_set)"
   ]
  },
  {
   "cell_type": "markdown",
   "id": "4418fd24-000a-4a29-bcdf-1738f4970946",
   "metadata": {},
   "source": [
    "### Agregando y Eliminando Elementos\n",
    "\n",
    "Puedes agregar elementos a un conjunto usando el método add y eliminar elementos usando el método remove. Vamos a intentar agregar y eliminar algunos elementos."
   ]
  },
  {
   "cell_type": "code",
   "execution_count": 2,
   "id": "d755e5d4-6868-43a5-ad19-f798214b1173",
   "metadata": {},
   "outputs": [
    {
     "name": "stdout",
     "output_type": "stream",
     "text": [
      "{1, 2, 3, 4}\n"
     ]
    }
   ],
   "source": [
    "my_set.add(4)  # Agregando un elemento\n",
    "print(my_set)"
   ]
  },
  {
   "cell_type": "code",
   "execution_count": 3,
   "id": "ed051b93-49b9-453c-9adb-6be993981ae0",
   "metadata": {},
   "outputs": [
    {
     "name": "stdout",
     "output_type": "stream",
     "text": [
      "{1, 3, 4}\n"
     ]
    }
   ],
   "source": [
    "my_set.remove(2)  # Eliminando un elemento\n",
    "print(my_set)"
   ]
  },
  {
   "cell_type": "markdown",
   "id": "a47b5fd6-dc0c-4aa3-af93-a67e6cba5525",
   "metadata": {},
   "source": [
    "### Operaciones con Conjuntos\n",
    "\n",
    "Los conjuntos admiten operaciones matemáticas como la unión, intersección, diferencia y diferencia simétrica. Aquí te mostramos cómo puedes usarlas."
   ]
  },
  {
   "cell_type": "code",
   "execution_count": 4,
   "id": "7953ed92-6c8e-4ea7-a79d-6c3a81a11593",
   "metadata": {},
   "outputs": [
    {
     "name": "stdout",
     "output_type": "stream",
     "text": [
      "{1, 2, 3, 4, 5}\n",
      "{3}\n",
      "{1, 2}\n",
      "{1, 2, 4, 5}\n"
     ]
    }
   ],
   "source": [
    "set_a = {1, 2, 3}\n",
    "set_b = {3, 4, 5}\n",
    "\n",
    "# Unión\n",
    "print(set_a.union(set_b))\n",
    "\n",
    "# Intersección\n",
    "print(set_a.intersection(set_b))\n",
    "\n",
    "# Diferencia\n",
    "print(set_a.difference(set_b))\n",
    "\n",
    "# Diferencia Simétrica\n",
    "print(set_a.symmetric_difference(set_b))"
   ]
  },
  {
   "cell_type": "markdown",
   "id": "c2ffc2c4-2565-48c2-a5fa-fe3acdd475e5",
   "metadata": {},
   "source": [
    "### Métodos Comunes de Conjuntos en Python\n",
    "\n",
    "| Método                 | Descripción                                                   |\n",
    "|------------------------|---------------------------------------------------------------|\n",
    "| `add()`                | Agrega un elemento al conjunto                                |\n",
    "| `remove()`             | Elimina un elemento especificado del conjunto                 |\n",
    "| `discard()`            | Elimina un elemento especificado del conjunto si está presente |\n",
    "| `clear()`              | Elimina todos los elementos del conjunto                      |\n",
    "| `union()`              | Devuelve un conjunto que es la unión de dos conjuntos         |\n",
    "| `intersection()`       | Devuelve un conjunto que es la intersección de dos conjuntos  |\n",
    "| `difference()`         | Devuelve un conjunto con la diferencia entre dos conjuntos    |\n",
    "| `symmetric_difference()` | Devuelve un conjunto con las diferencias simétricas de dos conjuntos |"
   ]
  },
  {
   "cell_type": "markdown",
   "id": "65ca62fb-0716-458f-a77c-9d84f4af357f",
   "metadata": {},
   "source": [
    "---"
   ]
  },
  {
   "cell_type": "markdown",
   "id": "e9c3759a-670d-43b6-b66c-4a43b22acf69",
   "metadata": {},
   "source": [
    "## Introducción a los Diccionarios\n",
    "\n",
    "### ¿Qué son los Diccionarios?\n",
    "\n",
    "Los diccionarios en Python son colecciones de pares clave-valor. Son mutables, lo que significa que puedes cambiar su contenido sin cambiar su identidad. Vamos a crear un diccionario simple."
   ]
  },
  {
   "cell_type": "code",
   "execution_count": 5,
   "id": "cc5195fb-374d-48a6-aaca-dc9d2f9f51d8",
   "metadata": {},
   "outputs": [
    {
     "name": "stdout",
     "output_type": "stream",
     "text": [
      "{'nombre': 'Alice', 'edad': 25}\n"
     ]
    }
   ],
   "source": [
    "my_dict = {'nombre': 'Alice', 'edad': 25}\n",
    "print(my_dict)"
   ]
  },
  {
   "cell_type": "markdown",
   "id": "05b41504-fca0-4dbc-9c43-3617eebf0d00",
   "metadata": {},
   "source": [
    "### Accediendo y Modificando Elementos\n",
    "\n",
    "Puedes acceder a los valores en un diccionario por sus claves y modificarlos directamente. Aquí tienes un ejemplo:"
   ]
  },
  {
   "cell_type": "code",
   "execution_count": 7,
   "id": "e078b119-b586-4f10-b425-cd7080061ccc",
   "metadata": {},
   "outputs": [
    {
     "name": "stdout",
     "output_type": "stream",
     "text": [
      "Alice\n",
      "{'nombre': 'Alice', 'edad': 26}\n"
     ]
    }
   ],
   "source": [
    "print(my_dict['nombre'])  # Accediendo a un valor\n",
    "\n",
    "my_dict['edad'] = 26  # Modificando un valor\n",
    "print(my_dict)"
   ]
  },
  {
   "cell_type": "markdown",
   "id": "fc9df56d-d4ef-45d3-b342-448f922a6df5",
   "metadata": {},
   "source": [
    "### Métodos de Diccionarios\n",
    "\n",
    "Los diccionarios vienen con una variedad de métodos útiles. Aquí hay algunos ejemplos:"
   ]
  },
  {
   "cell_type": "code",
   "execution_count": 8,
   "id": "67252c0c-c2d3-41de-aa2d-0b82a1ca9cee",
   "metadata": {},
   "outputs": [
    {
     "name": "stdout",
     "output_type": "stream",
     "text": [
      "dict_keys(['nombre', 'edad'])\n",
      "dict_values(['Alice', 26])\n",
      "nombre: Alice\n",
      "edad: 26\n"
     ]
    }
   ],
   "source": [
    "# Claves y Valores\n",
    "print(my_dict.keys())\n",
    "print(my_dict.values())\n",
    "\n",
    "# Ítems\n",
    "for clave, valor in my_dict.items():\n",
    "    print(f\"{clave}: {valor}\")"
   ]
  },
  {
   "cell_type": "markdown",
   "id": "6b7d2091-4f4b-43ae-8c19-37757aacba2d",
   "metadata": {},
   "source": [
    "### Métodos Adicionales de Diccionarios en Python\n",
    "\n",
    "| Método         | Descripción                                                      |\n",
    "|----------------|------------------------------------------------------------------|\n",
    "| `get()`        | Devuelve el valor para una clave especificada en el diccionario |\n",
    "| `keys()`       | Devuelve una lista que contiene las claves del diccionario      |\n",
    "| `values()`     | Devuelve una lista de todos los valores en el diccionario       |\n",
    "| `items()`      | Devuelve una lista de tuplas, cada una contiene un par clave-valor |\n",
    "| `update()`     | Actualiza el diccionario con los pares clave-valor especificados |\n",
    "| `clear()`      | Elimina todos los elementos del diccionario                      |\n",
    "| `pop()`        | Elimina el elemento con la clave especificada                    |\n",
    "| `popitem()`    | Elimina el último par clave-valor insertado                      |\n",
    "\n",
    "---"
   ]
  },
  {
   "cell_type": "markdown",
   "id": "fb8218e1-f670-4ab8-ae96-385e8a02d7bb",
   "metadata": {},
   "source": [
    "## Problemas sobre Conjuntos\n",
    "\n",
    "1. **Elementos Únicos**: Dada una lista de números, retorna un conjunto que contenga solo los elementos únicos de la lista.\n",
    "\n",
    "2. **Amigos en Común**: Dados dos conjuntos que representan los amigos de dos personas diferentes, encuentra el conjunto de amigos en común entre ellos.\n",
    "\n",
    "3. **Operaciones con Conjuntos**: Dados tres conjuntos, realiza las siguientes operaciones y devuelve los resultados: unión, intersección y diferencia de conjuntos (A - B, B - A).\n",
    "\n",
    "4. **Diferencia Simétrica**: Dados dos conjuntos, encuentra la diferencia simétrica entre ellos y explica qué representa.\n",
    "\n",
    "5. **Subconjunto y Superconjunto**: Dados dos conjuntos, determina si uno es subconjunto o superconjunto del otro.\n",
    "\n",
    "6. **Conjuntos Inmutables**: Crea un conjunto inmutable e intenta agregar un nuevo elemento para ver qué sucede. Discute los resultados.\n",
    "\n",
    "7. **Comprensión de Conjuntos**: Utilizando la comprensión de conjuntos, crea un conjunto de cuadrados de los números del 1 al 10.\n",
    "\n",
    "8. **Conjuntos Disjuntos**: Dada una lista de conjuntos, escribe una función que determine si alguno de los conjuntos es disjunto de los demás."
   ]
  },
  {
   "cell_type": "code",
   "execution_count": null,
   "id": "d457039e-783c-4183-bebe-3f7aa878e519",
   "metadata": {},
   "outputs": [],
   "source": []
  },
  {
   "cell_type": "markdown",
   "id": "7413d82a-3c90-49f8-ae8f-c15e428abee5",
   "metadata": {},
   "source": [
    "## Problemas sobre Diccionarios\n",
    "\n",
    "1. **Frecuencia de Palabras**: Dada una cadena de texto, crea un diccionario donde las claves sean palabras únicas y los valores sean el número de veces que cada palabra aparece en el texto.\n",
    "\n",
    "2. **Fusionar Diccionarios**: Escribe una función para fusionar dos diccionarios. Si hay un conflicto (misma clave), prefiere el valor del segundo diccionario.\n",
    "\n",
    "3. **Diccionario a partir de Dos Listas**: Dadas dos listas de igual longitud, una con claves y otra con valores, crea un diccionario.\n",
    "\n",
    "4. **Diccionarios Anidados**: Crea un diccionario anidado para almacenar información sobre un libro, incluyendo su título, autor, ISBN y un diccionario anidado para la información del capítulo (número y título del capítulo).\n",
    "\n",
    "5. **Filtrado de Diccionarios**: Dado un diccionario, filtra los elementos donde el valor esté por debajo de un cierto umbral y devuelve un nuevo diccionario.\n",
    "\n",
    "6. **Existencia de Clave**: Escribe una función que verifique si una clave dada existe en un diccionario y devuelve su valor si está presente, de lo contrario, devuelve un valor predeterminado.\n",
    "\n",
    "7. **Mapeo Inverso**: Dado un diccionario, crea un nuevo diccionario donde las claves se conviertan en valores y los valores en claves. Asume que los valores del diccionario original son únicos.\n",
    "\n",
    "8. **Ordenación de Diccionarios**: Escribe una función que devuelva una lista de tuplas (clave, valor) ordenadas por el valor de un diccionario dado."
   ]
  },
  {
   "cell_type": "code",
   "execution_count": null,
   "id": "c7c63049-0387-4327-a7fd-c5e7eae9fb5f",
   "metadata": {},
   "outputs": [],
   "source": []
  }
 ],
 "metadata": {
  "kernelspec": {
   "display_name": "Python 3 (ipykernel)",
   "language": "python",
   "name": "python3"
  },
  "language_info": {
   "codemirror_mode": {
    "name": "ipython",
    "version": 3
   },
   "file_extension": ".py",
   "mimetype": "text/x-python",
   "name": "python",
   "nbconvert_exporter": "python",
   "pygments_lexer": "ipython3",
   "version": "3.11.7"
  }
 },
 "nbformat": 4,
 "nbformat_minor": 5
}
