{
 "cells": [
  {
   "cell_type": "markdown",
   "id": "0019c27c-4722-43dd-9ac7-9a997fc53326",
   "metadata": {},
   "source": [
    "# Comprensiones de listas y Expresiones generadoras\n",
    "\n",
    "## Introducción\n",
    "En Python, las comprensiones de listas y las expresiones generadoras son formas concisas y poderosas de crear listas y generadores respectivamente. Ofrecen una alternativa más expresiva y legible a las construcciones de bucles tradicionales.\n",
    "\n",
    "## Comprensiones de Listas\n",
    "Una comprensión de lista proporciona una forma compacta de generar listas en Python. Consiste en corchetes que contienen una expresión seguida de una cláusula `for`, luego cero o más cláusulas `for` o `if`.\n",
    "\n",
    "### Sintaxis:\n",
    "`[expresión for elemento in iterable if condición]`\n",
    "\n",
    "\n",
    "### Ejemplo:\n"
   ]
  },
  {
   "cell_type": "code",
   "execution_count": 1,
   "id": "832108a9-2ebf-45a5-b0a1-d0a9064b2cd8",
   "metadata": {},
   "outputs": [
    {
     "name": "stdout",
     "output_type": "stream",
     "text": [
      "[0, 1, 4, 9, 16, 25, 36, 49, 64, 81]\n"
     ]
    }
   ],
   "source": [
    "# Creando una lista de cuadrados usando una comprensión de lista\n",
    "cuadrados = [x**2 for x in range(10)]\n",
    "print(cuadrados)  # Resultado: [0, 1, 4, 9, 16, 25, 36, 49, 64, 81]"
   ]
  },
  {
   "cell_type": "markdown",
   "id": "8e48ba97-a8e0-42f1-a63b-1fb3bf844d42",
   "metadata": {},
   "source": [
    "## Expresiones Generadoras\n",
    "\n",
    "Las expresiones generadoras son similares a las comprensiones de listas, pero generan valores de manera perezosa, solo cuando se necesitan. Esto los hace más eficientes en memoria para conjuntos de datos grandes.\n",
    "\n",
    "### Sintaxis:\n",
    "\n",
    "`(expresión for elemento in iterable if condición)`\n",
    "\n",
    "### Ejemplo"
   ]
  },
  {
   "cell_type": "code",
   "execution_count": 2,
   "id": "1afae98e-7701-4e8a-9b11-0aa0b71311de",
   "metadata": {},
   "outputs": [
    {
     "name": "stdout",
     "output_type": "stream",
     "text": [
      "0\n",
      "1\n"
     ]
    }
   ],
   "source": [
    "# Creando un generador de cuadrados usando una expresión generadora\n",
    "generador_cuadrados = (x**2 for x in range(10))\n",
    "print(next(generador_cuadrados))  # Resultado: 0\n",
    "print(next(generador_cuadrados))  # Resultado: 1"
   ]
  },
  {
   "cell_type": "markdown",
   "id": "d2b7f616-edb3-4801-b675-0d6c7b8b55b7",
   "metadata": {},
   "source": [
    "## Conjunto de Problemas:\n",
    "\n",
    "1. Escribe una comprensión de lista para extraer números pares de una lista dada de enteros.\n",
    "2. Genera una lista de todos los números primos hasta 1000 usando una comprensión de lista.\n",
    "3. Crea una expresión generadora para producir números de Fibonacci infinitamente.\n",
    "4. Escribe una comprensión de lista para aplanar una lista de listas.\n",
    "5. Genera una lista de tuplas que contengan el producto cartesiano de dos listas dadas usando una comprensión de lista.\n",
    "6. Implementa una expresión generadora para generar todas las permutaciones de una lista dada de enteros.\n",
    "7. Escribe una comprensión de lista para filtrar números palindrómicos de una lista dada de enteros.\n",
    "8. Crea una expresión generadora para generar todos los subconjuntos de un conjunto dado."
   ]
  },
  {
   "cell_type": "markdown",
   "id": "eff603ba-8d44-442e-bb9f-4eb8d43cfca8",
   "metadata": {},
   "source": [
    "## Conclusión\n",
    "\n",
    "Las comprensiones de listas y las expresiones generadoras son características poderosas de Python, que ofrecen formas concisas y expresivas de crear listas y generadores respectivamente. Pueden simplificar en gran medida el código y mejorar la legibilidad, especialmente para tareas que involucran iteración y transformación de datos."
   ]
  },
  {
   "cell_type": "code",
   "execution_count": null,
   "id": "51b57090-10af-4a68-97f0-64b0ff83c4c2",
   "metadata": {},
   "outputs": [],
   "source": []
  }
 ],
 "metadata": {
  "kernelspec": {
   "display_name": "Python 3 (ipykernel)",
   "language": "python",
   "name": "python3"
  },
  "language_info": {
   "codemirror_mode": {
    "name": "ipython",
    "version": 3
   },
   "file_extension": ".py",
   "mimetype": "text/x-python",
   "name": "python",
   "nbconvert_exporter": "python",
   "pygments_lexer": "ipython3",
   "version": "3.12.3"
  }
 },
 "nbformat": 4,
 "nbformat_minor": 5
}
