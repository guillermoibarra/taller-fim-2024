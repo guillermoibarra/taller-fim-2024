{
 "cells": [
  {
   "cell_type": "markdown",
   "id": "188e75c6-63ad-4d8f-b7f2-4a71e3295fe7",
   "metadata": {},
   "source": [
    "# Introducción al Flujo de Control\n",
    "\n",
    "## Introducción\n",
    "\n",
    "En este cuaderno, exploraremos los fundamentos del flujo de control en Python. El flujo de control nos permite dictar el orden en el que se ejecuta nuestro código, basado en condiciones y bucles.\n",
    "\n",
    "### Declaraciones básicas de if-else\n",
    "\n",
    "Comencemos por entender las declaraciones básicas de if-else en Python."
   ]
  },
  {
   "cell_type": "code",
   "execution_count": 1,
   "id": "ffe5d5da-a9e0-4851-976e-0bb70fffbb64",
   "metadata": {},
   "outputs": [
    {
     "name": "stdout",
     "output_type": "stream",
     "text": [
      "x es mayor que 5\n"
     ]
    }
   ],
   "source": [
    "# Declaración básica de if-else\n",
    "x = 10\n",
    "\n",
    "if x > 5:\n",
    "    print(\"x es mayor que 5\")\n",
    "else:\n",
    "    print(\"x no es mayor que 5\")"
   ]
  },
  {
   "cell_type": "markdown",
   "id": "ac1d3730-9bfb-4c2d-8011-668804a7a937",
   "metadata": {},
   "source": [
    "### Declaraciones if-else anidadas\n",
    "\n",
    "También podemos anidar declaraciones if-else para manejar condiciones más complejas."
   ]
  },
  {
   "cell_type": "code",
   "execution_count": 2,
   "id": "f954028b-a425-4af3-b8fa-037be24d0d1d",
   "metadata": {},
   "outputs": [
    {
     "name": "stdout",
     "output_type": "stream",
     "text": [
      "y está entre 5 y 10\n"
     ]
    }
   ],
   "source": [
    "# Declaración if-else anidada\n",
    "y = 7\n",
    "\n",
    "if y > 5:\n",
    "    if y < 10:\n",
    "        print(\"y está entre 5 y 10\")\n",
    "    else:\n",
    "        print(\"y es mayor o igual a 10\")\n",
    "else:\n",
    "    print(\"y no es mayor que 5\")"
   ]
  },
  {
   "cell_type": "markdown",
   "id": "4e1833a1-3161-4d9d-889c-eb0195fe8fcc",
   "metadata": {},
   "source": [
    "### Expresiones condicionales ternarias\n",
    "\n",
    "Python también soporta expresiones condicionales ternarias, las cuales proporcionan una forma concisa de escribir declaraciones if-else en una sola línea."
   ]
  },
  {
   "cell_type": "code",
   "execution_count": 3,
   "id": "198f2e37-1e2a-4757-9110-104caac9180b",
   "metadata": {},
   "outputs": [
    {
     "name": "stdout",
     "output_type": "stream",
     "text": [
      "El número es Par\n"
     ]
    }
   ],
   "source": [
    "# Expresión condicional ternaria\n",
    "z = 12\n",
    "resultado = \"Par\" if z % 2 == 0 else \"Impar\"\n",
    "print(\"El número es\", resultado)"
   ]
  },
  {
   "cell_type": "markdown",
   "id": "61221541-76b6-4c85-ac6d-88da5e80682f",
   "metadata": {},
   "source": [
    "#### Operadores Lógicos\n",
    "\n",
    "| Operador       | Significado            | Ejemplo                  |\n",
    "|----------------|------------------------|--------------------------|\n",
    "| `<`   | Es verdadero si el primer valor es menor que el segundo. | ```5 < 10``` es verdadero. |\n",
    "| `>`   | Es verdadero si el primer valor es mayor que el segundo. | ```10 > 5``` es verdadero. |\n",
    "| `<=` | Es verdadero si el primer valor es menor o igual que el segundo. | ```5 <= 5``` es verdadero. |\n",
    "| `>=` | Es verdadero si el primer valor es mayor o igual que el segundo. | ```10 >= 5``` es verdadero. |\n",
    "| `==`      | Es verdadero si los dos valores son iguales. | ```5 == 5``` es verdadero. |\n",
    "| `!=`   | Es verdadero si los dos valores no son iguales. | ```5 != 10``` es verdadero. |\n",
    "| `and`       | Es verdadero si ambos valores son verdaderos. | ```(5 > 3) and (10 < 20)``` es verdadero. |\n",
    "| `or`     | Es verdadero si al menos uno de los valores es verdadero. | ```(5 > 10) or (10 < 20)``` es verdadero. |\n",
    "| `not`     | Niega el valor de verdad de una expresión. | ```not (5 == 10)``` es verdadero. |\n"
   ]
  },
  {
   "cell_type": "markdown",
   "id": "51ce1581-b6e8-414a-aa4c-64a2715cc665",
   "metadata": {},
   "source": [
    "### Ejercicios Prácticos\n",
    "\n",
    "1. Escribe una declaración if-else para verificar si un número dado es positivo, negativo o cero.\n",
    "2. Escribe una declaración if-else anidada para verificar si un número dado es divisible entre 2 y 3.\n",
    "3. Usa una expresión condicional ternaria para determinar si un año dado es bisiesto."
   ]
  },
  {
   "cell_type": "code",
   "execution_count": null,
   "id": "b0d0e09b-45db-4748-b7a3-a83122c4bc25",
   "metadata": {},
   "outputs": [],
   "source": []
  }
 ],
 "metadata": {
  "kernelspec": {
   "display_name": "Python 3 (ipykernel)",
   "language": "python",
   "name": "python3"
  },
  "language_info": {
   "codemirror_mode": {
    "name": "ipython",
    "version": 3
   },
   "file_extension": ".py",
   "mimetype": "text/x-python",
   "name": "python",
   "nbconvert_exporter": "python",
   "pygments_lexer": "ipython3",
   "version": "3.11.7"
  }
 },
 "nbformat": 4,
 "nbformat_minor": 5
}
