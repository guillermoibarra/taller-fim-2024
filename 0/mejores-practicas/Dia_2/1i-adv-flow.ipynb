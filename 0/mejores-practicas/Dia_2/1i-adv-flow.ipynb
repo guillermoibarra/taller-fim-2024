{
 "cells": [
  {
   "cell_type": "markdown",
   "id": "90fa80d3-73a3-4832-ad12-703a1ce5c0da",
   "metadata": {},
   "source": [
    "# Patrones Avanzados de Flujo de Control\n",
    "\n",
    "## Patrones Avanzados de Flujo de Control\n",
    "\n",
    "En este cuaderno, exploraremos patrones avanzados de flujo de control en Python, incluyendo administradores de contexto, decoradores y conceptos de programación funcional.\n",
    "\n",
    "### 1. Administradores de Contexto y la Declaración `with`\n",
    "\n",
    "Los administradores de contexto son objetos que administran recursos, como abrir y cerrar archivos o adquirir y liberar bloqueos. Aseguran que los recursos se manejen correctamente, incluso en presencia de excepciones.\n",
    "\n",
    "La declaración `with` proporciona una forma conveniente de usar administradores de contexto.\n",
    "\n",
    "Veamos un ejemplo de cómo usar un administrador de contexto para abrir y cerrar un archivo:"
   ]
  },
  {
   "cell_type": "code",
   "execution_count": 1,
   "id": "bb40ce6b-00da-4952-9435-b2cc7876a94b",
   "metadata": {},
   "outputs": [],
   "source": [
    "# Ejemplo 1: Usando un administrador de contexto para abrir y cerrar un archivo\n",
    "\n",
    "with open('ejemplo.txt', 'w') as f:\n",
    "    f.write('¡Hola, mundo!')"
   ]
  },
  {
   "cell_type": "markdown",
   "id": "60d503ca-2cef-4d21-bd80-84259d8b25fd",
   "metadata": {},
   "source": [
    "En el ejemplo anterior, la función open() devuelve un objeto de archivo, que actúa como un gestor de contexto. La declaración with asegura que el archivo se cierre correctamente después de que su conjunto de instrucciones termine, incluso si ocurre una excepción.\n",
    "\n",
    "### 2. Decoradores\n",
    "\n",
    "Los decoradores son una herramienta poderosa en Python para modificar el comportamiento de funciones o métodos. Te permiten agregar funcionalidad al código existente sin modificarlo directamente.\n",
    "\n",
    "Un decorador es una función que toma otra función como entrada y devuelve una nueva función que generalmente extiende el comportamiento de la función original.\n",
    "\n",
    "Definamos un decorador simple que registra los argumentos y el valor de retorno de una función:"
   ]
  },
  {
   "cell_type": "code",
   "execution_count": 2,
   "id": "06c2aa2b-6e18-404f-9a36-6c314059c8cf",
   "metadata": {},
   "outputs": [
    {
     "name": "stdout",
     "output_type": "stream",
     "text": [
      "Llamando a sumar con args: (3, 5), kwargs: {}\n",
      "sumar devolvió: 8\n",
      "Resultado: 8\n"
     ]
    }
   ],
   "source": [
    "# Ejemplo 2: Decorador simple para registrar llamadas de función\n",
    "\n",
    "def log_function_call(func):\n",
    "    def wrapper(*args, **kwargs):\n",
    "        print(f\"Llamando a {func.__name__} con args: {args}, kwargs: {kwargs}\")\n",
    "        result = func(*args, **kwargs)\n",
    "        print(f\"{func.__name__} devolvió: {result}\")\n",
    "        return result\n",
    "    return wrapper\n",
    "\n",
    "@log_function_call\n",
    "def sumar(a, b):\n",
    "    return a + b\n",
    "\n",
    "resultado = sumar(3, 5)\n",
    "print(\"Resultado:\", resultado)\n"
   ]
  },
  {
   "cell_type": "markdown",
   "id": "e10ed885-768b-4550-a496-cbd2a83c39e0",
   "metadata": {},
   "source": [
    "En el ejemplo anterior, el decorador `log_function_call` envuelve la función `sumar()` y agrega funcionalidad de registro a ella. Cuando se llama a `sumar()`, el decorador imprime información sobre la llamada de la función y su valor de retorno."
   ]
  },
  {
   "cell_type": "markdown",
   "id": "8929972b-0ed6-4477-b71c-064ed38cbe82",
   "metadata": {},
   "source": [
    "### 3. Conceptos de Programación Funcional\n",
    "\n",
    "Python admite varios conceptos de programación funcional, incluyendo `map()`, `filter()` y `reduce()`.\n",
    "\n",
    "Veamos algunos ejemplos de cómo usar estas funciones:"
   ]
  },
  {
   "cell_type": "code",
   "execution_count": 3,
   "id": "3e406dcd-1b5b-4194-aefd-e3cdd1b5d83f",
   "metadata": {},
   "outputs": [
    {
     "name": "stdout",
     "output_type": "stream",
     "text": [
      "Números al cuadrado: [1, 4, 9, 16, 25]\n",
      "Números pares: [2, 4]\n",
      "Producto de los números: 120\n"
     ]
    }
   ],
   "source": [
    "# Ejemplo 3a: Usando map() para aplicar una función a cada elemento de una lista\n",
    "\n",
    "numeros = [1, 2, 3, 4, 5]\n",
    "numeros_al_cuadrado = list(map(lambda x: x ** 2, numeros))\n",
    "print(\"Números al cuadrado:\", numeros_al_cuadrado)\n",
    "\n",
    "# Ejemplo 3b: Usando filter() para filtrar elementos de una lista\n",
    "\n",
    "numeros_pares = list(filter(lambda x: x % 2 == 0, numeros))\n",
    "print(\"Números pares:\", numeros_pares)\n",
    "\n",
    "# Ejemplo 3c: Usando reduce() para combinar elementos de una lista\n",
    "\n",
    "from functools import reduce\n",
    "producto = reduce(lambda x, y: x * y, numeros)\n",
    "print(\"Producto de los números:\", producto)\n"
   ]
  },
  {
   "cell_type": "markdown",
   "id": "8d304340-4a63-4878-a49f-4a0dccc0064a",
   "metadata": {},
   "source": [
    "En los ejemplos anteriores, `map()` aplica una función a cada elemento de una lista, `filter()` filtra elementos de una lista según una condición y `reduce()` combina elementos de una lista en un solo valor.\n",
    "Conclusión\n",
    "\n",
    "En este cuaderno, exploramos patrones avanzados de control de flujo en Python, incluyendo gestores de contexto, decoradores y conceptos de programación funcional. Estas herramientas pueden ayudar a escribir código más limpio, modular y mantenible."
   ]
  },
  {
   "cell_type": "markdown",
   "id": "efc15422-08db-4005-aca6-bfbc81c496ea",
   "metadata": {},
   "source": [
    "### Conjunto de Problemas\n",
    "\n",
    "1. **Context Manager para Medición de Tiempo**\n",
    "\n",
    "    Implementa un administrador de contexto `Timer` que pueda ser usado para medir el tiempo de ejecución de un bloque de código. Al ingresar al contexto, el temporizador debería iniciar, y al salir, debería imprimir el tiempo transcurrido.\n",
    "\n",
    "2. **Memorización con Decoradores**\n",
    "\n",
    "    Escribe un decorador `memoize` que pueda ser aplicado a funciones para memorizar sus resultados. El decorador debería cachear los resultados de las llamadas a la función y devolver el resultado en caché si se proporcionan las mismas entradas nuevamente.\n",
    "\n",
    "3. **Filtrar Palabras Más Largas que N**\n",
    "\n",
    "    Escribe una función `filter_long_words(words, n)` que tome una lista de palabras y un entero `n` como entrada, y devuelva una nueva lista que contenga solo las palabras más largas que `n` caracteres.\n",
    "\n",
    "4. **Función Map Personalizada**\n",
    "\n",
    "    Implementa una función `custom_map(func, iterable)` que se comporte como la función `map()` integrada. Debería tomar una función `func` y un iterable `iterable` como entrada, y devolver un iterador que aplique `func` a cada elemento de `iterable`.\n",
    "\n",
    "5. **Filtrar con Predicado**\n",
    "\n",
    "    Escribe una función `filter_with_predicate(predicate, iterable)` que tome una función predicado `predicate` y un iterable `iterable` como entrada, y devuelva un nuevo iterador que contenga solo los elementos de `iterable` para los cuales `predicate` devuelve `True`.\n",
    "\n",
    "6. **Fibonacci Recursivo con Memorización**\n",
    "\n",
    "    Escribe una función `fibonacci(n, memo={})` que calcule el enésimo número Fibonacci usando recursión con memorización. La función debería usar un diccionario `memo` para almacenar los números Fibonacci calculados previamente para evitar cálculos redundantes."
   ]
  },
  {
   "cell_type": "markdown",
   "id": "eefd23ab-40f6-4a04-8a98-0851cd8e642e",
   "metadata": {},
   "source": []
  }
 ],
 "metadata": {
  "kernelspec": {
   "display_name": "Python 3 (ipykernel)",
   "language": "python",
   "name": "python3"
  },
  "language_info": {
   "codemirror_mode": {
    "name": "ipython",
    "version": 3
   },
   "file_extension": ".py",
   "mimetype": "text/x-python",
   "name": "python",
   "nbconvert_exporter": "python",
   "pygments_lexer": "ipython3",
   "version": "3.12.5"
  }
 },
 "nbformat": 4,
 "nbformat_minor": 5
}
