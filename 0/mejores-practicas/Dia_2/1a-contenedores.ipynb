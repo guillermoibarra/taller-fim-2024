{
 "cells": [
  {
   "cell_type": "markdown",
   "id": "33a81c10-9921-4edf-8357-8ec8b67379d8",
   "metadata": {},
   "source": [
    "# Introducción a los Contenedores de Python - Listas y Tuplas\n",
    "\n",
    "## Objetivo\n",
    "\n",
    "Este cuaderno tiene como objetivo presentar los contenedores de Python, enfocándose en listas y tuplas. Al final de este cuaderno, deberías ser capaz de entender, crear y manipular listas y tuplas para el manejo de datos en Python.\n",
    "\n",
    "---\n",
    "\n",
    "## Sección 1: Introducción a los Contenedores de Python\n",
    "\n",
    "### ¿Qué son los Contenedores de Python?\n",
    "Los contenedores en Python son objetos que almacenan otros objetos. Proveen una manera de acceder a los objetos contenidos y de iterar sobre ellos. Ejemplos de contenedores incluyen listas, tuplas, conjuntos y diccionarios.\n",
    "\n",
    "### ¿Por Qué los Contenedores?\n",
    "En ingeniería y ciencia de datos, los contenedores son esenciales para almacenar, acceder y manipular datos, permitiendo un análisis de datos eficiente y efectivo y la resolución de problemas.\n",
    "\n",
    "## Sección 2: Listas\n",
    "\n",
    "### ¿Qué es una Lista?\n",
    "Una lista en Python es una colección ordenada de elementos que pueden ser de tipos mixtos. Las listas son mutables, lo que significa que pueden ser alteradas después de su creación.\n",
    "\n",
    "### Crear Listas"
   ]
  },
  {
   "cell_type": "code",
   "execution_count": 1,
   "id": "6135dcb0-5959-4f4c-a352-16d8ad7fedf8",
   "metadata": {},
   "outputs": [],
   "source": [
    "# Creando una lista vacía\n",
    "lista_vacia = []\n",
    "\n",
    "# Creando una lista con elementos\n",
    "numeros = [1, 2, 3, 4, 5]\n",
    "tipos_mixtos = [1, \"Hola\", 3.14, True]\n"
   ]
  },
  {
   "cell_type": "code",
   "execution_count": 2,
   "id": "a1b07669-a62f-402d-8d8c-cf76fe6ad8ed",
   "metadata": {},
   "outputs": [
    {
     "data": {
      "text/plain": [
       "list"
      ]
     },
     "execution_count": 2,
     "metadata": {},
     "output_type": "execute_result"
    }
   ],
   "source": [
    "type(lista_vacia)"
   ]
  },
  {
   "cell_type": "code",
   "execution_count": 3,
   "id": "16e3dfa0-af39-47af-9ff8-f87ec602d4f5",
   "metadata": {},
   "outputs": [
    {
     "data": {
      "text/plain": [
       "['__add__',\n",
       " '__class__',\n",
       " '__class_getitem__',\n",
       " '__contains__',\n",
       " '__delattr__',\n",
       " '__delitem__',\n",
       " '__dir__',\n",
       " '__doc__',\n",
       " '__eq__',\n",
       " '__format__',\n",
       " '__ge__',\n",
       " '__getattribute__',\n",
       " '__getitem__',\n",
       " '__getstate__',\n",
       " '__gt__',\n",
       " '__hash__',\n",
       " '__iadd__',\n",
       " '__imul__',\n",
       " '__init__',\n",
       " '__init_subclass__',\n",
       " '__iter__',\n",
       " '__le__',\n",
       " '__len__',\n",
       " '__lt__',\n",
       " '__mul__',\n",
       " '__ne__',\n",
       " '__new__',\n",
       " '__reduce__',\n",
       " '__reduce_ex__',\n",
       " '__repr__',\n",
       " '__reversed__',\n",
       " '__rmul__',\n",
       " '__setattr__',\n",
       " '__setitem__',\n",
       " '__sizeof__',\n",
       " '__str__',\n",
       " '__subclasshook__',\n",
       " 'append',\n",
       " 'clear',\n",
       " 'copy',\n",
       " 'count',\n",
       " 'extend',\n",
       " 'index',\n",
       " 'insert',\n",
       " 'pop',\n",
       " 'remove',\n",
       " 'reverse',\n",
       " 'sort']"
      ]
     },
     "execution_count": 3,
     "metadata": {},
     "output_type": "execute_result"
    }
   ],
   "source": [
    "dir(lista_vacia)"
   ]
  },
  {
   "cell_type": "markdown",
   "id": "6d4a4e50-e4f6-4b9e-8e23-60857c2f9f6d",
   "metadata": {},
   "source": [
    "### Accediendo y Modificando Listas\n",
    "\n",
    "En Python, una lista es una colección de elementos que pueden ser de diferentes tipos de datos. Los elementos dentro de una lista se acceden utilizando un sistema de indexación. Cada elemento en la lista tiene asignada una posición específica o índice, que se utiliza para acceder a ese elemento. Aquí hay una breve descripción de cómo funciona esto:\n",
    "\n",
    "#### La Indexación Comienza en 0\n",
    "\n",
    "Las listas de Python utilizan un sistema de indexación basado en cero. Esto significa que el primer elemento de la lista está en el índice 0, el segundo elemento está en el índice 1, y así sucesivamente. Esta convención es común en muchos lenguajes de programación.\n",
    "\n",
    "#### Accediendo a los Elementos\n",
    "\n",
    "Para acceder a un elemento, se utilizan corchetes `[]` con el número de índice del elemento que se desea acceder. Por ejemplo, `numeros[0]` accede al primer elemento en `numeros`.\n",
    "\n",
    "Python también soporta la indexación negativa. En este sistema, `-1` se refiere al último elemento, `-2` al penúltimo, y así sucesivamente. Esto puede ser particularmente útil para acceder a elementos al final de la lista sin necesidad de conocer la longitud exacta de la lista."
   ]
  },
  {
   "cell_type": "code",
   "execution_count": 5,
   "id": "e7eb3b2d-db1c-4c0c-bb29-be31db94568c",
   "metadata": {},
   "outputs": [
    {
     "data": {
      "text/plain": [
       "[1, 10, 3, 4, 5]"
      ]
     },
     "execution_count": 5,
     "metadata": {},
     "output_type": "execute_result"
    }
   ],
   "source": [
    "numeros"
   ]
  },
  {
   "cell_type": "code",
   "execution_count": 6,
   "id": "0ee75027-3b80-41f4-8457-98dfa42ae0e3",
   "metadata": {},
   "outputs": [
    {
     "data": {
      "text/plain": [
       "3"
      ]
     },
     "execution_count": 6,
     "metadata": {},
     "output_type": "execute_result"
    }
   ],
   "source": [
    "numeros[2]"
   ]
  },
  {
   "cell_type": "code",
   "execution_count": 9,
   "id": "b5612ff9-9757-4d39-956a-cd2ef969214e",
   "metadata": {},
   "outputs": [
    {
     "data": {
      "text/plain": [
       "[1, 15, 3, 4, 5]"
      ]
     },
     "execution_count": 9,
     "metadata": {},
     "output_type": "execute_result"
    }
   ],
   "source": [
    "# Accediendo a elementos de la lista\n",
    "primer_numero = numeros[0]  # Accediendo al primer elemento\n",
    "\n",
    "# Modificando elementos de la lista\n",
    "numeros[1] = 15  # Cambiando el segundo elemento\n",
    "\n",
    "numeros"
   ]
  },
  {
   "cell_type": "markdown",
   "id": "c94b933f-fef0-4a5d-a8a8-b60932ea5ac8",
   "metadata": {},
   "source": [
    "### Introducción al Rebanado de Listas\n",
    "\n",
    "El rebanado de listas en Python permite acceder a partes de las listas de manera concisa. Esta característica es increíblemente útil para la manipulación y análisis de datos. En esta lección, aprenderás los conceptos básicos del rebanado de listas, cómo utilizar índices negativos y cómo incorporar un parámetro de paso en tus rebanadas.\n",
    "\n",
    "#### Sintaxis Básica del Rebanado de Listas\n",
    "\n",
    "La sintaxis para el rebanado de listas es `lista_original[inicio:fin]` donde `inicio` es el índice para el comienzo de la rebanada y `fin` es el índice donde termina la rebanada, pero no se incluye en el resultado.\n",
    "\n",
    "#### Ejemplo: Rebanado Básico\n"
   ]
  },
  {
   "cell_type": "code",
   "execution_count": 10,
   "id": "f448f33b-acbd-492a-9bbc-46f86298eeb9",
   "metadata": {},
   "outputs": [
    {
     "name": "stdout",
     "output_type": "stream",
     "text": [
      "[2, 3, 4]\n"
     ]
    }
   ],
   "source": [
    "numeros = [0, 1, 2, 3, 4, 5, 6, 7, 8, 9]\n",
    "# Rebanar desde el índice 2 hasta el 5\n",
    "print(numeros[2:5])"
   ]
  },
  {
   "cell_type": "markdown",
   "id": "8e15364a-0a7e-480a-8677-39860ca1a7be",
   "metadata": {},
   "source": [
    "### Omisión de Índices\n",
    "\n",
    "Puedes omitir el índice de `inicio` para comenzar la rebanada desde el inicio de la lista, o omitir el índice de `fin` para extender la rebanada hasta el final de la lista.\n",
    "\n",
    "#### Ejemplo: Omisión de Inicio y Fin\n",
    "\n"
   ]
  },
  {
   "cell_type": "code",
   "execution_count": 15,
   "id": "018d7687-19bf-4b97-a93f-3d51bbde691d",
   "metadata": {},
   "outputs": [
    {
     "name": "stdout",
     "output_type": "stream",
     "text": [
      "[0, 1, 2, 3, 4]\n"
     ]
    }
   ],
   "source": [
    "# Omitiendo el índice de inicio\n",
    "print(numeros[:5])"
   ]
  },
  {
   "cell_type": "code",
   "execution_count": 16,
   "id": "d56b815c-239f-4bf5-a7b1-ae75397d8e74",
   "metadata": {},
   "outputs": [
    {
     "name": "stdout",
     "output_type": "stream",
     "text": [
      "[5, 6, 7, 8, 9]\n"
     ]
    }
   ],
   "source": [
    "# Omitiendo el índice de fin\n",
    "print(numeros[5:])"
   ]
  },
  {
   "cell_type": "markdown",
   "id": "56958233-dfb5-41d3-9c55-67ddfecf29ea",
   "metadata": {},
   "source": [
    "### Índices Negativos\n",
    "\n",
    "Se pueden utilizar índices negativos para referirse a posiciones desde el final de la lista.\n",
    "\n",
    "#### Ejemplo: Índices Negativos\n"
   ]
  },
  {
   "cell_type": "code",
   "execution_count": 17,
   "id": "a40d888c-be6f-44dc-847f-939e3f0225b4",
   "metadata": {},
   "outputs": [
    {
     "name": "stdout",
     "output_type": "stream",
     "text": [
      "[7, 8, 9]\n"
     ]
    }
   ],
   "source": [
    "# Rebanar los últimos tres elementos\n",
    "print(numeros[-3:])"
   ]
  },
  {
   "cell_type": "markdown",
   "id": "01618a5a-07bc-4af3-a3bd-ebeff8844197",
   "metadata": {},
   "source": [
    "### Parámetro de Paso\n",
    "\n",
    "Se puede agregar un parámetro de `paso` a la notación de rebanado, lo que te permite saltar elementos dentro de tu rebanada.\n",
    "\n",
    "#### Ejemplo: Parámetro de Paso"
   ]
  },
  {
   "cell_type": "code",
   "execution_count": 18,
   "id": "ab1d6014-5492-4ab7-8ed4-9b2abf4d1941",
   "metadata": {},
   "outputs": [
    {
     "name": "stdout",
     "output_type": "stream",
     "text": [
      "[0, 2, 4, 6, 8]\n"
     ]
    }
   ],
   "source": [
    "# Cada segundo elemento en la lista\n",
    "print(numeros[::2])"
   ]
  },
  {
   "cell_type": "markdown",
   "id": "c95fd513-e7b7-4dac-8bbe-b925c40be9ab",
   "metadata": {},
   "source": [
    "### Invertir una Lista\n",
    "\n",
    "Una lista se puede invertir estableciendo el parámetro de `paso` en `-1`.\n",
    "\n",
    "#### Ejemplo: Invertir una Lista"
   ]
  },
  {
   "cell_type": "code",
   "execution_count": 11,
   "id": "94f1013a-cd97-4d20-8977-9a00a27eec0b",
   "metadata": {},
   "outputs": [
    {
     "name": "stdout",
     "output_type": "stream",
     "text": [
      "[9, 7, 5, 3, 1]\n"
     ]
    }
   ],
   "source": [
    "# Invertir la lista\n",
    "print(numeros[::-2])"
   ]
  },
  {
   "cell_type": "markdown",
   "id": "cee286d5-a82f-4ae9-bd05-cbedeefb9db1",
   "metadata": {},
   "source": [
    "## Ejercicios\n",
    "\n",
    "1. Crea una lista de los primeros 10 números cuadrados y utiliza el rebanado para obtener la segunda mitad de la lista.\n",
    "2. Dada una lista `['a', 'b', 'c', 'd', 'e', 'f', 'g', 'h']`, usa el rebanado para obtener una lista que contenga cada tercer elemento, comenzando desde `'a'`.\n",
    "3. Invierte la lista del ejercicio anterior utilizando el rebanado de listas.\n"
   ]
  },
  {
   "cell_type": "code",
   "execution_count": 20,
   "id": "4dda5c3c-b706-4bc6-b13f-fdcc7320936a",
   "metadata": {},
   "outputs": [
    {
     "name": "stdout",
     "output_type": "stream",
     "text": [
      "1\n",
      "2\n",
      "3\n",
      "4\n",
      "5\n",
      "6\n",
      "7\n",
      "8\n",
      "9\n",
      "10\n"
     ]
    }
   ],
   "source": [
    "for i in range(1, 11):\n",
    "    print(i)"
   ]
  },
  {
   "cell_type": "code",
   "execution_count": 24,
   "id": "21c3b059-b671-42e4-9b35-33f86bd62d2a",
   "metadata": {},
   "outputs": [
    {
     "data": {
      "text/plain": [
       "[0, 1, 4, 9, 16, 25, 36, 49, 64, 81]"
      ]
     },
     "execution_count": 24,
     "metadata": {},
     "output_type": "execute_result"
    }
   ],
   "source": [
    "numeros_cuadrados = []\n",
    "\n",
    "for i in range(10):\n",
    "    numeros_cuadrados.append(i ** 2)\n",
    "\n",
    "numeros_cuadrados"
   ]
  },
  {
   "cell_type": "code",
   "execution_count": 25,
   "id": "4db407b6-3dc7-4a3c-a0dc-07ff23215652",
   "metadata": {},
   "outputs": [
    {
     "data": {
      "text/plain": [
       "range(0, 10)"
      ]
     },
     "execution_count": 25,
     "metadata": {},
     "output_type": "execute_result"
    }
   ],
   "source": [
    "range(10)"
   ]
  },
  {
   "cell_type": "code",
   "execution_count": 22,
   "id": "4dc40972-3418-4e9e-9576-679c735d91a8",
   "metadata": {},
   "outputs": [
    {
     "data": {
      "text/plain": [
       "\u001b[0;31mSignature:\u001b[0m \u001b[0mnumeros_cuadrados\u001b[0m\u001b[0;34m.\u001b[0m\u001b[0minsert\u001b[0m\u001b[0;34m(\u001b[0m\u001b[0mindex\u001b[0m\u001b[0;34m,\u001b[0m \u001b[0mobject\u001b[0m\u001b[0;34m,\u001b[0m \u001b[0;34m/\u001b[0m\u001b[0;34m)\u001b[0m\u001b[0;34m\u001b[0m\u001b[0;34m\u001b[0m\u001b[0m\n",
       "\u001b[0;31mDocstring:\u001b[0m Insert object before index.\n",
       "\u001b[0;31mType:\u001b[0m      builtin_function_or_method"
      ]
     },
     "metadata": {},
     "output_type": "display_data"
    }
   ],
   "source": [
    "numeros_cuadrados.insert?"
   ]
  },
  {
   "cell_type": "code",
   "execution_count": 23,
   "id": "5bd73690-38ad-41aa-bcfb-1a1a32990cb2",
   "metadata": {},
   "outputs": [
    {
     "data": {
      "text/plain": [
       "\u001b[0;31mSignature:\u001b[0m \u001b[0mnumeros_cuadrados\u001b[0m\u001b[0;34m.\u001b[0m\u001b[0mindex\u001b[0m\u001b[0;34m(\u001b[0m\u001b[0mvalue\u001b[0m\u001b[0;34m,\u001b[0m \u001b[0mstart\u001b[0m\u001b[0;34m=\u001b[0m\u001b[0;36m0\u001b[0m\u001b[0;34m,\u001b[0m \u001b[0mstop\u001b[0m\u001b[0;34m=\u001b[0m\u001b[0;36m9223372036854775807\u001b[0m\u001b[0;34m,\u001b[0m \u001b[0;34m/\u001b[0m\u001b[0;34m)\u001b[0m\u001b[0;34m\u001b[0m\u001b[0;34m\u001b[0m\u001b[0m\n",
       "\u001b[0;31mDocstring:\u001b[0m\n",
       "Return first index of value.\n",
       "\n",
       "Raises ValueError if the value is not present.\n",
       "\u001b[0;31mType:\u001b[0m      builtin_function_or_method"
      ]
     },
     "metadata": {},
     "output_type": "display_data"
    }
   ],
   "source": [
    "numeros_cuadrados.index?"
   ]
  },
  {
   "cell_type": "code",
   "execution_count": 14,
   "id": "69451753-f73d-406f-9fcd-2e12223d179b",
   "metadata": {},
   "outputs": [
    {
     "data": {
      "text/plain": [
       "[0, 1, 4, 9, 16, 25, 36, 49, 64, 81]"
      ]
     },
     "execution_count": 14,
     "metadata": {},
     "output_type": "execute_result"
    }
   ],
   "source": [
    "squared_list = [i * i for i in range(10)]\n",
    "squared_list"
   ]
  },
  {
   "cell_type": "code",
   "execution_count": 16,
   "id": "ee535418-94dd-409d-9765-31b6a2fb039a",
   "metadata": {},
   "outputs": [
    {
     "data": {
      "text/plain": [
       "[1, 4, 9, 16, 25, 36, 49, 64, 81, 100]"
      ]
     },
     "execution_count": 16,
     "metadata": {},
     "output_type": "execute_result"
    }
   ],
   "source": [
    "squared_list2 = [x * x for x in range(1,11)]\n",
    "squared_list2 "
   ]
  },
  {
   "cell_type": "markdown",
   "id": "cfe6f65a-e168-4919-8e27-f8fa46b201f3",
   "metadata": {},
   "source": [
    "## Comprensiones de Listas\n",
    "\n",
    "Las comprensiones de listas proporcionan una forma concisa de crear listas. Consisten en corchetes que contienen una expresión seguida por una cláusula `for`."
   ]
  },
  {
   "cell_type": "code",
   "execution_count": 21,
   "id": "ecff924e-1bcd-4b2f-821c-7f1fb7409426",
   "metadata": {},
   "outputs": [
    {
     "name": "stdout",
     "output_type": "stream",
     "text": [
      "[0, 1, 4, 9, 16, 25, 36, 49, 64, 81]\n"
     ]
    }
   ],
   "source": [
    "# Creando una lista de cuadrados usando comprensión de listas\n",
    "cuadrados = [x**2 for x in range(10)]\n",
    "print(cuadrados)"
   ]
  },
  {
   "cell_type": "markdown",
   "id": "61c85b93-a73b-41b8-a738-c5ef97135cea",
   "metadata": {},
   "source": [
    "### Métodos Comunes de Listas en Python\n",
    "\n",
    "| Método y Uso                      | Descripción                                                                                                                                                                 |\n",
    "|-----------------------------------|-----------------------------------------------------------------------------------------------------------------------------------------------------------------------------|\n",
    "| `append(item)`                    | Agrega un elemento al final de la lista.                                                                                                                                    |\n",
    "| `extend(iterable)`                | Extiende la lista agregando todos los elementos del iterable (por ejemplo, otra lista, tupla).                                                                              |\n",
    "| `insert(index, item)`             | Inserta un elemento en la posición dada. El primer argumento es el índice del elemento antes del cual insertar.                                                             |\n",
    "| `remove(item)`                    | Elimina la primera ocurrencia de un elemento de la lista. Lanza un `ValueError` si el elemento no está presente.                                                            |\n",
    "| `pop([index])`                    | Elimina y devuelve el elemento en la posición dada en la lista. Si no se especifica un índice, `pop()` elimina y devuelve el último elemento de la lista.                  |\n",
    "| `clear()`                         | Elimina todos los elementos de la lista. Equivalente a `del a[:]`.                                                                                                          |\n",
    "| `index(item, [start, [end]])`     | Devuelve el índice de la primera ocurrencia de un elemento. Los argumentos opcionales `start` y `end` se utilizan para limitar la búsqueda a una subsecuencia particular de la lista. |\n",
    "| `count(item)`                     | Devuelve el número de veces que aparece un elemento en la lista.                                                                                                            |\n",
    "| `sort(key=None, reverse=False)`   | Ordena los elementos de la lista en el lugar (los argumentos se pueden usar para personalizar la ordenación, `key` para una función de comparación personalizada y `reverse` para la dirección de ordenación). |\n",
    "| `reverse()`                       | Invierte los elementos de la lista en el lugar.                                                                                                                             |\n",
    "| `copy()`                          | Devuelve una copia superficial de la lista. Equivalente a `a[:]`.                                                                                                           |\n"
   ]
  },
  {
   "cell_type": "markdown",
   "id": "045fff58-2da1-49b3-9371-b72433335b30",
   "metadata": {},
   "source": [
    "## Tuplas\n",
    "\n",
    "### ¿Qué es una Tupla?\n",
    "Una tupla es una colección que está ordenada e inmutable. Las tuplas se usan para almacenar varios elementos en una única variable.\n",
    "\n",
    "### Creando Tuplas"
   ]
  },
  {
   "cell_type": "code",
   "execution_count": 23,
   "id": "e87236e9-bc4a-484f-beee-f1f95be0de8a",
   "metadata": {},
   "outputs": [],
   "source": [
    "# Creando una tupla vacía\n",
    "tupla_vacia = ()\n",
    "\n",
    "# Creando una tupla con elementos\n",
    "coordenadas = (10.0, 20.0)"
   ]
  },
  {
   "cell_type": "markdown",
   "id": "28166452-f65c-4f25-ae49-708e7343d3b2",
   "metadata": {},
   "source": [
    "#### Inmutabilidad de las Tuplas\n",
    "Las tuplas no pueden ser cambiadas después de su creación. Esta inmutabilidad hace que las tuplas sean más rápidas que las listas y protege los datos de ser alterados.\n",
    "\n",
    "#### Desempaquetado de Tuplas\n",
    "El desempaquetado de tuplas permite asignar cada elemento de una tupla a una variable de manera concisa."
   ]
  },
  {
   "cell_type": "code",
   "execution_count": 25,
   "id": "eba9133c-2b37-4ff8-9f88-b0a3f6ce4e5e",
   "metadata": {},
   "outputs": [
    {
     "name": "stdout",
     "output_type": "stream",
     "text": [
      "10.0 20.0\n"
     ]
    }
   ],
   "source": [
    "x, y = coordenadas\n",
    "print(x, y)"
   ]
  },
  {
   "cell_type": "markdown",
   "id": "1130e7df-94cb-4ff2-8345-7c569aab2bb1",
   "metadata": {},
   "source": [
    "#### Cuándo Usar Tuplas sobre Listas\n",
    "\n",
    "- Usa tuplas para tipos de datos heterogéneos (diferentes) y listas para tipos de datos homogéneos (similares).\n",
    "- Usa tuplas cuando tus datos no pueden cambiar.\n",
    "\n",
    "### Métodos Comunes de Tuplas en Python\n",
    "\n",
    "| Método/Función     | Descripción                                                                                                                                                             |\n",
    "|--------------------|-------------------------------------------------------------------------------------------------------------------------------------------------------------------------|\n",
    "| `tuple()`          | Se utiliza para crear una tupla.                                                                                                                                        |\n",
    "| `len(tuple)`       | Devuelve el número de elementos en la tupla.                                                                                                                            |\n",
    "| `max(tuple)`       | Devuelve el elemento con el valor máximo en la tupla.                                                                                                                   |\n",
    "| `min(tuple)`       | Devuelve el elemento con el valor mínimo en la tupla.                                                                                                                   |\n",
    "| `tuple.count(x)`   | Devuelve el número de veces que `x` aparece en la tupla.                                                                                                                |\n",
    "| `tuple.index(x)`   | Devuelve el índice de la primera aparición de `x` en la tupla. Lanza un `ValueError` si `x` no se encuentra.                                                            |\n",
    "| Operador `+`       | Concatena dos o más tuplas.                                                                                                                                             |\n",
    "| Operador `*`       | Repite la tupla un número determinado de veces.                                                                                                                         |\n",
    "| Operador `in`      | Verifica si un elemento existe en la tupla.                                                                                                                             |\n",
    "| `for item in tuple`| Itera sobre cada elemento en la tupla.                                                                                                                                  |\n",
    "\n",
    "### Ejercicios\n",
    "\n",
    "1. Creación y Acceso Básico:\n",
    "    - Crea una tupla con los nombres de cinco ciudades de México.\n",
    "    - Muestra el nombre de la tercera ciudad en la lista.\n",
    "2. Uso de Métodos de Tupla:\n",
    "    - Dada la tupla temperaturas = (22, 25, 17, 21, 18, 25, 22), encuentra cuántas veces aparece la temperatura 22.\n",
    "3. Concatenación y Repetición:\n",
    "    - Crea dos tuplas, una con los primeros tres meses del año y otra con los siguientes tres meses.\n",
    "    - Concatena ambas tuplas y luego repite la tupla resultante dos veces.\n",
    "4. Búsqueda y Indexación:\n",
    "    - Dada la tupla elementos = ('hidrógeno', 'helio', 'litio', 'berilio', 'boro'), verifica si 'litio' está presente en la tupla.\n",
    "    - Encuentra el índice de 'litio'.\n",
    "5. Manipulación Avanzada y Lógica:\n",
    "    - Crea una tupla con números del 1 al 10.\n",
    "    - Utiliza un bucle para imprimir cada número multiplicado por 2, pero solo si el número es mayor a 5."
   ]
  },
  {
   "cell_type": "code",
   "execution_count": null,
   "id": "fe5cfe1a-a3a7-4eaa-b67a-49b963250fdf",
   "metadata": {},
   "outputs": [],
   "source": []
  }
 ],
 "metadata": {
  "kernelspec": {
   "display_name": "Python 3 (ipykernel)",
   "language": "python",
   "name": "python3"
  },
  "language_info": {
   "codemirror_mode": {
    "name": "ipython",
    "version": 3
   },
   "file_extension": ".py",
   "mimetype": "text/x-python",
   "name": "python",
   "nbconvert_exporter": "python",
   "pygments_lexer": "ipython3",
   "version": "3.12.5"
  }
 },
 "nbformat": 4,
 "nbformat_minor": 5
}
