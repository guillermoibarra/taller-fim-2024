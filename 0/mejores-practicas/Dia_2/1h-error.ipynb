{
 "cells": [
  {
   "cell_type": "markdown",
   "id": "7a7c1a20-43fa-4ad9-b8f7-0548f3bab592",
   "metadata": {},
   "source": [
    "# Manejo de Errores con Estructuras de Control\n",
    "\n",
    "## Introducción al Manejo de Excepciones\n",
    "\n",
    "El manejo de excepciones es un aspecto crucial para escribir código robusto y confiable. En Python, las excepciones se utilizan para manejar errores que ocurren durante la ejecución del programa. Este cuaderno cubre varios aspectos del manejo de excepciones con estructuras de control.\n",
    "\n",
    "### Manejo de Excepciones con Bloques Try-Except\n",
    "\n",
    "Un bloque `try-except` nos permite capturar y manejar excepciones de manera elegante.\n"
   ]
  },
  {
   "cell_type": "code",
   "execution_count": 1,
   "id": "59c5f3d3-d85f-4f2d-978c-b457a3710ab2",
   "metadata": {},
   "outputs": [
    {
     "name": "stdout",
     "output_type": "stream",
     "text": [
      "Error: División por cero\n"
     ]
    }
   ],
   "source": [
    "try:\n",
    "    # Código que puede generar una excepción\n",
    "    resultado = 10 / 0\n",
    "except ZeroDivisionError:\n",
    "    # Manejar excepción específica\n",
    "    print(\"Error: División por cero\")"
   ]
  },
  {
   "cell_type": "markdown",
   "id": "33f73751-4a71-4320-9b70-c9da1f706ed2",
   "metadata": {},
   "source": [
    "### Manejo de Excepciones Específicas y Múltiples Excepciones\n",
    "\n",
    "Puedes especificar diferentes bloques `except` para manejar diferentes tipos de excepciones. Además, puedes manejar múltiples excepciones dentro de un solo bloque `except`."
   ]
  },
  {
   "cell_type": "code",
   "execution_count": 2,
   "id": "69d17b5b-3032-423c-b68c-d1693a4c101a",
   "metadata": {},
   "outputs": [
    {
     "name": "stdout",
     "output_type": "stream",
     "text": [
      "Error: Conversión inválida\n"
     ]
    }
   ],
   "source": [
    "try:\n",
    "    # Código que puede generar excepciones\n",
    "    resultado = int('abc')\n",
    "except ValueError:\n",
    "    # Manejar excepción específica\n",
    "    print(\"Error: Conversión inválida\")\n",
    "except TypeError:\n",
    "    # Manejar otra excepción específica\n",
    "    print(\"Error: Tipo incorrecto\")\n",
    "except Exception as e:\n",
    "    # Manejar cualquier otra excepción\n",
    "    print(\"Error:\", e)"
   ]
  },
  {
   "cell_type": "markdown",
   "id": "985fe5fa-309c-4e43-a9aa-5e6c8ea4a83a",
   "metadata": {},
   "source": [
    "### Uso de las Cláusulas Else y Finally\n",
    "\n",
    "La cláusula `else` en un bloque `try-except` se ejecuta si no se generan excepciones. La cláusula `finally` se ejecuta siempre, ya sea que ocurra una excepción o no, lo que la hace útil para operaciones de limpieza."
   ]
  },
  {
   "cell_type": "code",
   "execution_count": 3,
   "id": "aa259598-371b-46e0-ae36-f47818837c86",
   "metadata": {},
   "outputs": [
    {
     "name": "stdout",
     "output_type": "stream",
     "text": [
      "Resultado: 5.0\n",
      "Operaciones de limpieza\n"
     ]
    }
   ],
   "source": [
    "try:\n",
    "    # Código que puede generar una excepción\n",
    "    resultado = 10 / 2\n",
    "except ZeroDivisionError:\n",
    "    # Manejar excepción específica\n",
    "    print(\"Error: División por cero\")\n",
    "else:\n",
    "    # Ejecutar si no hay excepción\n",
    "    print(\"Resultado:\", resultado)\n",
    "finally:\n",
    "    # Siempre se ejecuta, útil para limpieza\n",
    "    print(\"Operaciones de limpieza\")"
   ]
  },
  {
   "cell_type": "markdown",
   "id": "350b9702-b32e-4cbc-a19c-91c6fe47f9f9",
   "metadata": {},
   "source": [
    "### Ejemplos Prácticos y Ejercicios\n",
    "\n",
    "Practica usando bloques `try-except` para manejar excepciones en varios escenarios. Escribe fragmentos de código para manejar excepciones específicas, múltiples excepciones y utiliza las cláusulas `else` y `finally` de manera efectiva."
   ]
  },
  {
   "cell_type": "code",
   "execution_count": 4,
   "id": "6aa00faf-b1aa-4894-b3fd-73b596289242",
   "metadata": {},
   "outputs": [
    {
     "name": "stdout",
     "output_type": "stream",
     "text": [
      "Error: División por cero\n",
      "Error: Conversión inválida\n",
      "Resultado: 5.0\n",
      "Operaciones de limpieza\n"
     ]
    }
   ],
   "source": [
    "# Ejemplo 1: Manejo de excepción específica\n",
    "try:\n",
    "    resultado = 10 / 0\n",
    "except ZeroDivisionError:\n",
    "    print(\"Error: División por cero\")\n",
    "\n",
    "# Ejemplo 2: Manejo de excepciones específicas y múltiples excepciones\n",
    "try:\n",
    "    resultado = int('abc')\n",
    "except ValueError:\n",
    "    print(\"Error: Conversión inválida\")\n",
    "except TypeError:\n",
    "    print(\"Error: Tipo incorrecto\")\n",
    "except Exception as e:\n",
    "    print(\"Error:\", e)\n",
    "\n",
    "# Ejemplo 3: Uso de las cláusulas else y finally\n",
    "try:\n",
    "    resultado = 10 / 2\n",
    "except ZeroDivisionError:\n",
    "    print(\"Error: División por cero\")\n",
    "else:\n",
    "    print(\"Resultado:\", resultado)\n",
    "finally:\n",
    "    print(\"Operaciones de limpieza\")\n"
   ]
  },
  {
   "cell_type": "markdown",
   "id": "6ebf9370-8261-4eaa-a1e7-c4d3f0ca6a1a",
   "metadata": {},
   "source": [
    "### Conjunto de Problemas:\n",
    "\n",
    "1. **Problema: Verificación de Palíndromos**\n",
    "   Escribe una función en Python para verificar si una cadena dada es un palíndromo o no. Un palíndromo es una palabra, frase, número u otra secuencia de caracteres que se lee igual de adelante hacia atrás.\n",
    "\n",
    "2. **Problema: Generador de Números Primos**\n",
    "   Escribe una función generadora en Python para generar números primos hasta un límite dado. Los números primos son números mayores que 1 que no tienen divisores excepto 1 y ellos mismos.\n",
    "\n",
    "3. **Problema: Multiplicación de Matrices**\n",
    "   Escribe una función en Python para realizar la multiplicación de matrices para dos matrices dadas. Asegúrate de que las dimensiones de las matrices sean compatibles para la multiplicación.\n",
    "\n",
    "4. **Problema: Caminos Únicos**\n",
    "   Dada una cuadrícula de tamaño m x n, escribe una función en Python para encontrar el número de caminos únicos desde la esquina superior izquierda hasta la esquina inferior derecha, donde solo puedes moverte hacia abajo o hacia la derecha.\n",
    "\n",
    "5. **Problema: Subsecuencia Común Más Larga**\n",
    "   Escribe una función en Python para encontrar la longitud de la subsecuencia común más larga entre dos cadenas dadas.\n",
    "\n",
    "6. **Problema: Suma de Subarreglo Máximo**\n",
    "   Escribe una función en Python para encontrar el subarreglo contiguo dentro de una matriz unidimensional de números que tenga la suma más grande.\n",
    "\n",
    "7. **Problema: Descomposición de Palabras**\n",
    "   Dada una cadena no vacía s y un diccionario wordDict que contiene una lista de palabras no vacías, determina si s puede descomponerse en una secuencia separada por espacios de una o más palabras del diccionario.\n",
    "\n",
    "8. **Problema: Problema del Viajero Comerciante**\n",
    "   Escribe una función en Python para resolver el Problema del Viajero Comerciante (TSP) utilizando un enfoque de fuerza bruta. Dada una lista de ciudades y las distancias entre cada par de ciudades, encuentra la ruta más corta posible que visite cada ciudad exactamente una vez y regrese a la ciudad de origen.\n",
    "\n"
   ]
  },
  {
   "cell_type": "code",
   "execution_count": null,
   "id": "fada7957-e75a-491f-9dc6-fd16aa8d151b",
   "metadata": {},
   "outputs": [],
   "source": []
  }
 ],
 "metadata": {
  "kernelspec": {
   "display_name": "Python 3 (ipykernel)",
   "language": "python",
   "name": "python3"
  },
  "language_info": {
   "codemirror_mode": {
    "name": "ipython",
    "version": 3
   },
   "file_extension": ".py",
   "mimetype": "text/x-python",
   "name": "python",
   "nbconvert_exporter": "python",
   "pygments_lexer": "ipython3",
   "version": "3.11.7"
  }
 },
 "nbformat": 4,
 "nbformat_minor": 5
}
