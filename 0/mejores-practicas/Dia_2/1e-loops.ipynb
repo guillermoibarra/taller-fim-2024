{
 "cells": [
  {
   "cell_type": "markdown",
   "id": "0f1e0893-4bfd-41a0-8131-d449f8c8601c",
   "metadata": {},
   "source": [
    "# Estructuras de Bucle/Loops\n",
    "\n",
    "## Introducción\n",
    "\n",
    "En este cuaderno, exploraremos las estructuras de bucle en Python. Cubriremos los bucles básicos 'for' y 'while', iterando sobre diferentes estructuras de datos, declaraciones de control de bucle y bucles anidados.\n",
    "\n",
    "## 1. Bucles For\n",
    "\n",
    "### Sintaxis Básica\n",
    "\n",
    "El bucle `for` en Python se utiliza para iterar sobre una secuencia (como una lista, tupla o cadena) u otros objetos iterables. La sintaxis básica de un bucle `for` es la siguiente:\n",
    "\n",
    "```python\n",
    "for elemento in secuencia:\n",
    "    # hacer algo con el elemento\n"
   ]
  },
  {
   "cell_type": "markdown",
   "id": "2b603048-c8a9-465f-bba1-cdac6e6aa320",
   "metadata": {},
   "source": [
    "### Ejemplo: Iterar sobre una Lista\n",
    "\n",
    "Comencemos con un ejemplo simple de iteración sobre una lista de números:"
   ]
  },
  {
   "cell_type": "code",
   "execution_count": 1,
   "id": "523fb3fb-f6f2-4c80-9e46-2caaf4a454f5",
   "metadata": {},
   "outputs": [
    {
     "name": "stdout",
     "output_type": "stream",
     "text": [
      "1\n",
      "2\n",
      "3\n",
      "4\n",
      "5\n"
     ]
    }
   ],
   "source": [
    "numeros = [1, 2, 3, 4, 5]\n",
    "\n",
    "for num in numeros:\n",
    "    print(num)"
   ]
  },
  {
   "cell_type": "markdown",
   "id": "b483f025-475a-425a-b027-07036c76b9ad",
   "metadata": {},
   "source": [
    "### Ejercicio 1\n",
    "\n",
    "Escribe un bucle for para calcular la suma de todos los elementos en la lista `numeros`."
   ]
  },
  {
   "cell_type": "code",
   "execution_count": 2,
   "id": "41f6ad57-13fa-4760-83be-6496b3ebf85a",
   "metadata": {},
   "outputs": [
    {
     "name": "stdout",
     "output_type": "stream",
     "text": [
      "Suma de los números: 15\n"
     ]
    }
   ],
   "source": [
    "# Solución Ejercicio 1\n",
    "numeros = [1, 2, 3, 4, 5]\n",
    "suma_numeros = 0\n",
    "\n",
    "for num in numeros:\n",
    "    suma_numeros += num\n",
    "\n",
    "print(\"Suma de los números:\", suma_numeros)"
   ]
  },
  {
   "cell_type": "code",
   "execution_count": 3,
   "id": "ed30e375-b950-4583-8e5e-2756754d1a2b",
   "metadata": {},
   "outputs": [
    {
     "data": {
      "text/plain": [
       "15"
      ]
     },
     "execution_count": 3,
     "metadata": {},
     "output_type": "execute_result"
    }
   ],
   "source": [
    "sum(numeros)"
   ]
  },
  {
   "cell_type": "markdown",
   "id": "da703329-28f3-433c-b14f-f2817315a146",
   "metadata": {},
   "source": [
    "## 2. Bucles While\n",
    "\n",
    "### Sintaxis Básica\n",
    "\n",
    "El bucle while en Python se utiliza para ejecutar repetidamente un bloque de código mientras una condición especificada sea verdadera. La sintaxis básica de un bucle while es la siguiente:\n",
    "\n",
    "```python\n",
    "while condicion:\n",
    "    # hacer algo\n",
    "    # actualizar condición (para evitar bucle infinito)"
   ]
  },
  {
   "cell_type": "markdown",
   "id": "fce33987-7b28-4424-8ca3-2bc18e6392f4",
   "metadata": {},
   "source": [
    "### Ejemplo: Cuenta Regresiva\n",
    "\n",
    "Escribamos un bucle while para contar regresivamente de 5 a 1:"
   ]
  },
  {
   "cell_type": "code",
   "execution_count": 5,
   "id": "d16e6978-06a8-423b-8ce7-8c2658e727b7",
   "metadata": {},
   "outputs": [
    {
     "name": "stdout",
     "output_type": "stream",
     "text": [
      "5\n",
      "4\n",
      "3\n",
      "2\n",
      "1\n"
     ]
    }
   ],
   "source": [
    "contador = 5\n",
    "\n",
    "while contador > 0:\n",
    "    print(contador)\n",
    "    contador -= 1"
   ]
  },
  {
   "cell_type": "markdown",
   "id": "bdedaa1c-17e7-4a18-b918-bb188d6cc2aa",
   "metadata": {},
   "source": [
    "### Ejercicio 2\n",
    "\n",
    "Escribe un bucle while para encontrar el factorial de un número dado `n`."
   ]
  },
  {
   "cell_type": "code",
   "execution_count": 6,
   "id": "98b3a627-f845-48ed-b61f-d81987764c8a",
   "metadata": {},
   "outputs": [
    {
     "name": "stdout",
     "output_type": "stream",
     "text": [
      "Factorial de 5 es 120\n"
     ]
    }
   ],
   "source": [
    "# Solución Ejercicio 2\n",
    "n = 5\n",
    "factorial = 1\n",
    "i = 1\n",
    "\n",
    "while i <= n:\n",
    "    factorial *= i\n",
    "    i += 1\n",
    "\n",
    "print(\"Factorial de\", n, \"es\", factorial)"
   ]
  },
  {
   "cell_type": "markdown",
   "id": "82a474a5-5cf3-4cdd-8861-52ae2ddc87f2",
   "metadata": {},
   "source": [
    "### 3. Iteración sobre diferentes estructuras de datos\n",
    "\n",
    "#### Ejemplo: Iterar sobre un diccionario\n",
    "\n",
    "Podemos usar un bucle 'for' para iterar sobre las claves o valores de un diccionario:\n",
    "\n"
   ]
  },
  {
   "cell_type": "code",
   "execution_count": 1,
   "id": "b8219b1e-ca52-4cb5-b8f1-fd6da58f8437",
   "metadata": {},
   "outputs": [
    {
     "name": "stdout",
     "output_type": "stream",
     "text": [
      "nombre : Alice\n",
      "edad : 30\n",
      "ciudad : Nueva York\n"
     ]
    }
   ],
   "source": [
    "persona = {'nombre': 'Alice', 'edad': 30, 'ciudad': 'Nueva York'}\n",
    "\n",
    "for clave in persona:\n",
    "    print(clave, \":\", persona[clave])\n"
   ]
  },
  {
   "cell_type": "markdown",
   "id": "8a1dffc8-2497-4cfe-b688-419b91023692",
   "metadata": {},
   "source": [
    "#### Ejercicio 3\n",
    "\n",
    "Escribe un programa para contar la frecuencia de cada carácter en una cadena dada."
   ]
  },
  {
   "cell_type": "code",
   "execution_count": 2,
   "id": "ec265ff3-95a3-45f2-b95f-7d761f896a9e",
   "metadata": {},
   "outputs": [
    {
     "name": "stdout",
     "output_type": "stream",
     "text": [
      "Frecuencia de caracteres: {'h': 1, 'o': 2, 'l': 1, 'a': 1, ' ': 1, 'm': 1, 'u': 1, 'n': 1, 'd': 1}\n"
     ]
    }
   ],
   "source": [
    "# Solución del ejercicio 3\n",
    "cadena = \"hola mundo\"\n",
    "frecuencia_caracteres = {}\n",
    "\n",
    "for char in cadena:\n",
    "    if char in frecuencia_caracteres:\n",
    "        frecuencia_caracteres[char] += 1\n",
    "    else:\n",
    "        frecuencia_caracteres[char] = 1\n",
    "\n",
    "print(\"Frecuencia de caracteres:\", frecuencia_caracteres)\n"
   ]
  },
  {
   "cell_type": "markdown",
   "id": "b9f4799b-4100-4350-a613-b2fdcb0dc21a",
   "metadata": {},
   "source": [
    "### 4. Declaraciones de control de bucle\n",
    "\n",
    "#### Ejemplo: Declaración 'break'\n",
    "\n",
    "La declaración break se utiliza para salir prematuramente de un bucle basado en una cierta condición. Vamos a usarlo para encontrar el primer número negativo en una lista:"
   ]
  },
  {
   "cell_type": "code",
   "execution_count": 3,
   "id": "d8b13d20-c2f5-41ee-a26f-b565ace66a37",
   "metadata": {},
   "outputs": [
    {
     "name": "stdout",
     "output_type": "stream",
     "text": [
      "Primer número negativo encontrado: -3\n"
     ]
    }
   ],
   "source": [
    "numeros = [1, 2, -3, 4, -5, 6]\n",
    "\n",
    "for num in numeros:\n",
    "    if num < 0:\n",
    "        print(\"Primer número negativo encontrado:\", num)\n",
    "        break\n"
   ]
  },
  {
   "cell_type": "markdown",
   "id": "e20d5048-bc48-4a33-ab13-cabcf3be5cf8",
   "metadata": {},
   "source": [
    "#### Ejemplo: Declaración 'continue'\n",
    "\n",
    "La declaración continue se utiliza para saltar el resto del código dentro de un bucle para la iteración actual y continuar con la siguiente iteración. Vamos a usarlo para omitir la impresión de números pares:"
   ]
  },
  {
   "cell_type": "code",
   "execution_count": 4,
   "id": "e797a51e-2b6c-4e38-8818-7ed75ac5db76",
   "metadata": {},
   "outputs": [
    {
     "name": "stdout",
     "output_type": "stream",
     "text": [
      "1\n",
      "3\n",
      "5\n"
     ]
    }
   ],
   "source": [
    "numeros = [1, 2, 3, 4, 5, 6]\n",
    "\n",
    "for num in numeros:\n",
    "    if num % 2 == 0:\n",
    "        continue\n",
    "    print(num)\n"
   ]
  },
  {
   "cell_type": "markdown",
   "id": "09a554ca-5d25-426e-9d9e-55d6513f97bc",
   "metadata": {},
   "source": [
    "### 5. Conjuntos de problemas\n",
    "\n",
    "#### 1: Números primos\n",
    "\n",
    "Escribe un programa en Python para imprimir todos los números primos entre 0 y 100.\n",
    "\n",
    "#### 2: Serie de Fibonacci\n",
    "\n",
    "Escribe un programa en Python para generar la serie de Fibonacci hasta n términos.\n",
    "\n",
    "#### 3: Verificación de palíndromos\n",
    "\n",
    "Escribe un programa en Python para verificar si un número dado es un palíndromo.\n",
    "\n",
    "#### 4: Triángulo de Pascal\n",
    "\n",
    "Escribe un programa en Python para imprimir el triángulo de Pascal para n número de filas.\n",
    "\n",
    "#### 5: Impresión de patrones\n",
    "\n",
    "Escribe un programa en Python para imprimir el siguiente patrón:\n",
    "1\n",
    "22\n",
    "333\n",
    "4444\n",
    "55555\n",
    "\n",
    "#### 6: Multiplicación de matrices\n",
    "\n",
    "Escribe un programa en Python para realizar la multiplicación de matrices de dos matrices dadas.\n",
    "\n",
    "#### 7: Criba de Eratóstenes\n",
    "\n",
    "Escribe un programa en Python para implementar el algoritmo de la criba de Eratóstenes para encontrar todos los números primos hasta un límite dado.\n",
    "\n",
    "#### 8: Serie exponencial\n",
    "\n",
    "Escribe un programa en Python para calcular la suma de la serie exponencial para un valor dado de x y n términos."
   ]
  },
  {
   "cell_type": "code",
   "execution_count": null,
   "id": "542ba0a9-58b7-4cb9-be41-64d5fed6e9f6",
   "metadata": {},
   "outputs": [],
   "source": []
  }
 ],
 "metadata": {
  "kernelspec": {
   "display_name": "Python 3 (ipykernel)",
   "language": "python",
   "name": "python3"
  },
  "language_info": {
   "codemirror_mode": {
    "name": "ipython",
    "version": 3
   },
   "file_extension": ".py",
   "mimetype": "text/x-python",
   "name": "python",
   "nbconvert_exporter": "python",
   "pygments_lexer": "ipython3",
   "version": "3.11.7"
  }
 },
 "nbformat": 4,
 "nbformat_minor": 5
}
