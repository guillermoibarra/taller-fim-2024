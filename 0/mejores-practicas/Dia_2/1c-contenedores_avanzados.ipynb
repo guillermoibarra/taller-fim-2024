{
 "cells": [
  {
   "cell_type": "markdown",
   "id": "081338b3-3659-4229-bff1-160bc87ceb4f",
   "metadata": {},
   "source": [
    "# Contenedores Avanzados y Clases de Datos\n",
    "\n",
    "## Introducción\n",
    "\n",
    "En este cuaderno, exploraremos tipos de contenedores más avanzados en Python, incluyendo aquellos disponibles en el módulo `collections` y clases de datos. Estas estructuras ofrecen funcionalidades especializadas más allá de las listas, tuplas, conjuntos y diccionarios básicos.\n",
    "\n",
    "### Objetivo\n",
    "\n",
    "- Comprender los casos de uso para tipos de contenedores avanzados.\n",
    "- Aprender a implementar y utilizar clases de datos para el manejo de datos estructurados.\n",
    "\n",
    "## 1. Módulo Collections\n",
    "\n",
    "### Teoría\n",
    "\n",
    "El módulo `collections` en Python proporciona tipos de datos de contenedor especializados que amplían las funcionalidades de los tipos incorporados. Exploraremos lo siguiente:\n",
    "\n",
    "- `namedtuple`: Una función de fábrica para crear subclases de tuplas con campos nombrados.\n",
    "- `deque`: Colas de doble extremo.\n",
    "- `Counter`: Una subclase de diccionario para contar objetos hashables.\n",
    "- `OrderedDict`: Una subclase de diccionario que recuerda el orden en que se agregan sus contenidos.\n",
    "\n",
    "### Ejemplos\n",
    "\n",
    "Veamos cómo se pueden usar cada uno de estos tipos en escenarios prácticos:\n",
    "\n",
    "#### namedtuple"
   ]
  },
  {
   "cell_type": "code",
   "execution_count": 1,
   "id": "779ff00f-1389-451e-a872-578758b9d54e",
   "metadata": {},
   "outputs": [
    {
     "name": "stdout",
     "output_type": "stream",
     "text": [
      "1 2\n"
     ]
    }
   ],
   "source": [
    "from collections import namedtuple\n",
    "\n",
    "# Definir una tupla con nombre para representar puntos 2D\n",
    "Punto = namedtuple('Punto', ['x', 'y'])\n",
    "\n",
    "p1 = Punto(1, 2)\n",
    "print(p1.x, p1.y)"
   ]
  },
  {
   "cell_type": "markdown",
   "id": "082a7905-1911-402a-895a-98008abd8c07",
   "metadata": {},
   "source": [
    "#### deque"
   ]
  },
  {
   "cell_type": "code",
   "execution_count": 11,
   "id": "c0ae7250-53a2-454b-851b-b02083219dee",
   "metadata": {},
   "outputs": [
    {
     "data": {
      "text/plain": [
       "['__add__',\n",
       " '__class__',\n",
       " '__class_getitem__',\n",
       " '__contains__',\n",
       " '__copy__',\n",
       " '__delattr__',\n",
       " '__delitem__',\n",
       " '__dir__',\n",
       " '__doc__',\n",
       " '__eq__',\n",
       " '__format__',\n",
       " '__ge__',\n",
       " '__getattribute__',\n",
       " '__getitem__',\n",
       " '__getstate__',\n",
       " '__gt__',\n",
       " '__hash__',\n",
       " '__iadd__',\n",
       " '__imul__',\n",
       " '__init__',\n",
       " '__init_subclass__',\n",
       " '__iter__',\n",
       " '__le__',\n",
       " '__len__',\n",
       " '__lt__',\n",
       " '__mul__',\n",
       " '__ne__',\n",
       " '__new__',\n",
       " '__reduce__',\n",
       " '__reduce_ex__',\n",
       " '__repr__',\n",
       " '__reversed__',\n",
       " '__rmul__',\n",
       " '__setattr__',\n",
       " '__setitem__',\n",
       " '__sizeof__',\n",
       " '__str__',\n",
       " '__subclasshook__',\n",
       " 'append',\n",
       " 'appendleft',\n",
       " 'clear',\n",
       " 'copy',\n",
       " 'count',\n",
       " 'extend',\n",
       " 'extendleft',\n",
       " 'index',\n",
       " 'insert',\n",
       " 'maxlen',\n",
       " 'pop',\n",
       " 'popleft',\n",
       " 'remove',\n",
       " 'reverse',\n",
       " 'rotate']"
      ]
     },
     "execution_count": 11,
     "metadata": {},
     "output_type": "execute_result"
    }
   ],
   "source": [
    "from collections import deque\n",
    "\n",
    "# Crear un deque para agregar y quitar eficientemente desde ambos extremos\n",
    "d = deque([1, 2, 3])\n",
    "d.appendleft(0)\n",
    "d.append(4)\n",
    "dir(d)"
   ]
  },
  {
   "cell_type": "markdown",
   "id": "a51da5e0-23c3-47ff-b03a-284a378ebbd8",
   "metadata": {},
   "source": [
    "#### Counter"
   ]
  },
  {
   "cell_type": "code",
   "execution_count": 3,
   "id": "5351d96b-08c4-4c6f-9fd0-86a7eb371a3a",
   "metadata": {},
   "outputs": [
    {
     "name": "stdout",
     "output_type": "stream",
     "text": [
      "3\n"
     ]
    }
   ],
   "source": [
    "from collections import Counter\n",
    "\n",
    "# Contar las ocurrencias de elementos en una lista\n",
    "colores = ['rojo', 'azul', 'rojo', 'verde', 'azul', 'azul']\n",
    "conteo_colores = Counter(colores)\n",
    "print(conteo_colores['azul'])"
   ]
  },
  {
   "cell_type": "markdown",
   "id": "1ed7e03f-5377-4494-b225-0dc5b7d24018",
   "metadata": {},
   "source": [
    "#### OrderedDict"
   ]
  },
  {
   "cell_type": "code",
   "execution_count": 10,
   "id": "e36f2b35-8593-4b21-bba4-57f41d9517a2",
   "metadata": {},
   "outputs": [
    {
     "name": "stdout",
     "output_type": "stream",
     "text": [
      "OrderedDict([('a', 1), ('b', 2), ('c', 3)])\n"
     ]
    }
   ],
   "source": [
    "from collections import OrderedDict\n",
    "\n",
    "# Mantener el orden de los elementos del diccionario\n",
    "d = OrderedDict()\n",
    "d['a'] = 1\n",
    "d['b'] = 2\n",
    "d['c'] = 3\n",
    "\n",
    "print(d)"
   ]
  },
  {
   "cell_type": "markdown",
   "id": "f549f891-faba-4dda-bffd-b8f26cfd42d8",
   "metadata": {},
   "source": [
    "### Ejercicios\n",
    "\n",
    "1. Crea una namedtuple que represente un punto 3D con coordenadas x, y, y z.\n",
    "2. Usa un deque para implementar una pila con operaciones de inserción y eliminación.\n",
    "3. Cuenta la frecuencia de caracteres en una cadena dada utilizando Counter."
   ]
  },
  {
   "cell_type": "code",
   "execution_count": null,
   "id": "4e1d6bdc-efcd-4aaf-9881-be2ff9256eeb",
   "metadata": {},
   "outputs": [],
   "source": []
  },
  {
   "cell_type": "markdown",
   "id": "5424a8af-e158-4e0b-8dc5-a0f538847126",
   "metadata": {},
   "source": [
    "---\n",
    "\n",
    "## Clases de Datos\n",
    "\n",
    "### Teoría\n",
    "\n",
    "Las clases de datos proporcionan una manera conveniente de definir clases para almacenar datos sin escribir código innecesario. Ofrecen varias ventajas sobre las clases tradicionales, incluida la generación automática de métodos `__init__`, `__repr__`, y `__eq__`. Ya que una clase de datos es una clase \"reducida\" ya que solo se definen sus atributos, no se pueden definir metodos o funciones.\n",
    "\n",
    "### Ejemplos\n",
    "\n",
    "Definamos una clase de datos simple para representar a un estudiante:"
   ]
  },
  {
   "cell_type": "code",
   "execution_count": 21,
   "id": "cf70ca91-cb86-4ec7-95f6-880e0f17444d",
   "metadata": {},
   "outputs": [
    {
     "data": {
      "text/plain": [
       "False"
      ]
     },
     "execution_count": 21,
     "metadata": {},
     "output_type": "execute_result"
    }
   ],
   "source": [
    "from dataclasses import dataclass\n",
    "\n",
    "@dataclass\n",
    "class Estudiante:    \n",
    "    nombre: str\n",
    "    edad: int\n",
    "    calificacion: float\n",
    "\n",
    "# Crear instancias de la clase Estudiante\n",
    "e1 = Estudiante(\"Ana\", 20, 85.5)\n",
    "e2 = Estudiante(\"Jaime\", 25, 80)\n",
    "\n",
    "e1.nombre == \"Jorge\""
   ]
  },
  {
   "cell_type": "code",
   "execution_count": 7,
   "id": "3a332c1b-d954-4b37-892f-b95d1682ddd9",
   "metadata": {},
   "outputs": [
    {
     "data": {
      "text/plain": [
       "False"
      ]
     },
     "execution_count": 7,
     "metadata": {},
     "output_type": "execute_result"
    }
   ],
   "source": []
  },
  {
   "cell_type": "markdown",
   "id": "f6a60cff-c26d-4577-be63-a43c6b3069f7",
   "metadata": {},
   "source": [
    "### Ejercicios\n",
    "\n",
    "1. Define una clase de datos para representar un libro con atributos como título, autor y precio.\n",
    "2. Crea instancias de la clase de libro y realiza comparaciones basadas en el precio.\n",
    "3. Implementa un método en la clase de libro para calcular un precio con descuento."
   ]
  },
  {
   "cell_type": "code",
   "execution_count": 46,
   "id": "8cc1e923-51ec-4b7a-b279-87518fb20974",
   "metadata": {},
   "outputs": [],
   "source": [
    "from dataclasses import dataclass\n",
    "\n",
    "@dataclass\n",
    "class Libro:\n",
    "    titulo: str\n",
    "    autor: str\n",
    "    precio: float"
   ]
  },
  {
   "cell_type": "code",
   "execution_count": 34,
   "id": "d8336051-58e9-434a-b96f-57beb68c6ec5",
   "metadata": {},
   "outputs": [],
   "source": [
    "l1 = Libro('Python paso 1', 'ININ', 50.0)\n",
    "l2 = Libro('Ing Nuclear', 'ESFM', 75.0)\n",
    "l3 = Libro('Ing Quimica', 'UNAM', 25.0)\n",
    "\n",
    "libros = [l2, l3, l1]"
   ]
  },
  {
   "cell_type": "code",
   "execution_count": 40,
   "id": "3dccecd3-f97a-4446-b231-993c2a47ce72",
   "metadata": {},
   "outputs": [
    {
     "data": {
      "text/plain": [
       "[Libro(titulo='Ing Quimica', autor='UNAM', precio=25.0),\n",
       " Libro(titulo='Python paso 1', autor='ININ', precio=50.0),\n",
       " Libro(titulo='Ing Nuclear', autor='ESFM', precio=75.0)]"
      ]
     },
     "execution_count": 40,
     "metadata": {},
     "output_type": "execute_result"
    }
   ],
   "source": [
    "def get_precio(d): return d.precio\n",
    "libros.sort(key=get_precio)\n",
    "libros"
   ]
  },
  {
   "cell_type": "code",
   "execution_count": 41,
   "id": "aa52c8a6-77d2-4ebe-ad1f-b02722f70b32",
   "metadata": {},
   "outputs": [
    {
     "data": {
      "text/plain": [
       "[Libro(titulo='Ing Nuclear', autor='ESFM', precio=75.0),\n",
       " Libro(titulo='Ing Quimica', autor='UNAM', precio=25.0),\n",
       " Libro(titulo='Python paso 1', autor='ININ', precio=50.0)]"
      ]
     },
     "execution_count": 41,
     "metadata": {},
     "output_type": "execute_result"
    }
   ],
   "source": [
    "def get_titulo(d): return d.titulo\n",
    "libros.sort(key=get_titulo)\n",
    "libros"
   ]
  },
  {
   "cell_type": "code",
   "execution_count": 43,
   "id": "cd5555b9-78b0-4577-9840-15f71e2f2d50",
   "metadata": {},
   "outputs": [
    {
     "data": {
      "text/plain": [
       "Libro(titulo='Python paso 1', autor='ININ', precio=100)"
      ]
     },
     "execution_count": 43,
     "metadata": {},
     "output_type": "execute_result"
    }
   ],
   "source": [
    "l1.precio = 100\n",
    "l1"
   ]
  },
  {
   "cell_type": "code",
   "execution_count": 50,
   "id": "e70566a6-3e02-4c9b-9079-782191fca851",
   "metadata": {},
   "outputs": [],
   "source": [
    "def descuento(libro, val):\n",
    "    precio_original = libro.precio\n",
    "    precio_final = precio_original * (100 - val)/100\n",
    "    return precio_final"
   ]
  },
  {
   "cell_type": "code",
   "execution_count": 51,
   "id": "1837b9fc-811d-4068-9a57-4cebf7d07f7d",
   "metadata": {},
   "outputs": [
    {
     "data": {
      "text/plain": [
       "80.0"
      ]
     },
     "execution_count": 51,
     "metadata": {},
     "output_type": "execute_result"
    }
   ],
   "source": [
    "descuento(l1, 20)"
   ]
  },
  {
   "cell_type": "code",
   "execution_count": 52,
   "id": "35788a62-4e6f-4c43-a101-f039a06f9c25",
   "metadata": {},
   "outputs": [
    {
     "data": {
      "text/plain": [
       "['__annotations__',\n",
       " '__class__',\n",
       " '__dataclass_fields__',\n",
       " '__dataclass_params__',\n",
       " '__delattr__',\n",
       " '__dict__',\n",
       " '__dir__',\n",
       " '__doc__',\n",
       " '__eq__',\n",
       " '__format__',\n",
       " '__ge__',\n",
       " '__getattribute__',\n",
       " '__getstate__',\n",
       " '__gt__',\n",
       " '__hash__',\n",
       " '__init__',\n",
       " '__init_subclass__',\n",
       " '__le__',\n",
       " '__lt__',\n",
       " '__match_args__',\n",
       " '__module__',\n",
       " '__ne__',\n",
       " '__new__',\n",
       " '__reduce__',\n",
       " '__reduce_ex__',\n",
       " '__repr__',\n",
       " '__setattr__',\n",
       " '__sizeof__',\n",
       " '__str__',\n",
       " '__subclasshook__',\n",
       " '__weakref__',\n",
       " 'autor',\n",
       " 'precio',\n",
       " 'titulo']"
      ]
     },
     "execution_count": 52,
     "metadata": {},
     "output_type": "execute_result"
    }
   ],
   "source": [
    "dir(l1)"
   ]
  },
  {
   "cell_type": "code",
   "execution_count": null,
   "id": "faaf28f0-47d2-467c-ba23-8cab6c8859cc",
   "metadata": {},
   "outputs": [],
   "source": []
  }
 ],
 "metadata": {
  "kernelspec": {
   "display_name": "Python 3 (ipykernel)",
   "language": "python",
   "name": "python3"
  },
  "language_info": {
   "codemirror_mode": {
    "name": "ipython",
    "version": 3
   },
   "file_extension": ".py",
   "mimetype": "text/x-python",
   "name": "python",
   "nbconvert_exporter": "python",
   "pygments_lexer": "ipython3",
   "version": "3.11.7"
  }
 },
 "nbformat": 4,
 "nbformat_minor": 5
}
