{
 "cells": [
  {
   "cell_type": "markdown",
   "id": "ff427d08-634f-44ac-835f-ac1698982430",
   "metadata": {},
   "source": [
    "# Introducción a la Programación Orientada a Objetos (OOP)\n",
    "\n",
    "La Programación Orientada a Objetos (OOP) es un paradigma de programación basado en el concepto de \"objetos\", los cuales pueden contener datos en forma de campos (a menudo conocidos como atributos o propiedades) y código, en forma de procedimientos (a menudo conocidos como métodos). OOP permite a los programadores crear módulos que pueden reutilizarse en diferentes partes de una aplicación o incluso en diferentes aplicaciones, proporcionando una estructura modular clara para los programas.\n",
    "\n",
    "## Conceptos y Principios\n",
    "\n",
    "OOP se construye alrededor de varios conceptos clave:\n",
    "\n",
    "- **Clases y Objetos**: Los bloques de construcción fundamentales de OOP. Una clase es un plano para objetos, definiendo los atributos y métodos que caracterizan a cualquier objeto de la clase. Un objeto es una instancia de una clase.\n",
    "\n",
    "- **Atributos y Métodos**: Los atributos son datos almacenados dentro de un objeto. Los métodos son funciones definidas dentro de una clase y pueden operar sobre objetos de esa clase.\n",
    "\n",
    "- **Encapsulamiento y Abstracción**: El encapsulamiento implica agrupar los datos (atributos) y los métodos que operan sobre los datos en una única unidad, una clase, y controlar el acceso a esos datos. La abstracción significa ocultar los complejos detalles de implementación y mostrar solo las características esenciales del objeto.\n",
    "\n",
    "- **Herencia**: Un mecanismo para crear nuevas clases a partir de existentes, heredando atributos y métodos, lo que permite la reutilización de código y la creación de una jerarquía de clases.\n",
    "\n",
    "- **Polimorfismo**: La capacidad de usar una interfaz común para múltiples formas (tipos de datos). En OOP, permite que objetos de diferentes clases sean tratados como objetos de una superclase común.\n",
    "\n",
    "# Conceptos Básicos de OOP en Python\n",
    "\n",
    "Python es un lenguaje orientado a objetos y proporciona todas las características estándar de OOP. La sintaxis para definir clases, objetos y sus atributos y métodos es directa y clara.\n",
    "\n",
    "## Creación de Clase y Objeto\n",
    "\n",
    "### Definición de una Clase\n",
    "\n",
    "Una clase en Python se define usando la palabra clave `class`, seguida del nombre de la clase y dos puntos. Dentro de la clase, se define un método `__init__` para inicializar los atributos del objeto, y se pueden definir otros métodos para agregar funcionalidad."
   ]
  },
  {
   "cell_type": "code",
   "execution_count": 1,
   "id": "2c491d15-8e81-4460-825d-4177d8fc8ef9",
   "metadata": {},
   "outputs": [],
   "source": [
    "class MiClase:\n",
    "    def __init__(self, atributo):\n",
    "        self.atributo = atributo\n",
    "\n",
    "    def metodo(self):\n",
    "        return f\"Mi atributo es {self.atributo}\""
   ]
  },
  {
   "cell_type": "markdown",
   "id": "c62a48e9-6a7b-4eea-87a0-42023a998a95",
   "metadata": {},
   "source": [
    "### Creación de un Objeto\n",
    "\n",
    "Un objeto se crea llamando al nombre de la clase con los argumentos requeridos, que se pasan al método `__init__`."
   ]
  },
  {
   "cell_type": "code",
   "execution_count": 2,
   "id": "a7a82e67-f34a-42e3-9ec2-7f826f4c0e67",
   "metadata": {},
   "outputs": [
    {
     "name": "stdout",
     "output_type": "stream",
     "text": [
      "Mi atributo es Valor\n"
     ]
    }
   ],
   "source": [
    "mi_objeto = MiClase(\"Valor\")\n",
    "print(mi_objeto.metodo())"
   ]
  },
  {
   "cell_type": "markdown",
   "id": "4a101aae-6b53-494a-aaee-5ceb4cbb5664",
   "metadata": {},
   "source": [
    "## Herencia en Python\n",
    "\n",
    "La herencia nos permite definir una clase que hereda todos los métodos y propiedades de otra clase.\n",
    "\n",
    "### Definición de una Clase Base y Derivada"
   ]
  },
  {
   "cell_type": "code",
   "execution_count": 3,
   "id": "f01f25bb-634d-4438-a843-d06a494eb6d8",
   "metadata": {},
   "outputs": [],
   "source": [
    "class ClaseBase:\n",
    "    def __init__(self):\n",
    "        self.atributo_base = \"Atributo base\"\n",
    "\n",
    "    def metodo_base(self):\n",
    "        return \"Este es un método base\"\n",
    "\n",
    "class ClaseDerivada(ClaseBase):\n",
    "    def __init__(self):\n",
    "        super().__init__()  # Inicializar atributos de la clase base\n",
    "        self.atributo_derivado = \"Atributo derivado\"\n",
    "\n",
    "    def metodo_derivado(self):\n",
    "        return \"Este es un método derivado\""
   ]
  },
  {
   "cell_type": "markdown",
   "id": "73c3078b-8a98-4f07-9e88-bdfe5c697e9f",
   "metadata": {},
   "source": [
    "### Uso de la Herencia"
   ]
  },
  {
   "cell_type": "code",
   "execution_count": 4,
   "id": "437f180d-d8e8-4d07-8563-6b48bd3edd6b",
   "metadata": {},
   "outputs": [
    {
     "name": "stdout",
     "output_type": "stream",
     "text": [
      "Este es un método base\n",
      "Este es un método derivado\n"
     ]
    }
   ],
   "source": [
    "objeto_derivado = ClaseDerivada()\n",
    "print(objeto_derivado.metodo_base())  # Accediendo método de la clase base\n",
    "print(objeto_derivado.metodo_derivado())  # Accediendo método de la clase derivada"
   ]
  },
  {
   "cell_type": "markdown",
   "id": "722a3b19-4fd3-445e-967e-1f0625e87f14",
   "metadata": {},
   "source": [
    "## Encapsulamiento y Abstracción\n",
    "\n",
    "El encapsulamiento se logra definiendo atributos (o métodos) privados (o protegidos), generalmente denotados por un prefijo de guion bajo simple (o doble).\n",
    "\n",
    "### Uso de Decoradores de Propiedad\n",
    "\n",
    "Los decoradores de propiedad se utilizan para definir funciones getter, setter y deleter para un atributo, proporcionando una forma de acceder a atributos privados sin exponerlos directamente."
   ]
  },
  {
   "cell_type": "code",
   "execution_count": 5,
   "id": "a08aa268-f0bc-44cf-8714-232d062f922a",
   "metadata": {},
   "outputs": [
    {
     "name": "stdout",
     "output_type": "stream",
     "text": [
      "Valor Inicial\n",
      "Nuevo Valor\n"
     ]
    }
   ],
   "source": [
    "class ClaseEncapsulada:\n",
    "    def __init__(self, attr_privado):\n",
    "        self.__attr_privado = attr_privado\n",
    "\n",
    "    @property\n",
    "    def attr_privado(self):\n",
    "        return self.__attr_privado\n",
    "\n",
    "    @attr_privado.setter\n",
    "    def attr_privado(self, valor):\n",
    "        self.__attr_privado = valor\n",
    "\n",
    "objeto_encapsulado = ClaseEncapsulada(\"Valor Inicial\")\n",
    "print(objeto_encapsulado.attr_privado)  # Accediendo usando propiedad\n",
    "objeto_encapsulado.attr_privado = \"Nuevo Valor\"  # Modificando usando setter\n",
    "print(objeto_encapsulado.attr_privado)"
   ]
  },
  {
   "cell_type": "markdown",
   "id": "4376bfc2-78ab-44c2-966b-928db0630786",
   "metadata": {},
   "source": [
    "## Polimorfismo en Python\n",
    "\n",
    "El polimorfismo en Python se logra principalmente a través de la sobrescritura de métodos, donde un método en una clase derivada utiliza el mismo nombre que un método en su clase base pero realiza una función potencialmente diferente.\n",
    "\n",
    "### Sobrescritura del Método"
   ]
  },
  {
   "cell_type": "code",
   "execution_count": 6,
   "id": "671b03a0-07c7-46bb-84c9-d7a5ff886884",
   "metadata": {},
   "outputs": [
    {
     "name": "stdout",
     "output_type": "stream",
     "text": [
      "Implementación base\n",
      "Implementación derivada\n"
     ]
    }
   ],
   "source": [
    "class Base:\n",
    "    def metodo_comun(self):\n",
    "        return \"Implementación base\"\n",
    "\n",
    "class Derivada(Base):\n",
    "    def metodo_comun(self):\n",
    "        return \"Implementación derivada\"\n",
    "\n",
    "objeto_base = Base()\n",
    "objeto_derivado = Derivada()\n",
    "\n",
    "print(objeto_base.metodo_comun())  # Salida: Implementación base\n",
    "print(objeto_derivado.metodo_comun())  # Salida: Implementación derivada"
   ]
  },
  {
   "cell_type": "markdown",
   "id": "e00972a2-a3b6-48a5-a570-48f691bb50ba",
   "metadata": {
    "jp-MarkdownHeadingCollapsed": true
   },
   "source": [
    "---\n",
    "\n",
    "### Problemas\n",
    "\n",
    "#### Problema 1: Implementar una Clase Vector\n",
    "Crea una clase `Vector` para representar vectores en un espacio bidimensional. La clase debe admitir las siguientes características:\n",
    "- Inicialización de instancias de vector con dos argumentos: `x` e `y`, que representan los componentes del vector a lo largo de los ejes X e Y, respectivamente.\n",
    "- Un método para calcular la magnitud del vector.\n",
    "- Sobrecargar el operador de suma (`+`) para admitir la suma de dos vectores.\n",
    "- Un método para devolver una representación en cadena del vector en el formato \"Vector(x, y)\".\n",
    "\n",
    "#### Problema 2: Diseñar una Simulación de Ecosistema Simple\n",
    "Diseña una simulación de ecosistema básica que involucre dos tipos de entidades: `Planta` y `Herbívoro`. Utiliza las siguientes directrices:\n",
    "- La clase `Planta` debe tener un atributo `energía`, que representa la energía que puede proporcionar a un herbívoro cuando se consume.\n",
    "- La clase `Herbívoro` debe heredar de una clase base `Animal` y tener un atributo `energía` que represente su nivel actual de energía.\n",
    "- Implementa un método en `Herbívoro` para `comer` una planta, lo que aumenta la energía del herbívoro por la energía de la planta.\n",
    "- Asegúrate de que un herbívoro solo pueda comer una planta una vez, y que la planta no pueda proporcionar energía después de ser comida.\n",
    "\n",
    "#### Problema 3: Crear un Sistema de Gestión de Bibliotecas\n",
    "Implementa un sistema de gestión de bibliotecas simplificado con los siguientes requisitos:\n",
    "- Una clase `Libro` con atributos como `título`, `autor` y `isbn`.\n",
    "- Una clase `Biblioteca` que mantiene una colección de libros y proporciona métodos para `agregar_libro`, `eliminar_libro` y `encontrar_libro_por_título`.\n",
    "- Implementa la funcionalidad en la clase `Biblioteca` para prestar y devolver libros, manteniendo un registro de los libros disponibles y prestados.\n",
    "\n",
    "#### Problema 4: Desarrollar una Herramienta de Análisis de Datos Científicos\n",
    "Desarrolla una estructura de clases para una herramienta de análisis de datos científicos que pueda manejar diferentes tipos de datos (por ejemplo, `DatosDeTemperatura`, `DatosDePresión`). Sigue estas especificaciones:\n",
    "- Una clase base `Datos` con atributos comunes como `mediciones` (una lista de valores numéricos) y `marca_de_tiempo` (una lista de marcas de tiempo correspondientes a cada medición).\n",
    "- Clases derivadas para diferentes tipos de datos, cada una con un método específico relevante para el tipo de datos (por ejemplo, `calcular_promedio` para `DatosDeTemperatura`).\n",
    "- Implementa un método para cargar datos desde un archivo para cada tipo de datos, asumiendo un formato simple de CSV.\n",
    "\n",
    "#### Problema 5: Implementar una Jerarquía de Formas con Cálculo de Área\n",
    "Diseña una jerarquía de formas con una clase base `Forma` y clases derivadas como `Rectángulo`, `Círculo` y `Triángulo`. Cada forma debe tener:\n",
    "- Un método `área` que calcula y devuelve el área de la forma.\n",
    "- Atributos apropiados para cada forma (por ejemplo, radio para `Círculo`, base y altura para `Triángulo`, largo y ancho para `Rectángulo`).\n",
    "- La clase base `Forma` debe tener un método `describir` que devuelva una cadena describiendo la forma (por ejemplo, \"Círculo con radio 5\").\n",
    "\n",
    "### Sugerencias para la Resolución de Problemas\n",
    "- Utiliza la encapsulación para proteger los atributos donde sea apropiado.\n",
    "- Aplica el polimorfismo y la herencia de manera efectiva para minimizar la duplicación de código y mejorar la legibilidad del código.\n",
    "- Asegura el uso adecuado de métodos de clase e instancia, incluyendo el uso de decoradores `@staticmethod` y `@classmethod` donde sea aplicable.\n",
    "- Escribe docstrings claros y concisos para cada clase y método, explicando su propósito y uso."
   ]
  },
  {
   "cell_type": "code",
   "execution_count": null,
   "id": "f28af7df-cec4-4ca0-95f4-648039458d3c",
   "metadata": {},
   "outputs": [],
   "source": []
  }
 ],
 "metadata": {
  "kernelspec": {
   "display_name": "Python 3 (ipykernel)",
   "language": "python",
   "name": "python3"
  },
  "language_info": {
   "codemirror_mode": {
    "name": "ipython",
    "version": 3
   },
   "file_extension": ".py",
   "mimetype": "text/x-python",
   "name": "python",
   "nbconvert_exporter": "python",
   "pygments_lexer": "ipython3",
   "version": "3.11.7"
  }
 },
 "nbformat": 4,
 "nbformat_minor": 5
}
