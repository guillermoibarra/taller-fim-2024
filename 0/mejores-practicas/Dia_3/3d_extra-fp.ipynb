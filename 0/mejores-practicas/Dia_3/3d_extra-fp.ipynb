{
 "cells": [
  {
   "cell_type": "markdown",
   "id": "95a82347-cbf0-4a27-a6f7-5bca744f6555",
   "metadata": {},
   "source": [
    "# Funciones Complementarias de la Presentación"
   ]
  },
  {
   "cell_type": "code",
   "execution_count": 3,
   "id": "1568cc51-8802-4100-a31d-5bc76f801f5e",
   "metadata": {},
   "outputs": [
    {
     "data": {
      "text/plain": [
       "55"
      ]
     },
     "execution_count": 3,
     "metadata": {},
     "output_type": "execute_result"
    }
   ],
   "source": [
    "# Pure function example: Fibonacci sequence\n",
    "def fibonacci(n):\n",
    "    if n in (0, 1):\n",
    "        return n\n",
    "    return fibonacci(n - 1) + fibonacci(n - 2)\n",
    "\n",
    "# This will calculate the 10th Fibonacci number\n",
    "fibonacci(10)  # Output: 55"
   ]
  },
  {
   "cell_type": "code",
   "execution_count": 10,
   "id": "352454bc-d49c-49f5-80d0-1c0804beb2fa",
   "metadata": {},
   "outputs": [
    {
     "data": {
      "text/plain": [
       "((), ('Python',), ())"
      ]
     },
     "execution_count": 10,
     "metadata": {},
     "output_type": "execute_result"
    }
   ],
   "source": [
    "# Demonstrating immutability with a complex data structure\n",
    "def add_to_nested_tuple(tup, element, index):\n",
    "    return tup[:index] + (tup[index] + (element,),) + tup[index + 1:]\n",
    "\n",
    "original_tuple = ((), (), ())\n",
    "new_tuple = add_to_nested_tuple(original_tuple, 'Python', 1)  # ((), ('Python',), ())\n",
    "new_tuple"
   ]
  },
  {
   "cell_type": "code",
   "execution_count": 11,
   "id": "0579e560-882a-46e2-a5ed-661e67969692",
   "metadata": {},
   "outputs": [
    {
     "name": "stdout",
     "output_type": "stream",
     "text": [
      "[18, 28, 40]\n"
     ]
    }
   ],
   "source": [
    "# Usage of map and filter with a custom function\n",
    "def complex_operation(x):\n",
    "    return x ** 2 - 5 * x + 4\n",
    "\n",
    "numbers = range(1, 10)\n",
    "# Apply a complex operation and then filter results greater than 10\n",
    "results = filter(lambda x: x > 10, map(complex_operation, numbers))\n",
    "print(list(results))  # Output will be values that satisfy the condition\n"
   ]
  },
  {
   "cell_type": "code",
   "execution_count": 12,
   "id": "1c5450e9-73e6-47c5-b15c-d6e4cfc6dad7",
   "metadata": {},
   "outputs": [
    {
     "name": "stdout",
     "output_type": "stream",
     "text": [
      "[{'name': 'Alice', 'age_in_2024': 31}, {'name': 'Bob', 'age_in_2024': 26}]\n"
     ]
    }
   ],
   "source": [
    "# Example showcasing the use of first-class functions in a more complex scenario\n",
    "def profile_data_transform(func, data):\n",
    "    return [func(item) for item in data]\n",
    "\n",
    "def age_transform(data):\n",
    "    return {\"name\": data[\"name\"], \"age_in_2024\": data[\"age\"] + 1}\n",
    "\n",
    "data = [{\"name\": \"Alice\", \"age\": 30}, {\"name\": \"Bob\", \"age\": 25}]\n",
    "transformed_data = profile_data_transform(age_transform, data)\n",
    "print(transformed_data)\n"
   ]
  },
  {
   "cell_type": "code",
   "execution_count": 13,
   "id": "c28fd85e-6295-45aa-9158-1acb13d8f676",
   "metadata": {},
   "outputs": [
    {
     "name": "stdout",
     "output_type": "stream",
     "text": [
      "120\n"
     ]
    }
   ],
   "source": [
    "# Lambda function example\n",
    "import functools\n",
    "\n",
    "# Using a lambda function to compute the product of a list's elements\n",
    "numbers = [1, 2, 3, 4, 5]\n",
    "product = functools.reduce(lambda x, y: x * y, numbers)\n",
    "print(product)  # Output: 120\n"
   ]
  },
  {
   "cell_type": "code",
   "execution_count": 14,
   "id": "79d8ad15-03c1-4ca2-af2a-1c04dd338000",
   "metadata": {},
   "outputs": [
    {
     "data": {
      "text/plain": [
       "[1, 1, 2, 3, 6, 8, 10]"
      ]
     },
     "execution_count": 14,
     "metadata": {},
     "output_type": "execute_result"
    }
   ],
   "source": [
    "# Recursive function: QuickSort algorithm\n",
    "def quicksort(arr):\n",
    "    if len(arr) <= 1:\n",
    "        return arr\n",
    "    pivot = arr[len(arr) // 2]\n",
    "    left = [x for x in arr if x < pivot]\n",
    "    middle = [x for x in arr if x == pivot]\n",
    "    right = [x for x in arr if x > pivot]\n",
    "    return quicksort(left) + middle + quicksort(right)\n",
    "\n",
    "# Sorting an array using the quicksort function\n",
    "quicksort([3,6,8,10,1,2,1])  # Output: [1, 1, 2, 3, 6, 8, 10]\n"
   ]
  },
  {
   "cell_type": "code",
   "execution_count": 15,
   "id": "73d44b83-7f81-4561-936a-84ed003194ec",
   "metadata": {},
   "outputs": [
    {
     "name": "stdout",
     "output_type": "stream",
     "text": [
      "[('even', 0), ('odd', 1), ('even', 2), ('odd', 3), ('even', 4), ('odd', 5), ('even', 6), ('odd', 7), ('even', 8), ('odd', 9), ('even', 10), ('odd', 11), ('even', 12), ('odd', 13), ('even', 14), ('odd', 15)]\n"
     ]
    }
   ],
   "source": [
    "# List comprehension involving conditional logic\n",
    "numbers = range(16)\n",
    "# Create a list of ('even', x) and ('odd', x) tuples depending on the number's parity\n",
    "parity_list = [(\"even\", x) if x % 2 == 0 else (\"odd\", x) for x in numbers]\n",
    "print(parity_list)\n"
   ]
  },
  {
   "cell_type": "code",
   "execution_count": 16,
   "id": "3f3e5776-e647-434b-9d85-2b2e2f89c202",
   "metadata": {},
   "outputs": [
    {
     "name": "stdout",
     "output_type": "stream",
     "text": [
      "120\n"
     ]
    }
   ],
   "source": [
    "from functools import reduce\n",
    "\n",
    "# Reduce example using a lambda function to compute factorial\n",
    "factorial = reduce(lambda x, y: x*y, range(1, 6))\n",
    "print(factorial)  # Output: 120, which is 5!\n"
   ]
  },
  {
   "cell_type": "code",
   "execution_count": 17,
   "id": "33fb3c13-2e0e-43b5-9b90-4aba63e594bd",
   "metadata": {},
   "outputs": [
    {
     "name": "stdout",
     "output_type": "stream",
     "text": [
      "41075\n"
     ]
    }
   ],
   "source": [
    "# Practical example using functional programming concepts\n",
    "numbers = range(1, 21)\n",
    "\n",
    "# Use map to compute cubes, filter to select cubes over 1000, and reduce to find their sum\n",
    "cubes_over_1000_sum = reduce(\n",
    "    lambda x, y: x + y,\n",
    "    filter(\n",
    "        lambda x: x > 1000,\n",
    "        map(lambda x: x**3, numbers)\n",
    "    )\n",
    ")\n",
    "\n",
    "print(cubes_over_1000_sum)  # Output: The sum of cubes greater than 1000 from the list\n"
   ]
  },
  {
   "cell_type": "code",
   "execution_count": null,
   "id": "9f94fee7-1c4d-4558-9431-a9741e989d6f",
   "metadata": {},
   "outputs": [],
   "source": []
  }
 ],
 "metadata": {
  "kernelspec": {
   "display_name": "Python 3 (ipykernel)",
   "language": "python",
   "name": "python3"
  },
  "language_info": {
   "codemirror_mode": {
    "name": "ipython",
    "version": 3
   },
   "file_extension": ".py",
   "mimetype": "text/x-python",
   "name": "python",
   "nbconvert_exporter": "python",
   "pygments_lexer": "ipython3",
   "version": "3.11.7"
  }
 },
 "nbformat": 4,
 "nbformat_minor": 5
}
