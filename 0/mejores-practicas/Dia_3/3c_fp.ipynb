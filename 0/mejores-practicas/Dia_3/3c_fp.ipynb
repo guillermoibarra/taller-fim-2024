{
 "cells": [
  {
   "cell_type": "markdown",
   "id": "4168370e-030a-4da1-85af-e779a3532ae8",
   "metadata": {},
   "source": [
    "# Programación Funcional en Python\n",
    "\n",
    "## Introducción a la Programación Funcional\n",
    "- **Definición y Conceptos Clave**\n",
    "  - Funciones Puras\n",
    "  - Inmutabilidad\n",
    "  - Funciones de Orden Superior\n",
    "  - Funciones de Primera Clase\n",
    "- **Ventajas de la Programación Funcional**\n",
    "  - Simplicidad y legibilidad\n",
    "  - Depuración y pruebas más sencillas\n",
    "  - Adecuado para procesamiento paralelo\n",
    "\n",
    "## Funciones Puras\n",
    "- **Definición**: Una función que, dado el mismo input, siempre devolverá el mismo output y no tiene efectos secundarios observables.\n",
    "- **Ejemplo**:"
   ]
  },
  {
   "cell_type": "code",
   "execution_count": 1,
   "id": "f3e8db52-7238-4b0a-b98f-40a66571a38b",
   "metadata": {},
   "outputs": [],
   "source": [
    "def suma_pura(x, y):\n",
    "    return x + y"
   ]
  },
  {
   "cell_type": "markdown",
   "id": "5f0e046e-311b-4e85-af8c-2b6724c188af",
   "metadata": {},
   "source": [
    "## Inmutabilidad\n",
    "- **Definición**: Los datos no se pueden modificar una vez creados. En lugar de ello, se crean nuevas estructuras de datos a partir de las existentes.\n",
    "- **Ejemplo**:"
   ]
  },
  {
   "cell_type": "code",
   "execution_count": 2,
   "id": "882bf5b2-75b1-4e29-8fb1-b404e66927fe",
   "metadata": {},
   "outputs": [],
   "source": [
    "def agregar_a_lista_inmutable(lista_original, elemento):\n",
    "    return lista_original + [elemento]"
   ]
  },
  {
   "cell_type": "markdown",
   "id": "4712a734-3d6a-404a-91aa-17a6207bc9cc",
   "metadata": {},
   "source": [
    "## Funciones de Orden Superior\n",
    "- **Definición**: Funciones que toman otras funciones como argumentos o las devuelven como resultados.\n",
    "- **Ejemplos**:\n",
    "  - Usando `map`:"
   ]
  },
  {
   "cell_type": "code",
   "execution_count": 3,
   "id": "0423fc18-3396-452f-89f2-6f2fc48702e5",
   "metadata": {},
   "outputs": [
    {
     "name": "stdout",
     "output_type": "stream",
     "text": [
      "[1, 4, 9, 16]\n"
     ]
    }
   ],
   "source": [
    "def cuadrado(x):\n",
    "    return x * x\n",
    "\n",
    "numeros = [1, 2, 3, 4]\n",
    "cuadrados = map(cuadrado, numeros)\n",
    "print(list(cuadrados))"
   ]
  },
  {
   "cell_type": "markdown",
   "id": "6a6f3216-b656-436e-97a8-37d720b705b3",
   "metadata": {},
   "source": [
    "  - Usando `filter`:"
   ]
  },
  {
   "cell_type": "code",
   "execution_count": 6,
   "id": "262ff70c-c284-49ff-a8ed-dcf68adfb0fd",
   "metadata": {},
   "outputs": [
    {
     "name": "stdout",
     "output_type": "stream",
     "text": [
      "[2, 4, 6]\n"
     ]
    }
   ],
   "source": [
    "def es_par(x):\n",
    "    return x % 2 == 0\n",
    "\n",
    "numeros = [1, 2, 3, 4, 5, 6]\n",
    "numeros_pares = filter(es_par, numeros)\n",
    "print(list(numeros_pares))"
   ]
  },
  {
   "cell_type": "markdown",
   "id": "2af27548-5437-4e04-865d-c630cba5cea2",
   "metadata": {},
   "source": [
    "## Funciones de Primera Clase\n",
    "- **Definición**: Las funciones en Python son ciudadanos de primera clase, lo que significa que se pueden pasar y utilizar como argumentos igual que cualquier otro objeto (string, int, float, etc.).\n",
    "- **Ejemplo**:"
   ]
  },
  {
   "cell_type": "code",
   "execution_count": 7,
   "id": "5f06c0e4-cbcc-4bda-8d6a-d1b671357fc9",
   "metadata": {},
   "outputs": [
    {
     "name": "stdout",
     "output_type": "stream",
     "text": [
      "Hola, Alice\n"
     ]
    }
   ],
   "source": [
    "def saludar(nombre):\n",
    "    return \"Hola, \" + nombre\n",
    "\n",
    "def llamar_func(func):\n",
    "    otro_nombre = \"Alice\"\n",
    "    return func(otro_nombre)\n",
    "\n",
    "print(llamar_func(saludar))"
   ]
  },
  {
   "cell_type": "markdown",
   "id": "b3375581-c481-453d-aad7-d7fb9122578a",
   "metadata": {},
   "source": [
    "## Funciones Lambda\n",
    "- **Definición**: Funciones anónimas definidas usando la palabra clave `lambda`.\n",
    "- **Ejemplo**:"
   ]
  },
  {
   "cell_type": "code",
   "execution_count": 8,
   "id": "3af62f46-8eec-4ea7-91c3-292003c1732c",
   "metadata": {},
   "outputs": [
    {
     "name": "stdout",
     "output_type": "stream",
     "text": [
      "6\n",
      "6\n"
     ]
    }
   ],
   "source": [
    "# Función regular\n",
    "def multiplicar(x, y):\n",
    "    return x * y\n",
    "\n",
    "# Función lambda\n",
    "lambda_multiplicar = lambda x, y: x * y\n",
    "\n",
    "print(multiplicar(2, 3))\n",
    "print(lambda_multiplicar(2, 3))"
   ]
  },
  {
   "cell_type": "markdown",
   "id": "ae93bd3f-5fd7-4918-992d-ca3efd4e82f4",
   "metadata": {},
   "source": [
    "## Comprensiones de Listas y Programación Funcional\n",
    "- **Definición**: Construcción sintáctica disponible en Python para crear una lista basada en listas existentes.\n",
    "- **Ejemplo**:"
   ]
  },
  {
   "cell_type": "code",
   "execution_count": 9,
   "id": "25f86593-df6f-47ba-a436-6f626b5b231f",
   "metadata": {},
   "outputs": [
    {
     "name": "stdout",
     "output_type": "stream",
     "text": [
      "[1, 4, 9, 16, 25]\n"
     ]
    }
   ],
   "source": [
    "numeros = [1, 2, 3, 4, 5]\n",
    "cuadrados = [x**2 for x in numeros]\n",
    "print(cuadrados)"
   ]
  },
  {
   "cell_type": "markdown",
   "id": "dd07b024-2532-493d-86de-0b0daea1e1e0",
   "metadata": {},
   "source": [
    "## Herramientas Funcionales: `functools`\n",
    "- **Visión general del módulo `functools`**: Un módulo para funciones de orden superior que trabajan en otras funciones.\n",
    "- **Ejemplo con `reduce`**:"
   ]
  },
  {
   "cell_type": "code",
   "execution_count": 11,
   "id": "25be23bc-9b59-4455-ba83-bd58b36e4813",
   "metadata": {},
   "outputs": [
    {
     "name": "stdout",
     "output_type": "stream",
     "text": [
      "15\n"
     ]
    }
   ],
   "source": [
    "from functools import reduce\n",
    "\n",
    "def sumar(x, y):\n",
    "    return x + y\n",
    "\n",
    "numeros = [1, 2, 3, 4, 5]\n",
    "resultado = reduce(sumar, numeros)\n",
    "print(resultado)"
   ]
  },
  {
   "cell_type": "markdown",
   "id": "92d72f96-fe37-450e-9603-1f879dbcfd96",
   "metadata": {},
   "source": [
    "## Ejercicio Práctico\n",
    "- **Planteamiento del Problema**: Dada una lista de números, utilizar conceptos de programación funcional para encontrar la suma de los cuadrados de los números pares.\n",
    "- **Solución**:"
   ]
  },
  {
   "cell_type": "code",
   "execution_count": 13,
   "id": "47472bbb-5176-4e8b-8251-57b1380b3207",
   "metadata": {},
   "outputs": [
    {
     "name": "stdout",
     "output_type": "stream",
     "text": [
      "220\n"
     ]
    }
   ],
   "source": [
    "numeros = [1, 2, 3, 4, 5, 6, 7, 8, 9, 10]\n",
    "\n",
    "# Usando map, filter y reduce\n",
    "cuadrados_pares = map(lambda x: x**2, filter(lambda x: x % 2 == 0, numeros))\n",
    "suma_de_cuadrados_pares = reduce(lambda x, y: x + y, cuadrados_pares)\n",
    "\n",
    "print(suma_de_cuadrados_pares)"
   ]
  },
  {
   "cell_type": "markdown",
   "id": "fe92fac0-a90d-46d9-96c5-0e5da775fe1a",
   "metadata": {},
   "source": [
    "## Regresando a Otro Ejemplo\n",
    "\n",
    "Ordenar un `DataClass`"
   ]
  },
  {
   "cell_type": "code",
   "execution_count": 17,
   "id": "b22cbe59-2e6a-4299-8027-95ba579cd6fb",
   "metadata": {},
   "outputs": [
    {
     "data": {
      "text/plain": [
       "[Libro(titulo='Ing Quimica', autor='UNAM', precio=25.0),\n",
       " Libro(titulo='Python paso 1', autor='ININ', precio=50.0),\n",
       " Libro(titulo='Ing Nuclear', autor='ESFM', precio=75.0)]"
      ]
     },
     "execution_count": 17,
     "metadata": {},
     "output_type": "execute_result"
    }
   ],
   "source": [
    "from dataclasses import dataclass\n",
    "\n",
    "@dataclass\n",
    "class Libro:\n",
    "    titulo: str\n",
    "    autor: str\n",
    "    precio: float\n",
    "\n",
    "l1 = Libro('Python paso 1', 'ININ', 50.0)\n",
    "l2 = Libro('Ing Nuclear', 'ESFM', 75.0)\n",
    "l3 = Libro('Ing Quimica', 'UNAM', 25.0)\n",
    "\n",
    "libros = [l2, l3, l1]\n",
    "libros.sort(key=lambda d: d.precio)\n",
    "libros"
   ]
  },
  {
   "cell_type": "markdown",
   "id": "06b5a95e-6491-417b-9f55-f290e255f93c",
   "metadata": {},
   "source": [
    "---\n",
    "\n",
    "# Problemas de Tarea de Programación Funcional\n",
    "\n",
    "## Problema 1: Filtrando Números Primos\n",
    "Dada una lista de enteros, utiliza una combinación de `filter` y una función lambda para devolver una lista que contenga solo los números primos.\n",
    "\n",
    "## Problema 2: Secuencia de Fibonacci con `reduce`\n",
    "Usando la función `functools.reduce`, crea una función que genere una lista que contenga los primeros N números de la secuencia de Fibonacci. Recuerda, la secuencia de Fibonacci se genera sumando los dos números anteriores en la secuencia, comenzando con 0 y 1.\n",
    "\n",
    "## Problema 3: Implementación Personalizada de Map\n",
    "Implementa tu propia versión de la función `map` llamada `my_map`. Debe tomar dos argumentos: una función y un iterable, y debe devolver una lista donde cada elemento es el resultado de aplicar la función al elemento correspondiente en el iterable.\n",
    "\n",
    "## Problema 4: Transformación de Datos\n",
    "Dada una lista de diccionarios que representan a personas con las claves `name`, `age` y `profession`, utiliza conceptos de programación funcional para:\n",
    "- Filtrar a cualquier persona menor de 18 años.\n",
    "- Transformar el diccionario agregando un nuevo par clave-valor, donde la clave es `can_vote` y el valor es un booleano que indica si la edad de la persona es de 18 años o más.\n",
    "- Utilizar una función de ordenación personalizada para ordenar la lista resultante por edad.\n",
    "\n",
    "## Problema 5: Aplanamiento de Lista Anidada con Recursión\n",
    "Escribe una función usando recursión para aplanar una lista anidada (una lista donde algunos elementos pueden ser listas ellos mismos). La función debe ser capaz de manejar múltiples niveles de anidación.\n",
    "\n",
    "### Ejemplo de Entrada y Salida para el Problema 5\n",
    "- Entrada: `[1, [2, 3], [4, [5, 6]], 7]`\n",
    "- Salida: `[1, 2, 3, 4, 5, 6, 7]`\n"
   ]
  },
  {
   "cell_type": "code",
   "execution_count": null,
   "id": "4c05eb33-b048-478f-b74a-be8598d23c19",
   "metadata": {},
   "outputs": [],
   "source": []
  }
 ],
 "metadata": {
  "kernelspec": {
   "display_name": "Python 3 (ipykernel)",
   "language": "python",
   "name": "python3"
  },
  "language_info": {
   "codemirror_mode": {
    "name": "ipython",
    "version": 3
   },
   "file_extension": ".py",
   "mimetype": "text/x-python",
   "name": "python",
   "nbconvert_exporter": "python",
   "pygments_lexer": "ipython3",
   "version": "3.12.5"
  }
 },
 "nbformat": 4,
 "nbformat_minor": 5
}
