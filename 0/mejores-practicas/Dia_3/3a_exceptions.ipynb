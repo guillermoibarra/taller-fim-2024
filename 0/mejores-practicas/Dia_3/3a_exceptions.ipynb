{
 "cells": [
  {
   "cell_type": "markdown",
   "id": "16a0e464-675e-4e4b-a8b2-6ba3211e790b",
   "metadata": {},
   "source": [
    "# Introducción a Excepciones y Errores de Sintaxis\n",
    "\n",
    "En Python, los errores pueden ocurrir por diversas razones y se clasifican principalmente en dos tipos: errores de sintaxis y excepciones.\n",
    "\n",
    "- **Errores de Sintaxis**: Ocurren cuando el analizador de Python detecta una declaración incorrecta. Estos errores se capturan antes de la ejecución del programa.\n",
    "- **Excepciones**: Son errores detectados durante la ejecución de un programa, incluso si la sintaxis es correcta.\n",
    "\n",
    "Exploraremos la diferencia con ejemplos.\n"
   ]
  },
  {
   "cell_type": "code",
   "execution_count": 1,
   "id": "91e880be-83cf-4b0a-b506-4fc5fb8ea350",
   "metadata": {},
   "outputs": [
    {
     "ename": "SyntaxError",
     "evalue": "incomplete input (3438745305.py, line 2)",
     "output_type": "error",
     "traceback": [
      "\u001b[0;36m  Cell \u001b[0;32mIn[1], line 2\u001b[0;36m\u001b[0m\n\u001b[0;31m    print(\"Hola mundo\"\u001b[0m\n\u001b[0m                      ^\u001b[0m\n\u001b[0;31mSyntaxError\u001b[0m\u001b[0;31m:\u001b[0m incomplete input\n"
     ]
    }
   ],
   "source": [
    "# Ejemplo de Error de Sintaxis\n",
    "print(\"Hola mundo\""
   ]
  },
  {
   "cell_type": "code",
   "execution_count": 2,
   "id": "eb40b506-97dd-4f29-b733-b90eceb7ada8",
   "metadata": {},
   "outputs": [
    {
     "ename": "ZeroDivisionError",
     "evalue": "division by zero",
     "output_type": "error",
     "traceback": [
      "\u001b[0;31m---------------------------------------------------------------------------\u001b[0m",
      "\u001b[0;31mZeroDivisionError\u001b[0m                         Traceback (most recent call last)",
      "Cell \u001b[0;32mIn[2], line 2\u001b[0m\n\u001b[1;32m      1\u001b[0m \u001b[38;5;66;03m# Ejemplo de Excepción\u001b[39;00m\n\u001b[0;32m----> 2\u001b[0m \u001b[38;5;28mprint\u001b[39m(\u001b[38;5;241;43m10\u001b[39;49m\u001b[43m \u001b[49m\u001b[38;5;241;43m/\u001b[39;49m\u001b[43m \u001b[49m\u001b[38;5;241;43m0\u001b[39;49m)\n",
      "\u001b[0;31mZeroDivisionError\u001b[0m: division by zero"
     ]
    }
   ],
   "source": [
    "# Ejemplo de Excepción\n",
    "print(10 / 0)"
   ]
  },
  {
   "cell_type": "markdown",
   "id": "c6b14c90-0674-4245-832f-8866270aea3d",
   "metadata": {},
   "source": [
    "# Excepciones Comunes en Python\n",
    "\n",
    "Python define numerosas excepciones integradas que manejan varios escenarios. Aquí algunas de las excepciones más comunes:\n",
    "\n",
    "- `ValueError`: Se genera cuando una función recibe un argumento con el tipo correcto pero un valor inapropiado.\n",
    "- `TypeError`: Ocurre cuando una operación o función se aplica a un objeto de un tipo inapropiado.\n",
    "- `IndexError`: Se genera al acceder a un índice que no existe en una secuencia.\n",
    "- `KeyError`: Ocurre cuando no se encuentra una clave de diccionario.\n",
    "- `ZeroDivisionError`: Se genera cuando el segundo operando de una operación de división o módulo es cero.\n",
    "\n",
    "# Ejemplos de Excepciones Comunes"
   ]
  },
  {
   "cell_type": "code",
   "execution_count": 4,
   "id": "2778bd0d-2462-4de4-a011-083c8617415f",
   "metadata": {},
   "outputs": [
    {
     "ename": "ValueError",
     "evalue": "invalid literal for int() with base 10: 'abc'",
     "output_type": "error",
     "traceback": [
      "\u001b[0;31m---------------------------------------------------------------------------\u001b[0m",
      "\u001b[0;31mValueError\u001b[0m                                Traceback (most recent call last)",
      "Cell \u001b[0;32mIn[4], line 4\u001b[0m\n\u001b[1;32m      1\u001b[0m \u001b[38;5;66;03m# Ejemplos de Excepciones Comunes\u001b[39;00m\n\u001b[1;32m      2\u001b[0m \n\u001b[1;32m      3\u001b[0m \u001b[38;5;66;03m# ValueError\u001b[39;00m\n\u001b[0;32m----> 4\u001b[0m \u001b[38;5;28;43mint\u001b[39;49m\u001b[43m(\u001b[49m\u001b[38;5;124;43m\"\u001b[39;49m\u001b[38;5;124;43mabc\u001b[39;49m\u001b[38;5;124;43m\"\u001b[39;49m\u001b[43m)\u001b[49m\n",
      "\u001b[0;31mValueError\u001b[0m: invalid literal for int() with base 10: 'abc'"
     ]
    }
   ],
   "source": [
    "# ValueError\n",
    "int(\"abc\")"
   ]
  },
  {
   "cell_type": "code",
   "execution_count": 5,
   "id": "c3e25c49-7cfa-466b-b968-e1e04e506512",
   "metadata": {},
   "outputs": [
    {
     "ename": "TypeError",
     "evalue": "can only concatenate str (not \"int\") to str",
     "output_type": "error",
     "traceback": [
      "\u001b[0;31m---------------------------------------------------------------------------\u001b[0m",
      "\u001b[0;31mTypeError\u001b[0m                                 Traceback (most recent call last)",
      "Cell \u001b[0;32mIn[5], line 2\u001b[0m\n\u001b[1;32m      1\u001b[0m \u001b[38;5;66;03m# TypeError\u001b[39;00m\n\u001b[0;32m----> 2\u001b[0m \u001b[38;5;124;43m\"\u001b[39;49m\u001b[38;5;124;43m2\u001b[39;49m\u001b[38;5;124;43m\"\u001b[39;49m\u001b[43m \u001b[49m\u001b[38;5;241;43m+\u001b[39;49m\u001b[43m \u001b[49m\u001b[38;5;241;43m2\u001b[39;49m\n",
      "\u001b[0;31mTypeError\u001b[0m: can only concatenate str (not \"int\") to str"
     ]
    }
   ],
   "source": [
    "# TypeError\n",
    "\"2\" + 2"
   ]
  },
  {
   "cell_type": "code",
   "execution_count": 6,
   "id": "a6f20e7c-26cd-4c86-964b-549919310f2b",
   "metadata": {},
   "outputs": [
    {
     "ename": "IndexError",
     "evalue": "list index out of range",
     "output_type": "error",
     "traceback": [
      "\u001b[0;31m---------------------------------------------------------------------------\u001b[0m",
      "\u001b[0;31mIndexError\u001b[0m                                Traceback (most recent call last)",
      "Cell \u001b[0;32mIn[6], line 3\u001b[0m\n\u001b[1;32m      1\u001b[0m \u001b[38;5;66;03m# IndexError\u001b[39;00m\n\u001b[1;32m      2\u001b[0m a \u001b[38;5;241m=\u001b[39m [\u001b[38;5;241m1\u001b[39m, \u001b[38;5;241m2\u001b[39m, \u001b[38;5;241m3\u001b[39m]\n\u001b[0;32m----> 3\u001b[0m \u001b[43ma\u001b[49m\u001b[43m[\u001b[49m\u001b[38;5;241;43m3\u001b[39;49m\u001b[43m]\u001b[49m\n",
      "\u001b[0;31mIndexError\u001b[0m: list index out of range"
     ]
    }
   ],
   "source": [
    "# IndexError\n",
    "a = [1, 2, 3]\n",
    "a[3]"
   ]
  },
  {
   "cell_type": "code",
   "execution_count": 7,
   "id": "7d0d23ea-57d4-40f1-ada8-768e2fb5aa71",
   "metadata": {},
   "outputs": [
    {
     "ename": "KeyError",
     "evalue": "'c'",
     "output_type": "error",
     "traceback": [
      "\u001b[0;31m---------------------------------------------------------------------------\u001b[0m",
      "\u001b[0;31mKeyError\u001b[0m                                  Traceback (most recent call last)",
      "Cell \u001b[0;32mIn[7], line 3\u001b[0m\n\u001b[1;32m      1\u001b[0m \u001b[38;5;66;03m# KeyError\u001b[39;00m\n\u001b[1;32m      2\u001b[0m d \u001b[38;5;241m=\u001b[39m {\u001b[38;5;124m\"\u001b[39m\u001b[38;5;124ma\u001b[39m\u001b[38;5;124m\"\u001b[39m: \u001b[38;5;241m1\u001b[39m, \u001b[38;5;124m\"\u001b[39m\u001b[38;5;124mb\u001b[39m\u001b[38;5;124m\"\u001b[39m: \u001b[38;5;241m2\u001b[39m}\n\u001b[0;32m----> 3\u001b[0m \u001b[43md\u001b[49m\u001b[43m[\u001b[49m\u001b[38;5;124;43m\"\u001b[39;49m\u001b[38;5;124;43mc\u001b[39;49m\u001b[38;5;124;43m\"\u001b[39;49m\u001b[43m]\u001b[49m\n",
      "\u001b[0;31mKeyError\u001b[0m: 'c'"
     ]
    }
   ],
   "source": [
    "# KeyError\n",
    "d = {\"a\": 1, \"b\": 2}\n",
    "d[\"c\"]"
   ]
  },
  {
   "cell_type": "code",
   "execution_count": 8,
   "id": "1c892171-0c3f-4df0-90fa-ffcdf8a509b1",
   "metadata": {},
   "outputs": [
    {
     "ename": "ZeroDivisionError",
     "evalue": "division by zero",
     "output_type": "error",
     "traceback": [
      "\u001b[0;31m---------------------------------------------------------------------------\u001b[0m",
      "\u001b[0;31mZeroDivisionError\u001b[0m                         Traceback (most recent call last)",
      "Cell \u001b[0;32mIn[8], line 2\u001b[0m\n\u001b[1;32m      1\u001b[0m \u001b[38;5;66;03m# ZeroDivisionError\u001b[39;00m\n\u001b[0;32m----> 2\u001b[0m \u001b[38;5;241;43m100\u001b[39;49m\u001b[43m \u001b[49m\u001b[38;5;241;43m/\u001b[39;49m\u001b[43m \u001b[49m\u001b[38;5;241;43m0\u001b[39;49m\n",
      "\u001b[0;31mZeroDivisionError\u001b[0m: division by zero"
     ]
    }
   ],
   "source": [
    "# ZeroDivisionError\n",
    "100 / 0"
   ]
  },
  {
   "cell_type": "markdown",
   "id": "2f77c0dc-7e59-4c00-8e60-9ebe13c7aefd",
   "metadata": {},
   "source": [
    "# Llamar una Excepción\n",
    "\n",
    "Puedes usar la declaración `raise` para activar una excepción si ocurre cierta condición. Esto es útil para hacer cumplir ciertas condiciones dentro de tu código.\n",
    "\n",
    "Vamos a generar un `ValueError` si una variable no es positiva.\n"
   ]
  },
  {
   "cell_type": "code",
   "execution_count": 9,
   "id": "21f03675-a4fc-4e68-b459-3d3c009a5bfa",
   "metadata": {},
   "outputs": [
    {
     "ename": "ValueError",
     "evalue": "El valor debe ser positivo",
     "output_type": "error",
     "traceback": [
      "\u001b[0;31m---------------------------------------------------------------------------\u001b[0m",
      "\u001b[0;31mValueError\u001b[0m                                Traceback (most recent call last)",
      "Cell \u001b[0;32mIn[9], line 5\u001b[0m\n\u001b[1;32m      2\u001b[0m     \u001b[38;5;28;01mif\u001b[39;00m valor \u001b[38;5;241m<\u001b[39m\u001b[38;5;241m=\u001b[39m \u001b[38;5;241m0\u001b[39m:\n\u001b[1;32m      3\u001b[0m         \u001b[38;5;28;01mraise\u001b[39;00m \u001b[38;5;167;01mValueError\u001b[39;00m(\u001b[38;5;124m\"\u001b[39m\u001b[38;5;124mEl valor debe ser positivo\u001b[39m\u001b[38;5;124m\"\u001b[39m)\n\u001b[0;32m----> 5\u001b[0m \u001b[43mverificar_positivo\u001b[49m\u001b[43m(\u001b[49m\u001b[38;5;241;43m-\u001b[39;49m\u001b[38;5;241;43m10\u001b[39;49m\u001b[43m)\u001b[49m\n",
      "Cell \u001b[0;32mIn[9], line 3\u001b[0m, in \u001b[0;36mverificar_positivo\u001b[0;34m(valor)\u001b[0m\n\u001b[1;32m      1\u001b[0m \u001b[38;5;28;01mdef\u001b[39;00m \u001b[38;5;21mverificar_positivo\u001b[39m(valor):\n\u001b[1;32m      2\u001b[0m     \u001b[38;5;28;01mif\u001b[39;00m valor \u001b[38;5;241m<\u001b[39m\u001b[38;5;241m=\u001b[39m \u001b[38;5;241m0\u001b[39m:\n\u001b[0;32m----> 3\u001b[0m         \u001b[38;5;28;01mraise\u001b[39;00m \u001b[38;5;167;01mValueError\u001b[39;00m(\u001b[38;5;124m\"\u001b[39m\u001b[38;5;124mEl valor debe ser positivo\u001b[39m\u001b[38;5;124m\"\u001b[39m)\n",
      "\u001b[0;31mValueError\u001b[0m: El valor debe ser positivo"
     ]
    }
   ],
   "source": [
    "def verificar_positivo(valor):\n",
    "    if valor <= 0:\n",
    "        raise ValueError(\"El valor debe ser positivo\")\n",
    "\n",
    "verificar_positivo(-10)"
   ]
  },
  {
   "cell_type": "markdown",
   "id": "b34f8b75-3eeb-4f6a-917e-9c3b510feae1",
   "metadata": {},
   "source": [
    "# El Bloque de Código `try`/`except`\n",
    "\n",
    "Para manejar excepciones de manera elegante, puedes encerrar el código que podría lanzar una excepción en un bloque `try` y capturar la excepción usando un bloque `except`. Esto evita que el programa se caiga y permite un manejo de errores más amigable para el usuario.\n",
    "\n",
    "Aquí hay un ejemplo básico:\n"
   ]
  },
  {
   "cell_type": "code",
   "execution_count": 10,
   "id": "adbc2443-5c28-4899-8a2b-e34e6633a43f",
   "metadata": {},
   "outputs": [
    {
     "name": "stdout",
     "output_type": "stream",
     "text": [
      "¡No puedes dividir entre cero!\n"
     ]
    }
   ],
   "source": [
    "try:\n",
    "    # Código que podría causar una excepción\n",
    "    resultado = 10 / 0\n",
    "except ZeroDivisionError:\n",
    "    # Código que se ejecuta si ocurre la excepción\n",
    "    print(\"¡No puedes dividir entre cero!\")"
   ]
  },
  {
   "cell_type": "markdown",
   "id": "cd8956fa-c9a3-4f2f-a8ca-e190bac71c59",
   "metadata": {},
   "source": [
    "# El Bloque de Código `try`/`except`/`else`\n",
    "\n",
    "Se puede agregar un bloque `else` después de los bloques `except`. El código dentro del bloque `else` se ejecuta si no se generaron excepciones en el bloque `try`.\n",
    "\n",
    "Veamos un ejemplo donde intentamos convertir una entrada de usuario a un entero.\n"
   ]
  },
  {
   "cell_type": "code",
   "execution_count": 12,
   "id": "200bef0c-fbc6-4870-8a41-5b35920f5504",
   "metadata": {},
   "outputs": [
    {
     "name": "stdin",
     "output_type": "stream",
     "text": [
      "Ingresa un número:  1\n"
     ]
    },
    {
     "name": "stdout",
     "output_type": "stream",
     "text": [
      "Ingresaste: 1\n"
     ]
    }
   ],
   "source": [
    "try:\n",
    "    num = int(input(\"Ingresa un número: \"))\n",
    "except ValueError:\n",
    "    print(\"Por favor, ingresa un entero válido.\")\n",
    "else:\n",
    "    print(\"Ingresaste:\", num)"
   ]
  },
  {
   "cell_type": "markdown",
   "id": "676429d2-24e7-44a5-a46a-5d8c6a8b24a6",
   "metadata": {},
   "source": [
    "# El Bloque de Código `try`/`except`/`else`/`finally`\n",
    "\n",
    "Un bloque `finally` se puede usar para especificar un bloque de código que se ejecutará, no importa si se generó una excepción o no. Esto es útil para acciones de limpieza que deben ejecutarse bajo todas las circunstancias.\n",
    "\n",
    "Aquí hay un ejemplo que usa todas las partes de la construcción try-except.\n"
   ]
  },
  {
   "cell_type": "code",
   "execution_count": 13,
   "id": "907e3dd8-cef1-459e-9c38-746f553336e2",
   "metadata": {},
   "outputs": [
    {
     "name": "stdin",
     "output_type": "stream",
     "text": [
      "Ingresa un número:  fnf\n"
     ]
    },
    {
     "name": "stdout",
     "output_type": "stream",
     "text": [
      "Eso no es un número válido!\n",
      "Este bloque siempre se ejecuta.\n"
     ]
    }
   ],
   "source": [
    "try:\n",
    "    num = int(input(\"Ingresa un número: \"))\n",
    "except ValueError:\n",
    "    print(\"Eso no es un número válido!\")\n",
    "else:\n",
    "    print(\"Ingresaste:\", num)\n",
    "finally:\n",
    "    print(\"Este bloque siempre se ejecuta.\")"
   ]
  },
  {
   "cell_type": "markdown",
   "id": "11ddd01d-f0d1-48db-a11a-1bff6d212382",
   "metadata": {
    "jp-MarkdownHeadingCollapsed": true
   },
   "source": [
    "---\n",
    "\n",
    "# Conjunto de Problemas\n",
    "\n",
    "Ahora que has aprendido sobre las excepciones en Python, intenta resolver los siguientes problemas:\n",
    "\n",
    "1. Escribe una función que pida un entero y muestre el cuadrado de este. Usa un bucle `while` con un bloque `try`, `except`, `else` para tener en cuenta entradas incorrectas.\n",
    "2. Crea una excepción personalizada llamada `ErrorNumeroNegativo` y lánzala cuando se ingrese un número negativo en una función.\n",
    "3. Escribe un programa que maneje múltiples excepciones en un bloque `except`, por ejemplo, manejando `ValueError` y `TypeError` juntos.\n"
   ]
  },
  {
   "cell_type": "code",
   "execution_count": null,
   "id": "6941b3f3-2099-4d8c-a641-f04d502155c8",
   "metadata": {},
   "outputs": [],
   "source": []
  }
 ],
 "metadata": {
  "kernelspec": {
   "display_name": "Python 3 (ipykernel)",
   "language": "python",
   "name": "python3"
  },
  "language_info": {
   "codemirror_mode": {
    "name": "ipython",
    "version": 3
   },
   "file_extension": ".py",
   "mimetype": "text/x-python",
   "name": "python",
   "nbconvert_exporter": "python",
   "pygments_lexer": "ipython3",
   "version": "3.11.7"
  }
 },
 "nbformat": 4,
 "nbformat_minor": 5
}
