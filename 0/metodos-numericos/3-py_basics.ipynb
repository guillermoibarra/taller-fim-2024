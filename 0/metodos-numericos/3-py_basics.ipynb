{
 "cells": [
  {
   "cell_type": "markdown",
   "id": "71cb85be-2830-4b94-9604-390be8f5d992",
   "metadata": {},
   "source": [
    "---\n",
    "title: Introducción a Python\n",
    "subtitle: conceptos básicos\n",
    "license: CC-BY-4.0\n",
    "subject: Referencia\n",
    "venue: LIX Aniversario, FIQ - UMSNH\n",
    "biblio:\n",
    "  volume: '1'\n",
    "  issue: '3'\n",
    "authors:\n",
    "  - name: Guillermo Ibarra\n",
    "    email: guillermoibarra@gmail.com\n",
    "    corresponding: true\n",
    "    affiliations:\n",
    "      - Instituto Nacional de Investigaciones Nucleares\n",
    "date: 2024/4/16\n",
    "---\n",
    "\n",
    "Un paso fundamental en el aprendizaje de Python es utilizar el intérprete de Python para realizar cálculos básicos. Esta práctica ayuda a familiarizar a los nuevos usuarios con los operadores aritméticos y les introduce a las funcionalidades básicas de Python, ver {numref}`basic-arithmetic-operators`.\n",
    "\n",
    "```{list-table} Operadores Aritméticos de Python\n",
    ":header-rows: 1\n",
    ":name: basic-arithmetic-operators\n",
    "\n",
    "* - Operador\n",
    "  - Descripción\n",
    "  - Ejemplo\n",
    "  - Resultado\n",
    "* - `+`\n",
    "  - Suma\n",
    "  - `5 + 3`\n",
    "  - `8`\n",
    "* - `-`\n",
    "  - Resta\n",
    "  - `5 - 3`\n",
    "  - `2`\n",
    "* - `*`\n",
    "  - Multiplicación\n",
    "  - `5 * 3`\n",
    "  - `15`\n",
    "* - `/`\n",
    "  - División\n",
    "  - `5 / 3`\n",
    "  - `1.67`\n",
    "* - `//`\n",
    "  - División entera\n",
    "  - `5 // 3`\n",
    "  - `1`\n",
    "* - `%`\n",
    "  - Módulo o residuo\n",
    "  - `5 % 3`\n",
    "  - `2`\n",
    "* - `**`\n",
    "  - Exponenciación\n",
    "  - `5 ** 3`\n",
    "  - `125`\n",
    "```\n",
    "\n",
    "Considere el siguiente cálculo aritmético:"
   ]
  },
  {
   "cell_type": "code",
   "execution_count": 1,
   "id": "68fde26c-262a-434d-b985-7adf2bc87f8f",
   "metadata": {},
   "outputs": [
    {
     "data": {
      "text/plain": [
       "-9"
      ]
     },
     "execution_count": 1,
     "metadata": {},
     "output_type": "execute_result"
    }
   ],
   "source": [
    "- 3 ** 2"
   ]
  },
  {
   "cell_type": "code",
   "execution_count": 2,
   "id": "37cc2627-3bc1-446b-9dd4-aaff3b692206",
   "metadata": {},
   "outputs": [
    {
     "data": {
      "text/plain": [
       "9"
      ]
     },
     "execution_count": 2,
     "metadata": {},
     "output_type": "execute_result"
    }
   ],
   "source": [
    "(-3 ) ** 2"
   ]
  },
  {
   "cell_type": "markdown",
   "id": "96515109-e2d8-40f0-b3d6-b82c277f428d",
   "metadata": {},
   "source": [
    "El ejemplo anterior subraya la importancia de entender la prioridad de los operadores aritméticos, ver {nameref}`arithmetic-operators-priority`. Además, es importante señalar que se utilizan paréntesis para garantizar que las operaciones se realicen en el orden deseado.\n",
    "\n",
    "```{list-table} Orden de Prioridad de los Operadores Aritméticos de Python\n",
    ":header-rows: 1\n",
    ":name: arithmetic-operators-priority\n",
    "\n",
    "* - Operador\n",
    "  - Descripción\n",
    "  - Prioridad\n",
    "* - `**`\n",
    "  - Exponenciación\n",
    "  - 1 (más alta)\n",
    "* - `-` (unario)\n",
    "  - Menos unario (cambio de signo)\n",
    "  - 2\n",
    "* - `*`, `/`, `//`, `%`\n",
    "  - Multiplicación, división, división entera, módulo\n",
    "  - 3\n",
    "* - `+`, `-` (binario)\n",
    "  - Suma, resta\n",
    "  - 4 (más baja)\n",
    "```\n",
    "\n",
    "### Tipos de Datos de Python\n",
    "\n",
    "```{list-table}\n",
    ":header-rows: 1\n",
    ":name: basic-python-data-types\n",
    "\n",
    "* - Tipo de Dato\n",
    "  - Descripción\n",
    "  - Ejemplo\n",
    "* - `int`\n",
    "  - Tipo entero; números enteros sin parte fraccional\n",
    "  - `5`, `-3`, `0`\n",
    "* - `float`\n",
    "  - Número de punto flotante; números con punto decimal\n",
    "  - `3.14`, `-0.001`, `2.0`\n",
    "* - `str`\n",
    "  - Tipo cadena; una secuencia de caracteres\n",
    "  - `\"Hola\"`, `'Python'`\n",
    "* - `bool`\n",
    "  - Tipo booleano; representa dos valores: True y False\n",
    "  - `True`, `False`\n",
    "* - `list`\n",
    "  - Lista; una colección ordenada de elementos\n",
    "  - `[1, 2, 3]`, `['a', 'b', 'c']`\n",
    "* - `tuple`\n",
    "  - Tupla; una colección ordenada e inmutable de elementos\n",
    "  - `(1, 2, 3)`, `('a', 'b', 'c')`\n",
    "* - `dict`\n",
    "  - Diccionario; una colección desordenada de pares clave-valor\n",
    "  - `{'clave': 'valor', 'nombre': 'John'}`\n",
    "* - `set`\n",
    "  - Conjunto; una colección desordenada de elementos únicos\n",
    "  - `{1, 2, 3}`, `{'a', 'b', 'c'}`\n",
    "```\n",
    "\n",
    "### Operaciones Básicas con Listas\n",
    "\n",
    "```{list-table}\n",
    ":header-rows: 1\n",
    ":name: list-operations\n",
    "\n",
    "* - Operación\n",
    "  - Descripción\n",
    "  - Ejemplo de Código\n",
    "* - Agregar\n",
    "  - Añade un elemento al final de la lista.\n",
    "  - `lista.append(elemento)`\n",
    "* - Insertar\n",
    "  - Inserta un elemento en una posición especificada.\n",
    "  - `lista.insert(indice, elemento)`\n",
    "* - Eliminar\n",
    "  - Elimina la primera aparición de un elemento especificado.\n",
    "  - `lista.remove(elemento)`\n",
    "* - Sacar\n",
    "  - Elimina y devuelve un elemento en una posición dada.\n",
    "  - `lista.pop(indice)`\n",
    "* - Rebanar\n",
    "  - Recupera una sección de la lista.\n",
    "  - `lista[inicio:fin:paso]`\n",
    "* - Ordenar\n",
    "  - Ordena los elementos de la lista (en el mismo lugar).\n",
    "  - `lista.sort()`\n",
    "* - Revertir\n",
    "  - Invierte los elementos de la lista (en el mismo lugar).\n",
    "  - `lista.reverse()`\n",
    "* - Indexar\n",
    "  - Encuentra el índice de la primera aparición de un elemento.\n",
    "  - `lista.index(elemento)`\n",
    "* - Contar\n",
    "  - Cuenta el número de ocurrencias de un elemento.\n",
    "  - `lista.count(elemento)`\n",
    "* - Extender\n",
    "  - Añade elementos de otra lista o iterable.\n",
    "  - `lista.extend(iterable)`\n",
    "```\n",
    "\n",
    "### Operaciones Básicas con Diccionarios\n",
    "\n",
    "```{list-table}\n",
    ":header-rows: 1\n",
    ":name: dictionary-operations\n",
    "\n",
    "* - Operación\n",
    "  - Descripción\n",
    "  - Ejemplo de Código\n",
    "* - Agregar/Actualizar\n",
    "  - Añade o actualiza una entrada.\n",
    "  - `diccionario[clave] = valor`\n",
    "* - Eliminar\n",
    "  - Elimina una entrada por clave y devuelve su valor.\n",
    "  - `diccionario.pop(clave)`\n",
    "* - Obtener\n",
    "  - Recupera un valor por clave.\n",
    "  - `diccionario.get(clave, defecto)`\n",
    "* - Claves\n",
    "  - Devuelve un objeto de vista que muestra una lista de las claves del diccionario.\n",
    "  - `diccionario.keys()`\n",
    "* - Valores\n",
    "  - Devuelve un objeto de vista que muestra una lista de los valores del diccionario.\n",
    "  - `diccionario.values()`\n",
    "* - Elementos\n",
    "  - Devuelve un objeto de vista que muestra una lista de pares de tuplas clave-valor del diccionario.\n",
    "  - `diccionario.items()`\n",
    "* - Copiar\n",
    "  - Devuelve una copia superficial del diccionario.\n",
    "  - `diccionario.copy()`\n",
    "* - Limpiar\n",
    "  - Elimina todos los elementos del diccionario.\n",
    "  - `diccionario.clear()`\n",
    "* - Actualizar\n",
    "  - Actualiza el diccionario con los pares clave/valor de otro diccionario o un iterable de pares clave/valor.\n",
    "  - `diccionario.update(otro)`\n",
    "```\n",
    "\n",
    "### Otros Contenedores de Datos\n",
    "```{list-table}\n",
    ":header-rows: 1\n",
    ":name: additional-data-collections\n",
    "\n",
    "* - Tipo\n",
    "  - Descripción\n",
    "  - Ejemplo\n",
    "* - `tuple`\n",
    "  - Secuencia inmutable de elementos, similar a una lista pero no puede ser modificada después de su creación.\n",
    "  - `mi_tupla = (1, 2, 3)`\n",
    "* - `NamedTuple`\n",
    "  - Subclase de tupla que permite acceder a sus elementos mediante atributos nombrados, además de ser indexable e iterable.\n",
    "  - `from collections import namedtuple\n",
    "     Punto = namedtuple('Punto', ['x', 'y'])\n",
    "     p = Punto(11, y=22)`\n",
    "* - `deque`\n",
    "  - Contenedor similar a una lista con adiciones y extracciones rápidas en ambos extremos.\n",
    "  - `from collections import deque\n",
    "     mi_deque = deque([\"a\", \"b\", \"c\"])`\n",
    "* - `Counter`\n",
    "  - Subclase de diccionario para contar objetos hashables.\n",
    "  - `from collections import Counter\n",
    "     mi_contador = Counter('banana')`\n",
    "* - `OrderedDict`\n",
    "  - Subclase de diccionario que recuerda el orden en que se agregaron las entradas.\n",
    "  - `from collections import OrderedDict\n",
    "     mi_odict = OrderedDict(one=1, two=2)`\n",
    "* - `defaultdict`\n",
    "  - Subclase de diccionario que llama a una función de fábrica para proporcionar valores faltantes.\n",
    "  - `from collections import defaultdict\n",
    "     mi_ddict = defaultdict(int)`\n",
    "* - `array` (NumPy)\n",
    "  - Array de NumPy es una potente estructura de datos que permite operaciones numéricas eficientes sobre grandes cantidades de datos.\n",
    "  - `import numpy as np\n",
    "     mi_array = np.array([1, 2, 3])`\n",
    "```"
   ]
  },
  {
   "cell_type": "markdown",
   "id": "73b70298-a177-4d78-bcbf-fd68c43a2c24",
   "metadata": {},
   "source": [
    "### `dataclass`\n",
    "\n",
    "La `dataclass` de Python es un decorador que facilita la generación automática de métodos especiales como `__init__()`, `__repr__()` y `__eq__()` en clases, especialmente aquellas diseñadas principalmente para almacenar datos. Introducido en Python 3.7 a través del módulo `dataclasses`, una data class es útil cuando necesitas crear clases que son en su mayoría contenedores de campos de datos.\n",
    "\n",
    "#### Beneficios de Usar la `dataclass` de Python\n",
    "\n",
    "1. **Reducción de Código Redundante**: Tradicionalmente, las clases de Python requieren definiciones explícitas de métodos de inicialización y representación (`__init__`, `__repr__`). Las data classes generan estos automáticamente, reduciendo significativamente la cantidad de código repetitivo que tienes que escribir.\n",
    "\n",
    "2. **Mejora en la Legibilidad y Mantenibilidad**: Debido a que las data classes generan automáticamente métodos comunes y requieren menos código, hacen que las implementaciones de las clases sean más concisas y legibles. Menos líneas de código generalmente significan un mantenimiento más fácil.\n",
    "\n",
    "3. **Opción de Inmutabilidad**: Al establecer el parámetro `frozen` en `True`, las data classes pueden hacerse inmutables, lo que significa que una vez creada una instancia, no se puede alterar. Esto es similar a las tuplas y es útil para crear objetos que no están destinados a cambiar después de su creación, proporcionando un código más seguro y predecible.\n",
    "\n",
    "4. **Soporte para Sugerencias de Tipo**: Las data classes admiten sugerencias de tipo, mejorando la calidad y legibilidad del código. Las sugerencias de tipo permiten a los desarrolladores y herramientas inferir el tipo de datos que cada campo debe contener, lo cual es beneficioso para la depuración y el análisis estático.\n",
    "\n",
    "5. **Valores Predeterminados y Funciones de Fábrica**: Los campos en las data classes pueden tener valores predeterminados o usar funciones de fábrica para valores predeterminados. Esto facilita la creación de objetos con un estado predefinido común.\n",
    "\n",
    "6. **Soporte para Herencia**: Las data classes pueden extenderse al igual que las clases regulares. Esto permite el uso de polimorfismo y otras características de la programación orientada a objetos dentro de una estructura de data class.\n",
    "\n",
    "Utilizar una `dataclass` es particularmente ventajoso cuando necesitas una clase que sirva como un contenedor de datos sin la sobrecarga de escribir y mantener numerosas definiciones de métodos que no contribuyen a una funcionalidad adicional. Aquí tienes un ejemplo simple de una data class:\n"
   ]
  },
  {
   "cell_type": "code",
   "execution_count": 7,
   "id": "ef2b1b8e-ebfd-42e7-aa2d-a7703c634922",
   "metadata": {},
   "outputs": [
    {
     "name": "stdout",
     "output_type": "stream",
     "text": [
      "7.5\n"
     ]
    }
   ],
   "source": [
    "from dataclasses import dataclass\n",
    "\n",
    "@dataclass\n",
    "class Producto:\n",
    "    nombre: str\n",
    "    cantidad: int = 0\n",
    "    precio_por_unidad: float = 0.0\n",
    "\n",
    "    def costo_total(self) -> float:\n",
    "        return self.cantidad * self.precio_por_unidad\n",
    "\n",
    "# Uso\n",
    "producto = Producto(nombre=\"Manzana\", cantidad=30, precio_por_unidad=0.25)\n",
    "print(producto.costo_total())"
   ]
  },
  {
   "cell_type": "markdown",
   "id": "9b5ef768-a0d1-4815-be0e-ef9e1b473fe1",
   "metadata": {},
   "source": [
    "### Funciones en Python con Sugerencias de Tipo\n",
    "\n",
    "Las funciones en Python se utilizan para encapsular bloques de código que realizan una tarea específica, mejorando la reusabilidad y la organización del código. Python admite una variedad de funciones, desde funciones de utilidad simples hasta funciones más complejas que interactúan con diversos tipos de datos, incluidos colecciones y tipos de datos personalizados. Al incorporar sugerencias de tipo, los desarrolladores pueden hacer que sus funciones sean más claras y fáciles de entender.\n",
    "\n",
    "#### Sintaxis Básica de una Función\n",
    "Una función se define utilizando la palabra clave `def`, seguida de un nombre de función, paréntesis que contienen cualquier parámetro y dos puntos. El cuerpo de la función contiene el código que realiza la tarea. Aquí hay un ejemplo simple:"
   ]
  },
  {
   "cell_type": "code",
   "execution_count": 8,
   "id": "71c5208e-67ff-4472-a4aa-c99c640ac03a",
   "metadata": {},
   "outputs": [],
   "source": [
    "def saludar(nombre: str) -> str:\n",
    "    return f\"Hola, {nombre}!\""
   ]
  },
  {
   "cell_type": "markdown",
   "id": "cc18b1a8-6c56-422b-a7c3-3f022d3979a1",
   "metadata": {},
   "source": [
    "#### Función con Sugerencias de Tipo\n",
    "\n",
    "Las sugerencias de tipo ayudan a especificar el tipo esperado de los parámetros de la función y el tipo de valor que se espera que devuelva la función. Esto puede ser particularmente útil en proyectos más grandes para mantener la consistencia y claridad de tipo. Por ejemplo:"
   ]
  },
  {
   "cell_type": "code",
   "execution_count": 10,
   "id": "dbb04321-a957-4983-b6c6-372ed9f9087d",
   "metadata": {},
   "outputs": [],
   "source": [
    "from typing import List\n",
    "\n",
    "def sumar_numeros(numeros: List[int]) -> int:\n",
    "    return sum(numeros)"
   ]
  },
  {
   "cell_type": "markdown",
   "id": "8c70bc2a-94f0-4507-87d8-f9525aca813a",
   "metadata": {},
   "source": [
    "Y una función que manipula un diccionario podría verse así:"
   ]
  },
  {
   "cell_type": "code",
   "execution_count": 11,
   "id": "273e6382-9079-47f7-9d30-cb8bb312627e",
   "metadata": {},
   "outputs": [],
   "source": [
    "from typing import Dict\n",
    "\n",
    "def actualizar_registro(registros: Dict[str, int], clave: str, valor: int) -> None:\n",
    "    registros[clave] = valor\n"
   ]
  },
  {
   "cell_type": "markdown",
   "id": "2cfd2b07-9401-4bfb-ba0b-8331e2f92878",
   "metadata": {},
   "source": [
    "#### Funciones con Tipos de Datos Personalizados\n",
    "\n",
    "Puedes definir funciones que operen en tipos de datos personalizados definidos usando clases o dataclasses. Por ejemplo, usando una dataclass para un punto en un espacio 2D:"
   ]
  },
  {
   "cell_type": "code",
   "execution_count": 12,
   "id": "7330814d-d6c2-4b6f-8214-4e2b335832cc",
   "metadata": {},
   "outputs": [],
   "source": [
    "from dataclasses import dataclass\n",
    "\n",
    "@dataclass\n",
    "class Punto:\n",
    "    x: int\n",
    "    y: int\n",
    "\n",
    "def mover_punto(punto: Punto, dx: int, dy: int) -> Punto:\n",
    "    return Punto(punto.x + dx, punto.y + dy)\n"
   ]
  },
  {
   "cell_type": "markdown",
   "id": "84dcbce5-8dcc-4b48-b01e-7408ad7d003c",
   "metadata": {},
   "source": [
    "Esta función toma un objeto `Punto` y lo mueve por `dx` y `dy`.\n",
    "\n",
    "#### Devolver Múltiples Valores\n",
    "Las funciones en Python pueden devolver múltiples valores como tuplas, lo cual es bastante útil cuando necesitas devolver más de un resultado calculado:"
   ]
  },
  {
   "cell_type": "code",
   "execution_count": 13,
   "id": "83525067-e450-4500-b151-e91b2cd138ef",
   "metadata": {},
   "outputs": [],
   "source": [
    "from typing import Tuple, List\n",
    "\n",
    "def min_max(numeros: List[int]) -> Tuple[int, int]:\n",
    "    return min(numeros), max(numeros)\n"
   ]
  },
  {
   "cell_type": "markdown",
   "id": "59ad53fa-036c-4db8-ad57-382bf5f43203",
   "metadata": {},
   "source": [
    "### Comprensión del Control de Flujo en Python\n",
    "\n",
    "El control de flujo en Python implica el uso de declaraciones condicionales, bucles y llamadas a funciones para dirigir la ejecución del código. Esta lección se centra en las declaraciones condicionales, específicamente en las estructuras `if`, `if/else`, y `if/elif/else`, así como en los operadores relacionales y las tablas de verdad que son fundamentales para tomar decisiones dentro de estas declaraciones.\n",
    "\n",
    "#### Declaraciones Condicionales\n",
    "Las declaraciones condicionales permiten ejecutar ciertos fragmentos de código dependiendo de si una condición es verdadera o no.\n",
    "\n",
    "1. **Declaración `if`**: Ejecuta un bloque de código solo si la condición especificada es verdadera."
   ]
  },
  {
   "cell_type": "code",
   "execution_count": 14,
   "id": "6eb6c4ee-2b8a-455b-9b1a-ed6ee0fef542",
   "metadata": {},
   "outputs": [
    {
     "name": "stdout",
     "output_type": "stream",
     "text": [
      "x no es mayor que 5\n"
     ]
    }
   ],
   "source": [
    "x = 4\n",
    "if x > 5:\n",
    "    print(\"x es mayor que 5\")\n",
    "else:\n",
    "    print(\"x no es mayor que 5\")\n"
   ]
  },
  {
   "cell_type": "markdown",
   "id": "0563b6a4-304f-4b41-b128-86d70a54c523",
   "metadata": {},
   "source": [
    "2. **Declaración `if/elif/else`**: Prueba múltiples condiciones en secuencia y ejecuta un bloque de código tan pronto como una de las condiciones se evalúa como verdadera. Si ninguna de las condiciones es verdadera, se ejecuta el código del bloque else."
   ]
  },
  {
   "cell_type": "code",
   "execution_count": 15,
   "id": "ffe5a630-81ca-46b0-aa91-e4e9a9cdfc85",
   "metadata": {},
   "outputs": [
    {
     "name": "stdout",
     "output_type": "stream",
     "text": [
      "x es igual a 5\n"
     ]
    }
   ],
   "source": [
    "x = 5\n",
    "if x > 5:\n",
    "    print(\"x es mayor que 5\")\n",
    "elif x == 5:\n",
    "    print(\"x es igual a 5\")\n",
    "else:\n",
    "    print(\"x es menor que 5\")\n"
   ]
  },
  {
   "cell_type": "markdown",
   "id": "b8937040-d84b-4304-9d73-ae213252714e",
   "metadata": {},
   "source": [
    "#### Operadores Relacionales\n",
    "Los operadores relacionales se utilizan para comparar valores. Es importante entender estos al escribir declaraciones condicionales:\n",
    "\n",
    "```{list-table}\n",
    ":header-rows: 1\n",
    ":name: relational-operators\n",
    "\n",
    "* - Operador\n",
    "  - Descripción\n",
    "* - `==`\n",
    "  - Igual a\n",
    "* - `!=`\n",
    "  - No igual a\n",
    "* - `>`\n",
    "  - Mayor que\n",
    "* - `<`\n",
    "  - Menor que\n",
    "* - `>=`\n",
    "  - Mayor o igual que\n",
    "* - `<=`\n",
    "  - Menor o igual que\n",
    "```\n",
    "\n",
    "#### Tablas de Verdad\n",
    "Entender las tablas de verdad ayuda a saber cómo interactúan diferentes condiciones, especialmente cuando se combinan con operadores lógicos (and, or, not). Aquí está una tabla de verdad básica para estos operadores:\n",
    "\n",
    "```{list-table}\n",
    ":header-rows: 1\n",
    ":name: truth-table\n",
    "\n",
    "* - `A`\n",
    "  - `B`\n",
    "  - `A and B`\n",
    "  - `A or B`\n",
    "  - `not A`\n",
    "* - True\n",
    "  - True\n",
    "  - True\n",
    "  - True\n",
    "  - False\n",
    "* - True\n",
    "  - False\n",
    "  - False\n",
    "  - True\n",
    "  - False\n",
    "* - False\n",
    "  - True\n",
    "  - False\n",
    "  - True\n",
    "  - True\n",
    "* - False\n",
    "  - False\n",
    "  - False\n",
    "  - False\n",
    "  - True\n",
    "```\n",
    "\n",
    "#### Elementos Adicionales\n",
    "1. **Declaraciones Condicionales Anidadas:** Puedes colocar declaraciones condicionales dentro de otras, conocido como anidamiento."
   ]
  },
  {
   "cell_type": "code",
   "execution_count": 18,
   "id": "f6c6915d-d7e2-437c-8aaa-6511c6f2cfbd",
   "metadata": {},
   "outputs": [
    {
     "name": "stdout",
     "output_type": "stream",
     "text": [
      "x es mayor que 5 y par\n"
     ]
    }
   ],
   "source": [
    "x = 10\n",
    "if x > 5:\n",
    "    if x % 2 == 0:\n",
    "        print(\"x es mayor que 5 y par\")\n",
    "    else:\n",
    "        print(\"x es mayor que 5 e impar\")"
   ]
  },
  {
   "cell_type": "markdown",
   "id": "68a7ca68-8e2c-4a16-8715-5ec69a08ed54",
   "metadata": {},
   "source": [
    "2. **Expresiones Condicionales (Operadores Ternarios):** Python permite asignaciones condicionales en una línea."
   ]
  },
  {
   "cell_type": "code",
   "execution_count": 19,
   "id": "8e2893b9-944c-4264-a3f6-54366a772300",
   "metadata": {},
   "outputs": [
    {
     "name": "stdout",
     "output_type": "stream",
     "text": [
      "Adiós\n"
     ]
    }
   ],
   "source": [
    "x = 5\n",
    "mensaje = \"Hola\" if x > 5 else \"Adiós\"\n",
    "print(mensaje)\n"
   ]
  },
  {
   "cell_type": "code",
   "execution_count": null,
   "id": "e88e03b8-cf71-411c-af18-13f506aa74c2",
   "metadata": {},
   "outputs": [],
   "source": []
  }
 ],
 "metadata": {
  "kernelspec": {
   "display_name": "Python 3 (ipykernel)",
   "language": "python",
   "name": "python3"
  },
  "language_info": {
   "codemirror_mode": {
    "name": "ipython",
    "version": 3
   },
   "file_extension": ".py",
   "mimetype": "text/x-python",
   "name": "python",
   "nbconvert_exporter": "python",
   "pygments_lexer": "ipython3",
   "version": "3.12.5"
  }
 },
 "nbformat": 4,
 "nbformat_minor": 5
}
