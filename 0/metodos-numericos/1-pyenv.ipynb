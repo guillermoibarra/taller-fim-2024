{
 "cells": [
  {
   "cell_type": "markdown",
   "id": "86c7da9e-f244-4f02-9069-5cadfb53efc1",
   "metadata": {},
   "source": [
    "---\n",
    "title: Manejo de Versiones de Python\n",
    "subtitle: con pyenv\n",
    "license: CC-BY-4.0\n",
    "subject: Referencia\n",
    "venue: LIX Aniversario, FIQ - UMSNH\n",
    "biblio:\n",
    "  volume: '1'\n",
    "  issue: '1'\n",
    "authors:\n",
    "  - name: Guillermo Ibarra\n",
    "    email: guillermoibarra@gmail.com\n",
    "    corresponding: true\n",
    "    affiliations:\n",
    "      - Instituto Nacional de Investigaciones Nucleares\n",
    "date: 2024/4/16\n",
    "---\n",
    "\n",
    "Python es reconocido por su flexibilidad y su vibrante comunidad de código abierto, la cual ha producido una multitud de versiones, desde los lanzamientos oficiales 2.x y 3.x hasta distribuciones de Python de terceros como Anaconda, Miniconda y PyPy. Además, ciertas bibliotecas o módulos pueden ser desarrollados para versiones específicas de Python.\n",
    "\n",
    "Esta diversidad requiere una herramienta eficiente para gestionar las versiones de Python y, hasta cierto punto, los entornos virtuales. Para este propósito, se recomienda ampliamente [pyenv](https://github.com/pyenv/pyenv). Pyenv ya está instalado como parte del curso; sin embargo, si necesitas instalarlo por tu cuenta, sigue las instrucciones en la página de GitHub.\n",
    "\n",
    "#### Creando un Entorno Virtual\n",
    "\n",
    "Cuando se desarrollan proyectos, generalmente es una buena práctica mantener un entorno de desarrollo separado. Esto se puede lograr de manera efectiva utilizando `pyenv` junto con el complemento `pyenv-virtualenv` a través de los siguientes pasos:\n",
    "\n",
    "1. Instala la versión de Python deseada utilizando `pyenv install <version>`.\n",
    "2. Crea un entorno virtual para esa versión de Python con `pyenv virtualenv <version> <env-name>`.\n",
    "3. Activa el entorno virtual usando `pyenv activate <env-name>`.\n",
    "4. Instala los paquetes o bibliotecas de Python deseados dentro del entorno activado con `pip`.\n",
    "5. Desactiva el entorno utilizando pyenv deactivate cuando hayas terminado con `pyenv deactivate`.\n",
    "\n",
    "Esta secuencia asegura que tus actividades de desarrollo estén contenidas dentro de un entorno controlado, reduciendo el riesgo de conflictos y manteniendo la integridad del sistema.\n",
    "\n",
    ":::{tip} Ver las Versiones de Python Disponible\n",
    ":class: dropdown\n",
    "Se puede ver las versiones de python disponible para descargar con `pyenv` al usar:\n",
    "\n",
    "```text\n",
    "pyenv install --list\n",
    "```\n",
    ":::\n",
    "\n",
    "#### Otros Comandos Útiles de `pyenv`\n",
    "\n",
    "Ver las versiones de python instalados:\n",
    "```text\n",
    "pyenv versions\n",
    "```\n",
    "\n",
    "Ver los enternos virtuales instalados:\n",
    "```text\n",
    "pyenv virtualenvs\n",
    "```\n",
    "\n",
    "Establecer el entorno para un directorio\n",
    "```text\n",
    "pyenv local <env-name>\n",
    "```"
   ]
  },
  {
   "cell_type": "code",
   "execution_count": null,
   "id": "690acf50-42e7-4ee5-b615-b85f7d856c27",
   "metadata": {},
   "outputs": [],
   "source": []
  }
 ],
 "metadata": {
  "kernelspec": {
   "display_name": "Python 3 (ipykernel)",
   "language": "python",
   "name": "python3"
  },
  "language_info": {
   "codemirror_mode": {
    "name": "ipython",
    "version": 3
   },
   "file_extension": ".py",
   "mimetype": "text/x-python",
   "name": "python",
   "nbconvert_exporter": "python",
   "pygments_lexer": "ipython3",
   "version": "3.12.2"
  }
 },
 "nbformat": 4,
 "nbformat_minor": 5
}
