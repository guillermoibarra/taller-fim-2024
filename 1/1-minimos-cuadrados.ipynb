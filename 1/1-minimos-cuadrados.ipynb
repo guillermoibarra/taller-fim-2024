{
 "cells": [
  {
   "cell_type": "markdown",
   "id": "4f76e279-1d6b-412b-8dc6-53a397f2e16e",
   "metadata": {},
   "source": [
    "# Ajuste de Datos y el Método de Mínimos Cuadrados.\n",
    "\n",
    "## 1. Introducción\n",
    "\n",
    "<br>\n",
    "Objetivo: Introducir el concepto de ajuste de datos y el método de mínimos cuadrados.\n",
    "\n",
    "---\n",
    "\n",
    "### 1.1 Por Qué el Ajuste de Datos es Importante\n",
    "\n",
    "El **ajuste de datos** es el proceso de construir una función o modelo que represente mejor un conjunto de puntos de datos observados. Esto es crucial en ingeniería y ciencia por varias razones:\n",
    "\n",
    "- **Modelado Predictivo**: Permite hacer predicciones sobre eventos futuros basados en datos actuales.\n",
    "- **Estimación de Parámetros**: Ayuda a determinar los parámetros subyacentes que gobiernan un sistema o proceso.\n",
    "- **Análisis de Datos**: Facilita la comprensión de las relaciones entre variables, el descubrimiento de tendencias y la prueba de hipótesis.\n",
    "\n",
    "**Escenarios Comunes**:\n",
    "\n",
    "- **Análisis de Datos Experimentales**: Ajustar curvas a datos experimentales para encontrar tendencias o validar modelos teóricos.\n",
    "- **Procesamiento de Señales**: Filtrar el ruido de las señales para extraer información significativa.\n",
    "- **Machine Learning/Aprendizaje Automático**: Forma la base de los algoritmos de regresión utilizados para predicciones.\n",
    "\n",
    "**Aplicaciones en el Mundo Real**:\n",
    "\n",
    "- **Ingeniería**: Diseñar sistemas modelando relaciones tensión-deformación en materiales.\n",
    "- **Física**: Determinar la trayectoria de objetos en movimiento.\n",
    "- **Economía**: Prever tendencias del mercado e indicadores económicos.\n",
    "- **Medicina**: Analizar relaciones dosis-respuesta en farmacología."
   ]
  },
  {
   "cell_type": "markdown",
   "id": "cce841f7-16b4-4ce5-bf2b-a24112ec8115",
   "metadata": {},
   "source": [
    "### 1.2 Introducción a los Mínimos Cuadrados\n",
    "\n",
    "El **método de mínimos cuadrados** es un enfoque estándar en análisis de regresión para aproximar la solución de sistemas sobredeterminados (más ecuaciones que incógnitas). Minimiza la suma de los cuadrados de los residuos—las diferencias entre los valores observados y calculados.\n",
    "\n",
    "**¿Por Qué Mínimos Cuadrados?**\n",
    "\n",
    "- **Optimalidad**: Proporciona el mejor estimador lineal insesgado bajo ciertas condiciones (teorema de Gauss-Markov).\n",
    "- **Simplicidad**: Ofrece un enfoque computacional directo.\n",
    "- **Versatilidad**: Aplicable a modelos lineales y no lineales, así como a conjuntos de datos complejos.\n",
    "\n",
    "### Ilustración Visual\n"
   ]
  },
  {
   "cell_type": "code",
   "execution_count": 1,
   "id": "af68967d-61c1-4dfb-bbba-64cb73805d05",
   "metadata": {},
   "outputs": [
    {
     "data": {
      "image/png": "[encoded data removed]",
      "text/plain": [
       "<Figure size 640x480 with 1 Axes>"
      ]
     },
     "metadata": {},
     "output_type": "display_data"
    }
   ],
   "source": [
    "import numpy as np\n",
    "import matplotlib.pyplot as plt\n",
    "\n",
    "# Generar datos sintéticos\n",
    "np.random.seed(42)\n",
    "x = np.linspace(0, 10, 20)\n",
    "y = 2.5 * x + np.random.normal(0, 5, size=x.shape)\n",
    "\n",
    "# Graficar los datos\n",
    "plt.scatter(x, y, color='blue', label='Puntos de Datos')\n",
    "plt.title('Datos Observados')\n",
    "plt.xlabel('x')\n",
    "plt.ylabel('y')\n",
    "plt.legend()\n",
    "plt.show()"
   ]
  },
  {
   "cell_type": "markdown",
   "id": "b85c189a-c9bf-4692-9ed7-30910ccd866c",
   "metadata": {},
   "source": [
    "#### Ejemplo con pandas\n",
    "\n",
    "También es posible importar datos para su análisis en Python. Un formato común para datos es el CSV, o valores separados por comas, y para trabajar con este tipo de archivo podemos usar el módulo `pandas`. En este ejemplo, utilizaremos datos de [Kaggle](https://www.kaggle.com/datasets/man526/watermelon-price-prediction-from-weight/data)."
   ]
  },
  {
   "cell_type": "code",
   "execution_count": 4,
   "id": "f860dd40-2ad8-41ea-84e6-f68147444b13",
   "metadata": {},
   "outputs": [
    {
     "data": {
      "text/html": [
       "<div>\n",
       "<style scoped>\n",
       "    .dataframe tbody tr th:only-of-type {\n",
       "        vertical-align: middle;\n",
       "    }\n",
       "\n",
       "    .dataframe tbody tr th {\n",
       "        vertical-align: top;\n",
       "    }\n",
       "\n",
       "    .dataframe thead th {\n",
       "        text-align: right;\n",
       "    }\n",
       "</style>\n",
       "<table border=\"1\" class=\"dataframe\">\n",
       "  <thead>\n",
       "    <tr style=\"text-align: right;\">\n",
       "      <th></th>\n",
       "      <th>Weight</th>\n",
       "      <th>Price</th>\n",
       "    </tr>\n",
       "  </thead>\n",
       "  <tbody>\n",
       "    <tr>\n",
       "      <th>0</th>\n",
       "      <td>1</td>\n",
       "      <td>50</td>\n",
       "    </tr>\n",
       "    <tr>\n",
       "      <th>1</th>\n",
       "      <td>2</td>\n",
       "      <td>100</td>\n",
       "    </tr>\n",
       "    <tr>\n",
       "      <th>2</th>\n",
       "      <td>3</td>\n",
       "      <td>140</td>\n",
       "    </tr>\n",
       "    <tr>\n",
       "      <th>3</th>\n",
       "      <td>4</td>\n",
       "      <td>180</td>\n",
       "    </tr>\n",
       "    <tr>\n",
       "      <th>4</th>\n",
       "      <td>5</td>\n",
       "      <td>220</td>\n",
       "    </tr>\n",
       "  </tbody>\n",
       "</table>\n",
       "</div>"
      ],
      "text/plain": [
       "   Weight  Price\n",
       "0       1     50\n",
       "1       2    100\n",
       "2       3    140\n",
       "3       4    180\n",
       "4       5    220"
      ]
     },
     "execution_count": 4,
     "metadata": {},
     "output_type": "execute_result"
    }
   ],
   "source": [
    "import pandas as pd\n",
    "import matplotlib.pyplot as plt\n",
    "\n",
    "df = pd.read_csv(\"datos/melon.csv\")\n",
    "\n",
    "df.head()"
   ]
  },
  {
   "cell_type": "code",
   "execution_count": 5,
   "id": "c4d16914-e38a-4558-b970-cc1056ebaab7",
   "metadata": {},
   "outputs": [
    {
     "data": {
      "text/html": [
       "<div>\n",
       "<style scoped>\n",
       "    .dataframe tbody tr th:only-of-type {\n",
       "        vertical-align: middle;\n",
       "    }\n",
       "\n",
       "    .dataframe tbody tr th {\n",
       "        vertical-align: top;\n",
       "    }\n",
       "\n",
       "    .dataframe thead th {\n",
       "        text-align: right;\n",
       "    }\n",
       "</style>\n",
       "<table border=\"1\" class=\"dataframe\">\n",
       "  <thead>\n",
       "    <tr style=\"text-align: right;\">\n",
       "      <th></th>\n",
       "      <th>Weight</th>\n",
       "      <th>Price</th>\n",
       "    </tr>\n",
       "  </thead>\n",
       "  <tbody>\n",
       "    <tr>\n",
       "      <th>count</th>\n",
       "      <td>10.00000</td>\n",
       "      <td>10.000000</td>\n",
       "    </tr>\n",
       "    <tr>\n",
       "      <th>mean</th>\n",
       "      <td>5.50000</td>\n",
       "      <td>235.000000</td>\n",
       "    </tr>\n",
       "    <tr>\n",
       "      <th>std</th>\n",
       "      <td>3.02765</td>\n",
       "      <td>117.968922</td>\n",
       "    </tr>\n",
       "    <tr>\n",
       "      <th>min</th>\n",
       "      <td>1.00000</td>\n",
       "      <td>50.000000</td>\n",
       "    </tr>\n",
       "    <tr>\n",
       "      <th>25%</th>\n",
       "      <td>3.25000</td>\n",
       "      <td>150.000000</td>\n",
       "    </tr>\n",
       "    <tr>\n",
       "      <th>50%</th>\n",
       "      <td>5.50000</td>\n",
       "      <td>235.000000</td>\n",
       "    </tr>\n",
       "    <tr>\n",
       "      <th>75%</th>\n",
       "      <td>7.75000</td>\n",
       "      <td>330.000000</td>\n",
       "    </tr>\n",
       "    <tr>\n",
       "      <th>max</th>\n",
       "      <td>10.00000</td>\n",
       "      <td>390.000000</td>\n",
       "    </tr>\n",
       "  </tbody>\n",
       "</table>\n",
       "</div>"
      ],
      "text/plain": [
       "         Weight       Price\n",
       "count  10.00000   10.000000\n",
       "mean    5.50000  235.000000\n",
       "std     3.02765  117.968922\n",
       "min     1.00000   50.000000\n",
       "25%     3.25000  150.000000\n",
       "50%     5.50000  235.000000\n",
       "75%     7.75000  330.000000\n",
       "max    10.00000  390.000000"
      ]
     },
     "execution_count": 5,
     "metadata": {},
     "output_type": "execute_result"
    }
   ],
   "source": [
    "df.describe()"
   ]
  },
  {
   "cell_type": "code",
   "execution_count": 6,
   "id": "d9604277-0402-486d-a1ef-87b2fded6bb7",
   "metadata": {},
   "outputs": [
    {
     "name": "stdout",
     "output_type": "stream",
     "text": [
      "<class 'pandas.core.frame.DataFrame'>\n",
      "RangeIndex: 10 entries, 0 to 9\n",
      "Data columns (total 2 columns):\n",
      " #   Column  Non-Null Count  Dtype\n",
      "---  ------  --------------  -----\n",
      " 0   Weight  10 non-null     int64\n",
      " 1   Price   10 non-null     int64\n",
      "dtypes: int64(2)\n",
      "memory usage: 292.0 bytes\n"
     ]
    }
   ],
   "source": [
    "df.info()"
   ]
  },
  {
   "cell_type": "markdown",
   "id": "6ca58be4-6153-40bf-9a0b-c7c258c35927",
   "metadata": {},
   "source": [
    "Información adicional: [pandas](https://pandas.pydata.org/docs/user_guide/index.html)"
   ]
  },
  {
   "cell_type": "code",
   "execution_count": 8,
   "id": "1167fdcd-5526-420c-9d06-b723e43e66f2",
   "metadata": {},
   "outputs": [
    {
     "data": {
      "image/png": "[encoded data removed]",
      "text/plain": [
       "<Figure size 1000x600 with 1 Axes>"
      ]
     },
     "metadata": {},
     "output_type": "display_data"
    }
   ],
   "source": [
    "plt.figure(figsize = (10,6))\n",
    "plt.scatter(df['Weight'], df['Price'])\n",
    "plt.title('Watermelon Prices')\n",
    "plt.xlabel('Weight (grams)')\n",
    "plt.ylabel('Price')\n",
    "plt.show()"
   ]
  },
  {
   "cell_type": "markdown",
   "id": "2cb66c50-2a59-4614-b459-39c987395416",
   "metadata": {},
   "source": [
    "## 2. Entendiendo los Mínimos Cuadrados\n",
    "\n",
    "<br>\n",
    "\n",
    "**Objetivo**: Explicar la base matemática del método de mínimos cuadrados.\n",
    "\n",
    "---\n",
    "\n",
    "### 2.1 El Problema de Mínimos Cuadrados\n",
    "\n",
    "Dado un conjunto de observaciones $(x_i, y_i)$, buscamos encontrar una función \\(f(x)\\) que mejor se ajuste a los datos. El **método de mínimos cuadrados** minimiza la suma de los cuadrados de los residuos (las diferencias entre los valores observados y estimados):\n",
    "\n",
    "$$\n",
    "\\min_{\\beta} S(\\beta) = \\min_{\\beta} \\sum_{i=1}^{n} [y_i - f(x_i, \\beta)]^2\n",
    "$$\n",
    "\n",
    "### 2.2 Sistemas Sobredeterminados\n",
    "\n",
    "Un **sistema sobredeterminado** tiene más ecuaciones que incógnitas (\\(n > m\\)). En el contexto del ajuste de datos:\n",
    "\n",
    "- **Ecuaciones**: Cada punto de datos proporciona una ecuación.\n",
    "- **Incógnitas**: Parámetros del modelo que deseamos estimar.\n",
    "\n",
    "**Implicaciones**:\n",
    "\n",
    "- **No hay Solución Exacta**: Por lo general, no existe un conjunto de parámetros que satisfaga todas las ecuaciones perfectamente debido al ruido y errores de medición.\n",
    "- **Mejor Aproximación**: Los mínimos cuadrados encuentran los parámetros que mejor aproximan los datos en el sentido del error cuadrático medio.\n",
    "\n",
    "### 2.3 Derivación Matemática de las Ecuaciones Normales\n",
    "\n",
    "#### Representación del Modelo Lineal\n",
    "\n",
    "Podemos expresar la relación entre variables en forma matricial:\n",
    "\n",
    "$$\n",
    "\\mathbf{Y} = \\mathbf{X} \\beta + \\epsilon\n",
    "$$\n",
    "\n",
    "- $\\mathbf{Y}$: Vector $n \\times 1$ de valores observados.\n",
    "- $\\mathbf{X}$: Matriz de diseño $n \\times m$ (cada columna representa una variable predictora).\n",
    "- $\\beta$: Vector $m \\times 1$ de parámetros desconocidos.\n",
    "- $\\epsilon$: Vector $n \\times 1$ de errores o residuos.\n",
    "\n",
    "#### Función Objetivo\n",
    "\n",
    "Nuestro objetivo es minimizar la suma de los cuadrados de los residuos:\n",
    "\n",
    "$$\n",
    "S(\\beta) = (\\mathbf{y} - \\mathbf{X} \\beta)^\\top (\\mathbf{y} - \\mathbf{X} \\beta)\n",
    "$$\n",
    "\n",
    "#### Proceso de Minimización\n",
    "\n",
    "1. **Calcular el Gradiente**:\n",
    "\n",
    "   $$\n",
    "   \\nabla_\\beta S(\\beta) = -2 \\mathbf{X}^\\top (\\mathbf{y} - \\mathbf{X} \\beta)\n",
    "   $$\n",
    "\n",
    "2. **Igualar el Gradiente a Cero**:\n",
    "\n",
    "   $$\n",
    "   \\mathbf{X}^\\top \\mathbf{X} \\beta = \\mathbf{X}^\\top \\mathbf{y}\n",
    "   $$\n",
    "\n",
    "   Estas son conocidas como las **ecuaciones normales**.\n",
    "\n",
    "3. **Resolver para $\\beta$**:\n",
    "\n",
    "   Si $\\mathbf{X}^\\top \\mathbf{X}$ es invertible:\n",
    "\n",
    "   $$\n",
    "   \\beta = (\\mathbf{X}^\\top \\mathbf{X})^{-1} \\mathbf{X}^\\top \\mathbf{y}\n",
    "   $$"
   ]
  },
  {
   "cell_type": "markdown",
   "id": "17656237-6c29-488b-9adc-c12c5008a5b1",
   "metadata": {},
   "source": [
    "### Ejemplo: Regresión Lineal Simple\n",
    "\n",
    "Vamos a trabajar a través de un ejemplo para solidificar nuestra comprensión.\n",
    "\n",
    "**Datos Dados**:"
   ]
  },
  {
   "cell_type": "code",
   "execution_count": 9,
   "id": "50209162-7810-4f60-b5ad-a3a715985354",
   "metadata": {},
   "outputs": [
    {
     "data": {
      "image/png": "[encoded data removed]",
      "text/plain": [
       "<Figure size 640x480 with 1 Axes>"
      ]
     },
     "metadata": {},
     "output_type": "display_data"
    }
   ],
   "source": [
    "import numpy as np\n",
    "import matplotlib.pyplot as plt\n",
    "\n",
    "# Observaciones\n",
    "x = np.array([1, 2, 3, 4, 5])\n",
    "y = np.array([5, 7, 9, 11, 13])\n",
    "\n",
    "# Graficar datos\n",
    "plt.scatter(x, y, color='blue')\n",
    "plt.title('Datos de Muestra')\n",
    "plt.xlabel('x')\n",
    "plt.ylabel('y')\n",
    "plt.show()"
   ]
  },
  {
   "cell_type": "markdown",
   "id": "e9e85397-860a-4975-bda9-8a6a984dbe2d",
   "metadata": {},
   "source": [
    "#### Construcción de la Matriz de Diseño\n",
    "\n",
    "Para un modelo lineal $y = \\beta_0 + \\beta_1 x$, la matriz de diseño $\\mathbf{X}$ es:\n",
    "\n",
    "$$\n",
    "\\mathbf{X} = \\begin{bmatrix}\n",
    "1 & x_1 \\\\\n",
    "1 & x_2 \\\\\n",
    "\\vdots & \\vdots \\\\\n",
    "1 & x_n\n",
    "\\end{bmatrix}\n",
    "$$"
   ]
  },
  {
   "cell_type": "code",
   "execution_count": 11,
   "id": "6f23bf48-9c27-45ac-919f-d698d7c0258f",
   "metadata": {},
   "outputs": [],
   "source": [
    "# Agregar una columna de unos para el término independiente\n",
    "X = np.column_stack((np.ones(len(x)), x))"
   ]
  },
  {
   "cell_type": "markdown",
   "id": "af68a13e-e97b-403f-b96b-dda29e32a2f2",
   "metadata": {},
   "source": [
    "#### Resolviendo las Ecuaciones Normales\n"
   ]
  },
  {
   "cell_type": "code",
   "execution_count": 12,
   "id": "e9150c94-a159-4c14-b62c-d29e8e1c389a",
   "metadata": {},
   "outputs": [
    {
     "name": "stdout",
     "output_type": "stream",
     "text": [
      "Intersección (beta_0): 3.0000000000000098\n",
      "Pendiente (beta_1): 2.000000000000001\n"
     ]
    }
   ],
   "source": [
    "# Calcular X transpuesta X y X transpuesta y\n",
    "XtX = X.T @ X\n",
    "Xty = X.T @ y\n",
    "\n",
    "# Calcular beta\n",
    "beta = np.linalg.inv(XtX) @ Xty\n",
    "\n",
    "print(f\"Intersección (beta_0): {beta[0]}\")\n",
    "print(f\"Pendiente (beta_1): {beta[1]}\")"
   ]
  },
  {
   "cell_type": "markdown",
   "id": "18290986-f7a9-4101-a23e-311af98b29af",
   "metadata": {},
   "source": [
    "#### Graficando la Línea Ajustada"
   ]
  },
  {
   "cell_type": "code",
   "execution_count": 13,
   "id": "e64c6a7a-ac93-4442-8316-2a8884c8c2e9",
   "metadata": {},
   "outputs": [
    {
     "data": {
      "image/png": "[encoded data removed]",
      "text/plain": [
       "<Figure size 640x480 with 1 Axes>"
      ]
     },
     "metadata": {},
     "output_type": "display_data"
    }
   ],
   "source": [
    "# Valores predichos\n",
    "y_pred = X @ beta\n",
    "\n",
    "# Graficar\n",
    "plt.scatter(x, y, color='blue', label='Datos Observados')\n",
    "plt.plot(x, y_pred, color='red', label='Línea Ajustada')\n",
    "plt.title('Ajuste de Mínimos Cuadrados')\n",
    "plt.xlabel('x')\n",
    "plt.ylabel('y')\n",
    "plt.legend()\n",
    "plt.show()"
   ]
  },
  {
   "cell_type": "markdown",
   "id": "d2b42bd0-fde8-4294-9f53-b00e0543e22d",
   "metadata": {},
   "source": [
    "#### 2.5 Análisis de Residuos\n",
    "\n",
    "- **Definición**: El residuo para cada observación es $ r_i = y_i - \\hat{y}_i $.\n",
    "- **Propósito**: Analizar los residuos ayuda a evaluar la calidad del ajuste e identificar patrones que el modelo no captura.\n",
    "  \n",
    "#### 2.6 Propiedades de los Estimadores de Mínimos Cuadrados\n",
    "\n",
    "- **Insesgadez**: Bajo supuestos clásicos, los estimadores de mínimos cuadrados son insesgados.\n",
    "- **Eficiencia**: Tienen la varianza más pequeña entre todos los estimadores lineales insesgados (teorema de Gauss-Markov).\n",
    "\n",
    "### Limitaciones y Consideraciones\n",
    "\n",
    "- **Sensibilidad a Valores Atípicos**: Los mínimos cuadrados pueden ser fuertemente influenciados por valores atípicos, lo que puede sesgar los resultados.\n",
    "- **Multicolinealidad**: Cuando las variables predictoras están altamente correlacionadas, puede conducir a inestabilidad en las estimaciones de los coeficientes.\n",
    "\n",
    "\n",
    "### Visualización Interactiva\n",
    "\n",
    "Utilizar `ipywidgets` para crear deslizadores que ajusten los valores de \\(\\beta_0\\) y \\(\\beta_1\\) y muestren cómo cambia la línea ajustada en tiempo real.\n"
   ]
  },
  {
   "cell_type": "code",
   "execution_count": 15,
   "id": "a5ee6e53-2f00-451b-beca-5a6de229a22c",
   "metadata": {},
   "outputs": [
    {
     "data": {
      "application/vnd.jupyter.widget-view+json": {
       "model_id": "6baf053732f04f70838f76b67c2d5884",
       "version_major": 2,
       "version_minor": 0
      },
      "text/plain": [
       "interactive(children=(FloatSlider(value=0.0, description='beta_0', max=10.0, min=-10.0, step=0.5), FloatSlider…"
      ]
     },
     "metadata": {},
     "output_type": "display_data"
    }
   ],
   "source": [
    "from ipywidgets import interact\n",
    "\n",
    "def plot_fit(beta_0, beta_1):\n",
    "    y_pred = beta_0 + beta_1 * x\n",
    "    plt.scatter(x, y, color='blue', label='Datos Observados')\n",
    "    plt.plot(x, y_pred, color='red', label=f'Línea: y = {beta_0} + {beta_1}x')\n",
    "    plt.title('Ajuste Interactivo de Mínimos Cuadrados')\n",
    "    plt.xlabel('x')\n",
    "    plt.ylabel('y')\n",
    "    plt.legend()\n",
    "    plt.show()\n",
    "\n",
    "interact(plot_fit, beta_0=(-10, 10, 0.5), beta_1=(-5, 5, 0.1));"
   ]
  },
  {
   "cell_type": "markdown",
   "id": "e9e0a3f9-7576-4684-9691-655bca794065",
   "metadata": {},
   "source": [
    "### Puntos Clave\n",
    "\n",
    "- **Fundamento Matemático**: Entender la derivación ayuda a comprender cómo y por qué funciona el método.\n",
    "- **Enfoque Computacional**: Implementar el método en código solidifica los conceptos teóricos.\n",
    "- **Pensamiento Crítico**: Reconocer las limitaciones asegura una aplicación apropiada en escenarios del mundo real.\n"
   ]
  },
  {
   "cell_type": "code",
   "execution_count": null,
   "id": "b25b46c1-9c7e-42ca-b05c-1d467275fde0",
   "metadata": {},
   "outputs": [],
   "source": []
  }
 ],
 "metadata": {
  "kernelspec": {
   "display_name": "Python 3 (ipykernel)",
   "language": "python",
   "name": "python3"
  },
  "language_info": {
   "codemirror_mode": {
    "name": "ipython",
    "version": 3
   },
   "file_extension": ".py",
   "mimetype": "text/x-python",
   "name": "python",
   "nbconvert_exporter": "python",
   "pygments_lexer": "ipython3",
   "version": "3.12.5"
  }
 },
 "nbformat": 4,
 "nbformat_minor": 5
}
