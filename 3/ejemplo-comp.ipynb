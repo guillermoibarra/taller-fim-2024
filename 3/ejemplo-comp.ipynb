{
 "cells": [
  {
   "cell_type": "markdown",
   "id": "0eb6fcf7-7a69-47ad-b59a-dc7f05f05b5b",
   "metadata": {},
   "source": [
    "# Comparación de técnicas"
   ]
  },
  {
   "cell_type": "code",
   "execution_count": 1,
   "id": "2bd37b62-bf2c-4b4a-bddc-85f9f6a83f6e",
   "metadata": {},
   "outputs": [],
   "source": [
    "def euler_method(f, x0, y0, h, n):\n",
    "    # Create lists to store x and y values\n",
    "    x = [x0]\n",
    "    y = [y0]\n",
    "    \n",
    "    # Euler algorithm\n",
    "    for i in range(n):\n",
    "        y.append(y[i] + h * f(x[i], y[i]))\n",
    "        x.append(x[i] + h)\n",
    "    \n",
    "    return x, y\n",
    "\n",
    "def modified_euler_method(f, x0, y0, h, n):\n",
    "    x_values = [x0]\n",
    "    y_values = [y0]\n",
    "    \n",
    "    for i in range(n):\n",
    "        # Predictor step\n",
    "        y_predict = y_values[-1] + h * f(x_values[-1], y_values[-1])\n",
    "        \n",
    "        # Corrector step\n",
    "        x_next = x_values[-1] + h\n",
    "        y_correct = y_values[-1] + (h / 2) * (f(x_values[-1], y_values[-1]) + f(x_next, y_predict))\n",
    "        \n",
    "        # Append the next values of x and y\n",
    "        x_values.append(x_next)\n",
    "        y_values.append(y_correct)\n",
    "    \n",
    "    return x_values, y_values\n",
    "\n",
    "def runge_kutta_4(f, x0, y0, h, n):\n",
    "    x_values = [x0]\n",
    "    y_values = [y0]\n",
    "    \n",
    "    # Iterate over each step\n",
    "    for i in range(n):\n",
    "        # Calculate intermediate slopes\n",
    "        k1 = h * f(x_values[i], y_values[i])\n",
    "        k2 = h * f(x_values[i] + h/2, y_values[i] + k1/2)\n",
    "        k3 = h * f(x_values[i] + h/2, y_values[i] + k2/2)\n",
    "        k4 = h * f(x_values[i] + h, y_values[i] + k3)\n",
    "        \n",
    "        # Compute the next value of y\n",
    "        y_next = y_values[i] + (k1 + 2*k2 + 2*k3 + k4) / 6\n",
    "        x_next = x_values[i] + h\n",
    "        \n",
    "        # Append the next values of x and y\n",
    "        x_values.append(x_next)\n",
    "        y_values.append(y_next)\n",
    "    \n",
    "    return x_values, y_values"
   ]
  },
  {
   "cell_type": "code",
   "execution_count": null,
   "id": "e263fa2d-9746-43d1-8425-695b5470b2cd",
   "metadata": {},
   "outputs": [],
   "source": []
  }
 ],
 "metadata": {
  "kernelspec": {
   "display_name": "Python 3 (ipykernel)",
   "language": "python",
   "name": "python3"
  },
  "language_info": {
   "codemirror_mode": {
    "name": "ipython",
    "version": 3
   },
   "file_extension": ".py",
   "mimetype": "text/x-python",
   "name": "python",
   "nbconvert_exporter": "python",
   "pygments_lexer": "ipython3",
   "version": "3.12.5"
  }
 },
 "nbformat": 4,
 "nbformat_minor": 5
}
