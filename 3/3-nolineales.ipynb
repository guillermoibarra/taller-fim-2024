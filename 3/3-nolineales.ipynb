{
 "cells": [
  {
   "cell_type": "markdown",
   "id": "ee728d0a-a86a-49a3-a3fd-64d82557446a",
   "metadata": {},
   "source": [
    "# Introducción a las Ecuaciones No Lineales y el Método de Newton con Python\n",
    "\n",
    "En este cuaderno, exploraremos las ecuaciones no lineales y técnicas numéricas para resolverlas, enfocándonos en el método de Newton-Raphson. Aplicaremos estos conceptos en ejemplos prácticos utilizando Python.\n",
    "\n",
    "---\n",
    "\n",
    "**Objetivos:**\n",
    "\n",
    "- Comprender qué son las ecuaciones no lineales y su importancia en ingeniería.\n",
    "- Introducir métodos numéricos para resolver ecuaciones no lineales.\n",
    "- Detallar el método de Newton-Raphson y su implementación en Python.\n",
    "- Aplicar estos métodos a problemas de ingeniería reales.\n",
    "\n",
    "## 2. Fundamentos de Ecuaciones No Lineales\n",
    "\n",
    "### 2.1 Definición y Características\n",
    "\n",
    "Una **ecuación no lineal** es una ecuación en la que la variable desconocida aparece con exponente distinto de uno, en funciones trascendentales (como seno, coseno, exponencial), o multiplicada por sí misma o por otra variable desconocida.\n",
    "\n",
    "**Forma general:**\n",
    "\n",
    "$$\n",
    "f(x) = 0\n",
    "$$\n",
    "\n",
    "Donde $ f(x) $ es una función no lineal.\n",
    "\n",
    "### 2.2 Ejemplos de Ecuaciones No Lineales en Ingeniería\n",
    "\n",
    "- **Análisis Estructural:** Cálculo de deformaciones en materiales no lineales.\n",
    "- **Circuitos Eléctricos:** Comportamiento de diodos y transistores.\n",
    "- **Dinámica de Fluidos:** Ecuación de Bernoulli.\n",
    "- **Mecánica:** Ecuaciones de movimiento con fuerzas no lineales.\n",
    "\n",
    "---\n",
    "\n"
   ]
  },
  {
   "cell_type": "markdown",
   "id": "914f7e10-0706-412c-a7eb-980213af2d5a",
   "metadata": {},
   "source": [
    "## 3. Métodos Numéricos para Resolver Ecuaciones No Lineales\n",
    "\n",
    "Las ecuaciones no lineales, en muchos casos, no tienen soluciones analíticas cerradas. Por lo tanto, utilizamos métodos numéricos iterativos para aproximar sus soluciones.\n",
    "\n",
    "### 3.1 Motivación para Métodos Iterativos\n",
    "\n",
    "- **Complejidad Analítica:** Las soluciones exactas pueden ser complicadas o inexistentes.\n",
    "- **Necesidad Práctica:** Obtener soluciones aproximadas con precisión suficiente para aplicaciones ingenieriles.\n",
    "\n",
    "### 3.2 Concepto de Convergencia\n",
    "\n",
    "- **Convergencia:** Proceso por el cual una secuencia de aproximaciones se acerca a la solución real.\n",
    "- **Criterios de Parada:** Establecer tolerancias para determinar cuándo una aproximación es aceptable.\n",
    "\n",
    "---\n"
   ]
  },
  {
   "cell_type": "markdown",
   "id": "65098019-ae59-4035-bfbc-cd619edec078",
   "metadata": {},
   "source": [
    "## 4. El Método de Newton-Raphson\n",
    "\n",
    "### 4.1 Derivación del Método\n",
    "\n",
    "El método de Newton-Raphson es un procedimiento iterativo basado en la expansión en serie de Taylor de la función $ f(x) $.\n",
    "\n",
    "**Fórmula Iterativa:**\n",
    "\n",
    "$$\n",
    "x_{n+1} = x_n - \\frac{f(x_n)}{f'(x_n)}\n",
    "$$\n",
    "\n",
    "Donde:\n",
    "- $ x_n $ es la aproximación actual.\n",
    "- $ x_{n+1} $ es la siguiente aproximación.\n",
    "- $ f'(x_n) $ es la derivada de $ f(x) $ evaluada en $ x_n $.\n",
    "\n",
    "### 4.2 Interpretación Geométrica\n",
    "\n",
    "- El método utiliza la tangente en el punto $ (x_n, f(x_n)) $ para aproximar la raíz.\n",
    "- Visualmente, se traza una línea tangente a la curva $ f(x) $ y se encuentra su intersección con el eje $ x $.\n",
    "\n",
    "### 4.3 Algoritmo Paso a Paso\n",
    "\n",
    "1. **Inicialización:** Escoger una estimación inicial $ x_0 $.\n",
    "2. **Iteración:** Calcular $ x_{n+1} $ usando la fórmula iterativa.\n",
    "3. **Verificación:** Evaluar si $ |x_{n+1} - x_n| < \\text{tolerancia} $ o $ |f(x_{n+1})| < \\text{tolerancia} $.\n",
    "4. **Repetición:** Si no se cumple el criterio de parada, volver al paso 2.\n",
    "\n",
    "---\n"
   ]
  },
  {
   "cell_type": "markdown",
   "id": "6edbc5e0-faf8-48de-890f-773059715034",
   "metadata": {},
   "source": [
    "### Ejemplo 1: Encontrar la raíz de $ f(x) = x^2 - 2 $\n",
    "\n",
    "Queremos encontrar la raíz positiva de la ecuación:\n",
    "\n",
    "$$\n",
    "x^2 - 2 = 0\n",
    "$$\n",
    "\n",
    "La solución exacta es $ x = \\sqrt{2} \\approx 1.4142 $.\n",
    "\n",
    "Implementaremos el método de Newton-Raphson para aproximar esta raíz.\n"
   ]
  },
  {
   "cell_type": "code",
   "execution_count": 1,
   "id": "c4b5caea-13cb-40c0-a606-a7f361a711a8",
   "metadata": {},
   "outputs": [
    {
     "name": "stdout",
     "output_type": "stream",
     "text": [
      "Convergencia alcanzada en 5 iteraciones.\n",
      "La raíz aproximada es: 1.4142135623730951\n"
     ]
    }
   ],
   "source": [
    "def newton_raphson(f, df, x0, tol=1e-6, max_iter=100):\n",
    "    \"\"\"\n",
    "    Método de Newton-Raphson para encontrar la raíz de f(x) = 0.\n",
    "\n",
    "    Parámetros:\n",
    "    f -- función a evaluar\n",
    "    df -- derivada de la función\n",
    "    x0 -- aproximación inicial\n",
    "    tol -- tolerancia para criterio de parada\n",
    "    max_iter -- número máximo de iteraciones\n",
    "\n",
    "    Retorna:\n",
    "    x -- aproximación de la raíz\n",
    "    \"\"\"\n",
    "    x = x0\n",
    "    for i in range(max_iter):\n",
    "        fx = f(x)\n",
    "        dfx = df(x)\n",
    "        if dfx == 0:\n",
    "            print(\"Derivada cero. Método falla.\")\n",
    "            return None\n",
    "        x_new = x - fx / dfx\n",
    "        if abs(x_new - x) < tol:\n",
    "            print(f\"Convergencia alcanzada en {i+1} iteraciones.\")\n",
    "            return x_new\n",
    "        x = x_new\n",
    "    print(\"Número máximo de iteraciones alcanzado.\")\n",
    "    return x\n",
    "\n",
    "# Definir la función y su derivada\n",
    "def f(x):\n",
    "    return x**2 - 2\n",
    "\n",
    "def df(x):\n",
    "    return 2*x\n",
    "\n",
    "# Aproximación inicial\n",
    "x0 = 1.0\n",
    "\n",
    "# Llamar al método\n",
    "raiz = newton_raphson(f, df, x0)\n",
    "print(f\"La raíz aproximada es: {raiz}\")\n"
   ]
  },
  {
   "cell_type": "markdown",
   "id": "5f59f8ea-1fa5-43f0-98ff-d4312390d72a",
   "metadata": {},
   "source": [
    "**Verificación:**\n",
    "\n",
    "$$\n",
    "f(\\text{raíz}) = ({1.4142135623746899})^2 - 2 \\approx 4.5106 \\times 10^{-12}\n",
    "$$\n",
    "\n",
    "La función evaluada en la raíz aproximada es prácticamente cero.\n"
   ]
  },
  {
   "cell_type": "markdown",
   "id": "a7191bc6-618c-48cb-b027-feceda5aaa76",
   "metadata": {},
   "source": [
    "### Ejemplo 2: Resolver el sistema\n",
    "\n",
    "$$\n",
    "\\begin{cases}\n",
    "x^2 + y^2 = 4 \\\\\n",
    "e^x + y = 1\n",
    "\\end{cases}\n",
    "$$\n",
    "\n",
    "Utilizaremos el método de Newton-Raphson multidimensional.\n"
   ]
  },
  {
   "cell_type": "code",
   "execution_count": 2,
   "id": "03e82391-9c2c-4ba1-8ec7-2e65361647a3",
   "metadata": {},
   "outputs": [
    {
     "name": "stdout",
     "output_type": "stream",
     "text": [
      "Convergencia alcanzada en 9 iteraciones.\n",
      "La solución aproximada es: x = -1.8162640688251508, y = 0.8373677998912477\n"
     ]
    }
   ],
   "source": [
    "import numpy as np\n",
    "\n",
    "def newton_raphson_system(F, J, X0, tol=1e-6, max_iter=100):\n",
    "    \"\"\"\n",
    "    Método de Newton-Raphson para sistemas de ecuaciones no lineales.\n",
    "\n",
    "    Parámetros:\n",
    "    F -- función que retorna el vector de ecuaciones evaluadas en X\n",
    "    J -- función que retorna la matriz Jacobiana evaluada en X\n",
    "    X0 -- vector de aproximación inicial\n",
    "    tol -- tolerancia para criterio de parada\n",
    "    max_iter -- número máximo de iteraciones\n",
    "\n",
    "    Retorna:\n",
    "    X -- vector aproximado de soluciones\n",
    "    \"\"\"\n",
    "    X = X0\n",
    "    for i in range(max_iter):\n",
    "        FX = F(X)\n",
    "        JX = J(X)\n",
    "        try:\n",
    "            delta = np.linalg.solve(JX, -FX)\n",
    "        except np.linalg.LinAlgError:\n",
    "            print(\"Jacobiano singular. Método falla.\")\n",
    "            return None\n",
    "        X_new = X + delta\n",
    "        if np.linalg.norm(delta, ord=2) < tol:\n",
    "            print(f\"Convergencia alcanzada en {i+1} iteraciones.\")\n",
    "            return X_new\n",
    "        X = X_new\n",
    "    print(\"Número máximo de iteraciones alcanzado.\")\n",
    "    return X\n",
    "\n",
    "# Definir la función vectorial y su Jacobiano\n",
    "def F(X):\n",
    "    x, y = X\n",
    "    return np.array([x**2 + y**2 - 4,\n",
    "                     np.exp(x) + y - 1])\n",
    "\n",
    "def J(X):\n",
    "    x, y = X\n",
    "    return np.array([[2*x, 2*y],\n",
    "                     [np.exp(x), 1]])\n",
    "\n",
    "# Aproximación inicial\n",
    "X0 = np.array([0.5, 0.5])\n",
    "\n",
    "# Llamar al método\n",
    "solucion = newton_raphson_system(F, J, X0)\n",
    "print(f\"La solución aproximada es: x = {solucion[0]}, y = {solucion[1]}\")\n"
   ]
  },
  {
   "cell_type": "markdown",
   "id": "f6ae1c51-cbae-4009-ba24-5d9ca320de43",
   "metadata": {},
   "source": [
    "**Verificación:**\n",
    "\n",
    "- $ x^2 + y^2 - 4 \\approx -3.667 $ (No es cero)\n",
    "\n",
    "Esto indica que nuestra solución no es válida o que hemos convergido a un punto incorrecto. Intentemos con otra aproximación inicial.\n",
    "\n",
    "---\n",
    "\n",
    "**Nueva Aproximación Inicial:**\n",
    "\n",
    "Probemos con $ X0 = [1.5, -1.0] $.\n",
    "\n"
   ]
  },
  {
   "cell_type": "code",
   "execution_count": 3,
   "id": "3d3e1ba6-be46-4a25-be03-9958ce372c40",
   "metadata": {},
   "outputs": [
    {
     "name": "stdout",
     "output_type": "stream",
     "text": [
      "Convergencia alcanzada en 5 iteraciones.\n",
      "La solución aproximada es: x = 1.0041687384746592, y = -1.7296372870258698\n",
      "f1 = -8.881784197001252e-16\n",
      "f2 = 2.220446049250313e-16\n"
     ]
    }
   ],
   "source": [
    "# Nueva aproximación inicial\n",
    "X0 = np.array([1.5, -1.0])\n",
    "\n",
    "# Llamar al método nuevamente\n",
    "solucion = newton_raphson_system(F, J, X0)\n",
    "print(f\"La solución aproximada es: x = {solucion[0]}, y = {solucion[1]}\")\n",
    "\n",
    "# Verificación\n",
    "x_sol, y_sol = solucion\n",
    "print(f\"f1 = {x_sol**2 + y_sol**2 - 4}\")\n",
    "print(f\"f2 = {np.exp(x_sol) + y_sol - 1}\")\n"
   ]
  },
  {
   "cell_type": "markdown",
   "id": "7f0304ec-1408-4b62-bda0-ecf55c29844f",
   "metadata": {},
   "source": [
    "**Interpretación:**\n",
    "\n",
    "- $ f1 \\approx 0 $\n",
    "- $ f2 = 0 $\n",
    "\n",
    "La solución satisface el sistema de ecuaciones, indicando que hemos encontrado una raíz válida.\n"
   ]
  },
  {
   "cell_type": "markdown",
   "id": "96d0c4a4-7939-4e72-9d7f-f197beb8a85c",
   "metadata": {},
   "source": [
    "## 6. Otros Métodos para Resolver Ecuaciones No Lineales\n",
    "\n",
    "### 6.1 Método de la Secante\n",
    "\n",
    "- Similar al método de Newton, pero no requiere la derivada.\n",
    "- Utiliza una aproximación de la derivada mediante diferencias finitas.\n",
    "\n",
    "### 6.2 Método de Bisección\n",
    "\n",
    "- Método robusto que garantiza convergencia si la función cambia de signo en el intervalo.\n",
    "- Más lento que el método de Newton.\n",
    "\n",
    "### 6.3 Comparación de Métodos\n",
    "\n",
    "| Método        | Ventajas                       | Desventajas                      |\n",
    "|---------------|--------------------------------|----------------------------------|\n",
    "| Newton-Raphson| Convergencia rápida            | Requiere cálculo de derivadas    |\n",
    "| Secante       | No requiere derivadas          | Convergencia más lenta que Newton|\n",
    "| Bisección     | Convergencia garantizada       | Convergencia lenta               |\n",
    "\n",
    "---\n"
   ]
  },
  {
   "cell_type": "markdown",
   "id": "d17fa95f-3b97-4770-be80-734669ea176f",
   "metadata": {},
   "source": [
    "## 7. Aplicaciones en Ingeniería\n",
    "\n",
    "### 7.1 Análisis de Circuitos No Lineales\n",
    "\n",
    "- **Diodos y Transistores:** Las características corriente-voltaje son no lineales.\n",
    "- **Ejemplo:** Encontrar el punto de operación (Q-point) en un circuito con diodo.\n",
    "\n",
    "### 7.2 Mecánica: Problemas de Equilibrio No Lineal\n",
    "\n",
    "- **Columnas Bajo Carga:** La ecuación de equilibrio puede ser no lineal debido a la geometría o material.\n",
    "- **Ejemplo:** Determinar la deformación en una viga con material no lineal.\n",
    "\n",
    "---\n",
    "\n",
    "**Ejemplo Práctico:**\n",
    "\n",
    "Supongamos un circuito simple donde la corriente a través de un diodo está dada por la ecuación:\n",
    "\n",
    "$$\n",
    "I = I_s (e^{\\frac{V}{nV_T}} - 1)\n",
    "$$\n",
    "\n",
    "Donde:\n",
    "- $ I_s $ es la corriente de saturación.\n",
    "- $ V $ es el voltaje a través del diodo.\n",
    "- $ n $ es el factor de idealidad.\n",
    "- $ V_T $ es el voltaje térmico.\n",
    "\n",
    "Queremos encontrar $ V $ para un valor dado de $ I $.\n",
    "\n",
    "Implementaremos el método de Newton-Raphson para resolver esta ecuación no lineal.\n"
   ]
  },
  {
   "cell_type": "code",
   "execution_count": 5,
   "id": "a5a55fcc-e19d-44b5-a19d-b48ff65f54b3",
   "metadata": {},
   "outputs": [
    {
     "name": "stdout",
     "output_type": "stream",
     "text": [
      "Convergencia alcanzada en 10 iteraciones.\n",
      "El voltaje a través del diodo es: 0.5536142765154706 V\n"
     ]
    }
   ],
   "source": [
    "# Parámetros\n",
    "Is = 1e-12  # Corriente de saturación\n",
    "n = 1.0     # Factor de idealidad\n",
    "Vt = 25.85e-3  # Voltaje térmico (a temperatura ambiente)\n",
    "I_target = 2e-3  # Corriente deseada (2 mA)\n",
    "\n",
    "# Definir la función y su derivada\n",
    "def f(V):\n",
    "    return Is * (np.exp(V / (n * Vt)) - 1) - I_target\n",
    "\n",
    "def df(V):\n",
    "    return (Is / (n * Vt)) * np.exp(V / (n * Vt))\n",
    "\n",
    "# Aproximación inicial\n",
    "V0 = 0.7  # Voltaje típico de diodo\n",
    "\n",
    "# Llamar al método\n",
    "V_solution = newton_raphson(f, df, V0)\n",
    "print(f\"El voltaje a través del diodo es: {V_solution} V\")\n"
   ]
  },
  {
   "cell_type": "code",
   "execution_count": null,
   "id": "f6fb20c7-b5fd-40d3-8314-e8d45395af4c",
   "metadata": {},
   "outputs": [],
   "source": []
  }
 ],
 "metadata": {
  "kernelspec": {
   "display_name": "Python 3 (ipykernel)",
   "language": "python",
   "name": "python3"
  },
  "language_info": {
   "codemirror_mode": {
    "name": "ipython",
    "version": 3
   },
   "file_extension": ".py",
   "mimetype": "text/x-python",
   "name": "python",
   "nbconvert_exporter": "python",
   "pygments_lexer": "ipython3",
   "version": "3.12.5"
  }
 },
 "nbformat": 4,
 "nbformat_minor": 5
}
